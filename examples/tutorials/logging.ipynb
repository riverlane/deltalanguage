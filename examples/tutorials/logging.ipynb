{
 "metadata": {
  "language_info": {
   "codemirror_mode": {
    "name": "ipython",
    "version": 3
   },
   "file_extension": ".py",
   "mimetype": "text/x-python",
   "name": "python",
   "nbconvert_exporter": "python",
   "pygments_lexer": "ipython3",
   "version": "3.8.5-final"
  },
  "orig_nbformat": 2,
  "kernelspec": {
   "name": "python3",
   "display_name": "Python 3.8.5 64-bit",
   "metadata": {
    "interpreter": {
     "hash": "767d51c1340bd893661ea55ea3124f6de3c7a262a8b4abca0554b478b1e2ff90"
    }
   }
  }
 },
 "nbformat": 4,
 "nbformat_minor": 2,
 "cells": [
  {
   "source": [
    "# Logging and tracing within Deltaflow\n",
    "\n",
    "In this notebook, we demonstrate methods of logging and tracing of Deltaflow\n",
    "graphs while running in the Python Simulator `DeltaPySimulator`.\n",
    "\n",
    "## Logging\n",
    "\n",
    "Let us start with logging techniques first."
   ],
   "cell_type": "markdown",
   "metadata": {}
  },
  {
   "cell_type": "code",
   "execution_count": 1,
   "metadata": {},
   "outputs": [],
   "source": [
    "import logging\n",
    "\n",
    "from deltalanguage.lib import make_generator, StateSaver\n",
    "from deltalanguage.logging import make_logger\n",
    "from deltalanguage.runtime import DeltaPySimulator, DeltaRuntimeExit\n",
    "from deltalanguage.wiring import (DeltaBlock, DeltaGraph,\n",
    "                                  Interactive, PyInteractiveNode)"
   ]
  },
  {
   "source": [
    "### Python simulator logging\n",
    "\n",
    "The first way we can log messages is at the Python Simulator level.\n",
    "At this level, we can log the creation of queues and threads, and log each tick of the main thread.\n",
    "When the program terminates, or when an error occurs in a node, this is logged as well.\n",
    "\n",
    "To demonstrate this, below we create a simple graph, consisting of one node which adds\n",
    "two integers together and another which saves the result before exiting the program."
   ],
   "cell_type": "markdown",
   "metadata": {}
  },
  {
   "cell_type": "code",
   "execution_count": 2,
   "metadata": {},
   "outputs": [],
   "source": [
    "@DeltaBlock(allow_const=False)\n",
    "def add(a: int, b: int) -> int:\n",
    "    return a + b\n",
    "\n",
    "s = StateSaver(int, verbose=True)\n",
    "\n",
    "with DeltaGraph() as graph_1:\n",
    "    s.save_and_exit(add(2, 3))"
   ]
  },
  {
   "source": [
    "When creating the `DeltaPySimulator`, we can use the `lvl` parameter to specify\n",
    "the level at which we display logged messages.\n",
    "This can be any integer, but the most common are\n",
    "`logging.DEBUG` (10), `logging.INFO` (20), `logging.WARNING` (30) and `logging.ERROR` (40).\n",
    "Note that messages logged at higher levels are reported, so a log set at `logging.INFO`\n",
    "will include messages from `logging.WARNING` and `logging.ERROR`.\n",
    "See Python's [logging levels](https://docs.python.org/3/library/logging.html#logging-levels)\n",
    "for further details.\n",
    "\n",
    "In the example below, we will set our runtime logging level to `logging.INFO`."
   ],
   "cell_type": "markdown",
   "metadata": {}
  },
  {
   "cell_type": "code",
   "execution_count": 3,
   "metadata": {},
   "outputs": [
    {
     "output_type": "stream",
     "name": "stderr",
     "text": [
      "DeltaPySimulator [INFO]: creating queue: node_0________________________ to add_2.a_______________________ DInt32______________\n",
      "DeltaPySimulator [INFO]: creating queue: node_1________________________ to add_2.b_______________________ DInt32______________\n",
      "DeltaPySimulator [INFO]: creating queue: add_2_________________________ to save_and_exit_3.val___________ DInt32______________\n",
      "DeltaPySimulator [INFO]: Starting node add_2\n",
      "DeltaPySimulator [INFO]: Starting node save_and_exit_3\n",
      "DeltaPySimulator [INFO]: Total number of threads = 3\n",
      "saving 5\n"
     ]
    }
   ],
   "source": [
    "rt = DeltaPySimulator(graph_1, lvl=logging.INFO)\n",
    "rt.run()\n",
    "\n",
    "assert s.saved == [5]"
   ]
  },
  {
   "source": [
    "### Logging within an individual node\n",
    "\n",
    "We can also record computation performed by a single node.\n",
    "To do this, we specify the `lvl` argument in decorators `DeltaBlock`, `DeltaMethodBlock`,\n",
    "or `Interactive`.\n",
    "\n",
    "In the example below, we create a new node which adds two integers together,\n",
    "but this time we set the logging level to `logging.DEBUG`."
   ],
   "cell_type": "markdown",
   "metadata": {}
  },
  {
   "cell_type": "code",
   "execution_count": 4,
   "metadata": {},
   "outputs": [],
   "source": [
    "@DeltaBlock(allow_const=False, lvl=logging.DEBUG)\n",
    "def add_log(a: int, b: int) -> int:\n",
    "    return a + b"
   ]
  },
  {
   "source": [
    "We can wire up this node the same way as before and see that this time we log what\n",
    "messages we send to the `save_and_exit` node."
   ],
   "cell_type": "markdown",
   "metadata": {}
  },
  {
   "cell_type": "code",
   "execution_count": 5,
   "metadata": {},
   "outputs": [
    {
     "output_type": "stream",
     "name": "stderr",
     "text": [
      "PyFuncNode add_log_6 [INFO]: <- {'a': 5, 'b': 6}\n",
      "PyFuncNode add_log_6 [DEBUG]: Running...\n",
      "PyFuncNode add_log_6 [INFO]: -> 11\n",
      "PyFuncNode add_log_6 [INFO]: <- {'a': 5, 'b': 6}\n",
      "PyFuncNode add_log_6 [DEBUG]: Running...\n",
      "PyFuncNode add_log_6 [INFO]: Stopped add_log_6.\n",
      "saving 11\n"
     ]
    }
   ],
   "source": [
    "s = StateSaver(int, verbose=True)\n",
    "\n",
    "with DeltaGraph() as graph_2:\n",
    "    s.save_and_exit(add_log(5, 6))\n",
    "\n",
    "rt = DeltaPySimulator(graph_2)\n",
    "rt.run()\n",
    "\n",
    "assert s.saved == [11]"
   ]
  },
  {
   "source": [
    "This same parameter can also be used to log computation in other types of nodes,\n",
    "such as method nodes, interactive nodes and even Migen nodes.\n",
    "\n",
    "### Logging within a node body\n",
    "\n",
    "In this next example, we are going to create our own logger and use it within a node's body.\n",
    "\n",
    "Below we have an interactive node, which will count down and logs each integer it sends.\n",
    "\n",
    "To log what is happening in this node, we use the `make_logger` command, which will\n",
    "create a log for us with a given level and name.\n",
    "This is the same command used for logging throughout Deltaflow."
   ],
   "cell_type": "markdown",
   "metadata": {}
  },
  {
   "cell_type": "code",
   "execution_count": 6,
   "metadata": {},
   "outputs": [],
   "source": [
    "@Interactive(in_params={}, out_type=int)\n",
    "def count_and_log(node: PyInteractiveNode):\n",
    "    logger = make_logger(lvl=logging.DEBUG, name=\"count_and_log\")\n",
    "    for i in range(10, -1, -1):\n",
    "        logger.info(f\"i= {i}\")\n",
    "        node.send(i)"
   ]
  },
  {
   "source": [
    "We are going to wire this node up to a state saver node again, and this time exit the program once we reach 0."
   ],
   "cell_type": "markdown",
   "metadata": {}
  },
  {
   "cell_type": "code",
   "execution_count": 7,
   "metadata": {},
   "outputs": [],
   "source": [
    "s = StateSaver(int, condition=lambda x: x == 0, verbose=True)\n",
    "\n",
    "with DeltaGraph() as graph_3:\n",
    "    s.save_and_exit_if(count_and_log.call())"
   ]
  },
  {
   "source": [
    "Running this below, we can see the logs from our custom logger."
   ],
   "cell_type": "markdown",
   "metadata": {}
  },
  {
   "cell_type": "code",
   "execution_count": 8,
   "metadata": {},
   "outputs": [
    {
     "output_type": "stream",
     "name": "stderr",
     "text": [
      "count_and_log [INFO]: i= 10\n",
      "count_and_log [INFO]: i= 9\n",
      "count_and_log [INFO]: i= 8\n",
      "count_and_log [INFO]: i= 7\n",
      "count_and_log [INFO]: i= 6\n",
      "count_and_log [INFO]: i= 5\n",
      "count_and_log [INFO]: i= 4\n",
      "count_and_log [INFO]: i= 3\n",
      "count_and_log [INFO]: i= 2\n",
      "count_and_log [INFO]: i= 1\n",
      "count_and_log [INFO]: i= 0\n",
      "saving 10\n",
      "saving 9\n",
      "saving 8\n",
      "saving 7\n",
      "saving 6\n",
      "saving 5\n",
      "saving 4\n",
      "saving 3\n",
      "saving 2\n",
      "saving 1\n",
      "saving 0\n"
     ]
    }
   ],
   "source": [
    "rt = DeltaPySimulator(graph_3)\n",
    "rt.run()\n",
    "\n",
    "assert s.saved == [10, 9, 8, 7, 6, 5, 4, 3, 2, 1, 0]"
   ]
  },
  {
   "source": [
    "Note that passing the same name to `make_logger` will return the same logger object.\n",
    "This means that other nodes which run multiple times, such as those created by\n",
    "`DeltaBlock` or `DeltaMethodBlock` can also use `make_logger` to get the same logger\n",
    "each time they're evaluated.\n",
    "Note however that this also means if two nodes request a logger with the same name,\n",
    "they will both get the same logger.\n",
    "\n",
    "### Logging of Messages\n",
    "\n",
    "The final case we are going to consider is logging messages that are sent between nodes.\n",
    "\n",
    "For this, we will use a generator, which creates a Deltaflow node for sending each item\n",
    "in a list of integers to the next node."
   ],
   "cell_type": "markdown",
   "metadata": {}
  },
  {
   "cell_type": "code",
   "execution_count": 9,
   "metadata": {},
   "outputs": [],
   "source": [
    "sender = make_generator([5, 4, 3, 2, 1, 0])\n",
    "\n",
    "s = StateSaver(int, condition=lambda x: x == 0, verbose=True)\n",
    "\n",
    "with DeltaGraph() as graph_4:\n",
    "    s.save_and_exit_if(sender.call())"
   ]
  },
  {
   "source": [
    "The `msg_lvl` parameter in `DeltaPySimulator` is used to determine which level logs\n",
    "from messages are displayed at.\n",
    "\n",
    "The messages are logged when the program exits, and are sorted by logical clock order,\n",
    "as an aproximation for what time each message was sent."
   ],
   "cell_type": "markdown",
   "metadata": {}
  },
  {
   "cell_type": "code",
   "execution_count": 10,
   "metadata": {},
   "outputs": [
    {
     "output_type": "stream",
     "name": "stderr",
     "text": [
      "MessageLog [INFO]: Sent to save_and_exit_if_11 port val at logical clock time 1: 5\n",
      "MessageLog [INFO]: Sent to save_and_exit_if_11 port val at logical clock time 2: 4\n",
      "MessageLog [INFO]: Sent to save_and_exit_if_11 port val at logical clock time 3: 3\n",
      "MessageLog [INFO]: Sent to save_and_exit_if_11 port val at logical clock time 4: 2\n",
      "MessageLog [INFO]: Sent to save_and_exit_if_11 port val at logical clock time 5: 1\n",
      "MessageLog [INFO]: Sent to save_and_exit_if_11 port val at logical clock time 6: 0\n",
      "saving 5\n",
      "saving 4\n",
      "saving 3\n",
      "saving 2\n",
      "saving 1\n",
      "saving 0\n"
     ]
    }
   ],
   "source": [
    "rt = DeltaPySimulator(graph_4, msg_lvl=logging.INFO)\n",
    "rt.run()\n",
    "\n",
    "assert s.saved == [5, 4, 3, 2, 1, 0]"
   ]
  },
  {
   "source": [
    "## Tracing\n",
    "\n",
    "You can also use an external tool\n",
    "[VizTraser](https://github.com/gaogaotiantian/viztracer)\n",
    "for tracing and visualization of `DeltaPySimulator`.\n",
    "\n",
    "For instance it can be used like this:"
   ],
   "cell_type": "markdown",
   "metadata": {}
  },
  {
   "cell_type": "code",
   "execution_count": 11,
   "metadata": {},
   "outputs": [
    {
     "output_type": "stream",
     "name": "stdout",
     "text": [
      "saving 30\nSaving report to /workdir/examples/tutorials/viztracer_example.html ...\nDumping trace data to json, total entries: 9033, estimated json file size: 1.0MiB\nGenerating HTML report\nReport saved.\n"
     ]
    }
   ],
   "source": [
    "from viztracer import VizTracer\n",
    "\n",
    "\n",
    "# Choose the output file\n",
    "tracer = VizTracer(output_file=\"viztracer_example.html\")\n",
    "\n",
    "@DeltaBlock(allow_const=False)\n",
    "def foo() -> int:\n",
    "    return 10\n",
    "\n",
    "\n",
    "@DeltaBlock(in_port_size=5)\n",
    "def bar(a: int) -> int:\n",
    "    return a*2\n",
    "\n",
    "\n",
    "@DeltaBlock()\n",
    "def adder(a: int, b: int) -> int:\n",
    "    # For instance add events\n",
    "    tracer.add_instant(\"TestEvent\", {\"a\": a, \"b\": b})\n",
    "    return a + b\n",
    "\n",
    "\n",
    "s = StateSaver(int, verbose=True)\n",
    "\n",
    "with DeltaGraph() as graph:\n",
    "    foo_out = foo()\n",
    "    bar_out = bar(foo_out)\n",
    "    s.save_and_exit(adder(foo_out, bar_out))\n",
    "\n",
    "\n",
    "# Choose which part of the code you wish to trace\n",
    "tracer.start()\n",
    "rt = DeltaPySimulator(graph)\n",
    "rt.run()\n",
    "tracer.stop()\n",
    "\n",
    "# Uncomment to save the HTML report\n",
    "# tracer.save()\n",
    "\n",
    "assert s.saved == [30]"
   ]
  },
  {
   "source": [
    "To save the report just uncomment the corresponding line; after that\n",
    "it can be opened with your favourite browser and investigated in detail.\n",
    "We have already saved an example report for this graph and attached it to the tutorial.\n",
    "\n",
    "Note that the argument `in_port_size` defines how many messages can be stored in the\n",
    "incoming queues of `bar`.\n",
    "This information is used by the simulator to make sure that all threads are executed in turn,\n",
    "i.e. if the queue is full then the node filling it will be paused and another node will be\n",
    "processed.\n",
    "\n",
    "Try to generate tracing reports with other values of `in_port_size` and look for any changes in behaviour.\n",
    "Note however that the result of the simulation is independent of this as well as any delays\n",
    "in the graph thus we say that this graph is correct.\n",
    "\n",
    "Please refer to the VizTraser [docs](https://viztracer.readthedocs.io/) to learn about many more\n",
    "features it supports.\n",
    "We find it especially useful to integrate with loggers and trace custom events.\n",
    "\n",
    "## Summary\n",
    "\n",
    "Python has an enormous ecosystems of tools that can suit the need of developers\n",
    "to debug and profile multithreaded or multiprocessed simulations on the fly.\n",
    "\n",
    "We've presented a selection of our logging techniques as well as the external tool VizTraser.\n",
    "The aim of this is to show that with Deltaflow you can:\n",
    "- debug the program before and during its execution\n",
    "- find performance bottlenecks\n",
    "- prepare the program for Deltasimulator and Deltaruntime"
   ],
   "cell_type": "markdown",
   "metadata": {}
  }
 ]
}