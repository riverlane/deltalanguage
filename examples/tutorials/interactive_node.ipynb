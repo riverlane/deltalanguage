{
 "cells": [
  {
   "cell_type": "markdown",
   "metadata": {},
   "source": [
    "# Interactive Nodes\n",
    "\n",
    "This class of node does not use the typical communication mechanism.\n",
    "In other nodes, inputs are provided as function arguments to the encapsulated block,\n",
    "the block is run and its return value is used as output and passed to other nodes.\n",
    "In an Interactive Node, data flow is managed from inside the block.\n",
    "This allows you to send and receive data at any point in the code.\n",
    "This is best demonstrated with an example.\n",
    "\n",
    "First, import the library:"
   ]
  },
  {
   "cell_type": "code",
   "execution_count": 1,
   "metadata": {
    "scrolled": true
   },
   "outputs": [],
   "source": [
    "import deltalanguage as dl"
   ]
  },
  {
   "cell_type": "markdown",
   "metadata": {},
   "source": [
    "## Defining interactive blocks\n",
    "\n",
    "The block inside an interactive node is called a *process function*.\n",
    "This is a function that takes the node itself as argument, and uses the\n",
    "`send` and `receive` methods on the node to perform input and output:\n",
    "\n",
    "- `receive` can be called with no arguments, or with an arbitrary number of string arguments.\n",
    "If called with no arguments, it will retrieve all the inputs and return them to the caller as a dict (from name to value).\n",
    "If called with string arguments, it will only retrieve the inputs with the specified keys.\n",
    "If there is just one input, it is returned.\n",
    "Otherwise, they are packed in a dict as above.\n",
    "\n",
    "- `send` takes as argument one object that will be sent to the next nodes in the graph.\n",
    "\n",
    "\n",
    "## The `Interactive` decorator\n",
    "\n",
    "To turn such a function into a Delta Block, use the `@Interactive` decorator.\n",
    "It takes three arguments:\n",
    "\n",
    "- the input types, which is a dict mapping the names of the inputs the process expects to their types.\n",
    "- the output type\n",
    "- optionally, the name of the resulting node\n",
    "\n",
    "Here is a simple Interactive block definition:"
   ]
  },
  {
   "cell_type": "code",
   "execution_count": 2,
   "metadata": {},
   "outputs": [],
   "source": [
    "@dl.Interactive({'a': str}, int)\n",
    "def str_to_int(node):\n",
    "    for i in range(10):\n",
    "        a = node.receive('a')\n",
    "        a = int(a)\n",
    "        node.send(a + i)\n",
    "\n",
    "    raise dl.DeltaRuntimeExit"
   ]
  },
  {
   "cell_type": "markdown",
   "metadata": {},
   "source": [
    "Since `a` is a non-optional input, the above block's execution\n",
    "will pause until an input `a` is available.\n",
    "Then, the input is parsed as an integer, added a number and sent forward.\n",
    "This procedure is repeated multiple times and then the node exits.\n",
    "\n",
    "To see the block in action, we must put it in a DeltaGraph:"
   ]
  },
  {
   "cell_type": "code",
   "execution_count": 3,
   "metadata": {
    "tags": []
   },
   "outputs": [
    {
     "output_type": "stream",
     "name": "stdout",
     "text": [
      "DeltaGraph[main] {\n    str_to_int_0:\n        in : (a, DStr8192, 0, False)\n        out: (save_2.val, DInt32)\n    node_1:\n        out: (str_to_int_0.a, DStr8192)\n    save_2:\n        in : (val, DInt32, 0, False)\n}\n\n"
     ]
    }
   ],
   "source": [
    "s = dl.lib.StateSaver(int, verbose=True)\n",
    "\n",
    "with dl.DeltaGraph() as graph_1:\n",
    "    num = str_to_int.call(a='1')\n",
    "    s.save(num)\n",
    "\n",
    "print(graph_1)"
   ]
  },
  {
   "cell_type": "markdown",
   "metadata": {},
   "source": [
    "Let us examine the graph, there are three nodes:\n",
    "\n",
    "- our interactive process, which has one input `a` and one output going to `printer.n`\n",
    "\n",
    "- a node that outputs a string to the input `a` of `str_to_int`\n",
    "\n",
    "- the `printer` node\n",
    "\n",
    "This _looks_ good, so we can make a runtime for the graph and run it."
   ]
  },
  {
   "cell_type": "code",
   "execution_count": 4,
   "metadata": {
    "tags": []
   },
   "outputs": [],
   "source": [
    "s.reset()\n",
    "\n",
    "rt = dl.DeltaPySimulator(graph_1)\n",
    "rt.run()\n",
    "\n",
    "# We cannot say for sure how many messages are received\n",
    "assert len(s.saved) in range(11)"
   ]
  },
  {
   "cell_type": "markdown",
   "metadata": {},
   "source": [
    "If you are lucky you will see 10 messages from the printer, but if the previous cell\n",
    "is executed several time you should see that it's not always true.\n",
    "\n",
    "This example shows a fundamental property of `DeltaGraph`, namely each node is executed\n",
    "independently as long as there is no dependency on external data.\n",
    "In this example `DeltaPySimulator` might reach\n",
    "`DeltaRuntimeExit` before each printer node outputs the result.\n",
    "This is not fixed by\n",
    "`DeltaPySimulator` and it meant to be like this, at least at the moment.\n",
    "\n",
    "To resolve this inconsistency one needs to make sure that `DeltaRuntimeExit`\n",
    "is reached only after a succesful execution of each printer.\n",
    "\n",
    "For instance, let's add a status return from the printer. This creates\n",
    "a loop, which can be resolved via placeholder covered in another tutorial."
   ]
  },
  {
   "cell_type": "code",
   "execution_count": 5,
   "metadata": {
    "tags": []
   },
   "outputs": [
    {
     "output_type": "stream",
     "name": "stdout",
     "text": [
      "DeltaGraph[main] {\n    str_to_int_with_status_3:\n        in : (a, DStr8192, 0, False)\n        in : (status, DBool, 0, False)\n        out: (save_and_ack_5.val, DInt32)\n    node_4:\n        out: (str_to_int_with_status_3.a, DStr8192)\n    save_and_ack_5:\n        in : (val, DInt32, 0, False)\n        out: (str_to_int_with_status_3.status, DBool)\n}\n\n"
     ]
    }
   ],
   "source": [
    "@dl.Interactive({'a': str, 'status': bool}, int)\n",
    "def str_to_int_with_status(node):\n",
    "    for i in range(10):\n",
    "        a = node.receive('a')\n",
    "        a = int(a, base=10)\n",
    "        node.send(a + i)\n",
    "        if node.receive('status'):\n",
    "            print(f\"INTERACTIVE NODE: STATUS OK\")\n",
    "\n",
    "    raise dl.DeltaRuntimeExit\n",
    "\n",
    "with dl.DeltaGraph() as graph_2:\n",
    "    ph = dl.placeholder_node_factory()\n",
    "    num = str_to_int_with_status.call(a='1', status=ph)\n",
    "    st = s.save_and_ack(num)\n",
    "    ph.specify_by_node(st)\n",
    "\n",
    "print(graph_2)"
   ]
  },
  {
   "cell_type": "code",
   "execution_count": 6,
   "metadata": {
    "tags": []
   },
   "outputs": [
    {
     "output_type": "stream",
     "name": "stdout",
     "text": [
      "saving 1\n",
      "INTERACTIVE NODE: STATUS OK\n",
      "saving 2\n",
      "INTERACTIVE NODE: STATUS OK\n",
      "saving 3\n",
      "INTERACTIVE NODE: STATUS OK\n",
      "saving 4\n",
      "INTERACTIVE NODE: STATUS OK\n",
      "saving 5\n",
      "INTERACTIVE NODE: STATUS OK\n",
      "saving 6\n",
      "INTERACTIVE NODE: STATUS OK\n",
      "saving 7\n",
      "INTERACTIVE NODE: STATUS OK\n",
      "saving 8\n",
      "INTERACTIVE NODE: STATUS OK\n",
      "saving 9\n",
      "INTERACTIVE NODE: STATUS OK\n",
      "saving 10\n",
      "INTERACTIVE NODE: STATUS OK\n"
     ]
    }
   ],
   "source": [
    "s.reset()\n",
    "\n",
    "rt = dl.DeltaPySimulator(graph_2)\n",
    "rt.run()\n",
    "\n",
    "assert s.saved == list(range(1, 11))"
   ]
  },
  {
   "cell_type": "markdown",
   "metadata": {},
   "source": [
    "Now we can see a consistent result with 10 outputs."
   ]
  },
  {
   "cell_type": "markdown",
   "metadata": {},
   "source": [
    "## A more complicated example\n",
    "\n",
    "Now let us see what Interactive Nodes can be used for in a more\n",
    "complex situation.\n",
    "This next example will also take advantage of the ability to receive\n",
    "different inputs at different times."
   ]
  },
  {
   "cell_type": "code",
   "execution_count": 7,
   "metadata": {},
   "outputs": [],
   "source": [
    "TwoIntsT, TwoInts = dl.make_forked_return({'x': int, 'y': int})\n",
    "\n",
    "\n",
    "@dl.Interactive({'thr': int, 'num': int}, TwoIntsT)\n",
    "def add_to_threshold(node):\n",
    "    \"\"\"Sends num on the left port until it is greater than the threshold,\n",
    "    then sends it on the right port.\n",
    "    \"\"\"\n",
    "    threshold = node.receive('thr')\n",
    "    num = 1\n",
    "\n",
    "    while num < threshold:\n",
    "        node.send(TwoInts(num, None))\n",
    "        num = node.receive('num')\n",
    "    node.send(TwoInts(None, num))"
   ]
  },
  {
   "cell_type": "markdown",
   "metadata": {},
   "source": [
    "Let us define another block that adds two numbers together:"
   ]
  },
  {
   "cell_type": "code",
   "execution_count": 8,
   "metadata": {},
   "outputs": [],
   "source": [
    "@dl.DeltaBlock()\n",
    "def add(x: int, y: int) -> int:\n",
    "    return x + y"
   ]
  },
  {
   "cell_type": "markdown",
   "metadata": {},
   "source": [
    "And now we can wire all of these into a graph.\n",
    "We will create a cycle, so placeholders are needed.\n",
    "A placeholder can be satisfied with an interactive process with\n",
    "the `specify_by_process` method.\n",
    "It can optionally take additional keyword arguments to wire as\n",
    "inputs to the process."
   ]
  },
  {
   "cell_type": "code",
   "execution_count": 9,
   "metadata": {
    "tags": []
   },
   "outputs": [
    {
     "output_type": "stream",
     "name": "stdout",
     "text": [
      "DeltaGraph[main] {\n    save_and_exit_6:\n        in : (val, DInt32, 0, False)\n    node_7:\n        out: (add_8.y, DInt32)\n    add_8:\n        in : (x, DInt32, 0, False)\n        in : (y, DInt32, 0, False)\n        out: (add_to_threshold_9.num, DInt32)\n    add_to_threshold_9:\n        in : (thr, DInt32, 0, False)\n        in : (num, DInt32, 0, False)\n        out: (save_and_exit_6.val, DInt32)\n        out: (add_8.x, DInt32)\n    node_10:\n        out: (add_to_threshold_9.thr, DInt32)\n}\n\n"
     ]
    }
   ],
   "source": [
    "with dl.DeltaGraph() as graph_3:\n",
    "    ph = dl.placeholder_node_factory()\n",
    "\n",
    "    # connect the \"right\" port of the interactive node to the printer\n",
    "    s.save_and_exit(ph.y)\n",
    "\n",
    "    # connect the right one to addition\n",
    "    added = add(x=ph.x, y=2)\n",
    "\n",
    "    # complete the cycle by specifying the placeholder\n",
    "    ph.specify_by_process(add_to_threshold, num=added, thr=10)\n",
    "\n",
    "# Let us see the graph\n",
    "print(graph_3)"
   ]
  },
  {
   "cell_type": "markdown",
   "metadata": {},
   "source": [
    "This graph is more complicated:\n",
    "- One output of the interactive node (`add_until`) goes into `add`,\n",
    "and the other goes to the printer.\n",
    "\n",
    "- `add` takes one more input from a constant node (the 2 argument).\n",
    "\n",
    "- `add_until` takes the result of `add` as input, and has the\n",
    "`thr` input from a constant node (the 10).\n",
    "\n",
    "- This will create a feedback loop that will keep incrementing `num`\n",
    "in steps of 2, until it is greater than `thr`.\n",
    "\n",
    "Let us see what happens when we run it."
   ]
  },
  {
   "cell_type": "code",
   "execution_count": 10,
   "metadata": {
    "tags": []
   },
   "outputs": [
    {
     "output_type": "stream",
     "name": "stdout",
     "text": [
      "saving 11\n"
     ]
    }
   ],
   "source": [
    "s.reset()\n",
    "\n",
    "rt = dl.DeltaPySimulator(graph_3)\n",
    "rt.run()\n",
    "\n",
    "assert s.saved == [11]"
   ]
  },
  {
   "cell_type": "markdown",
   "metadata": {},
   "source": [
    "We started with 1, and kept adding 2 until the number 11 is reached.\n",
    "At that point, the condition `num > threshold` was true and the number\n",
    "was sent to the printer instead of to `add`.\n",
    "\n",
    "## Conclusion\n",
    "\n",
    "Interactive nodes can be useful for algorithms that require multiple input\n",
    "and output points.\n",
    "In a quantum computing context, an algorithm that dynamically adjusts\n",
    "the number of measurements of an operator based on the uncertainty could\n",
    "be encapsulated into this type of node."
   ]
  }
 ],
 "metadata": {
  "file_extension": ".py",
  "kernelspec": {
   "name": "python3",
   "display_name": "Python 3.8.5 64-bit",
   "metadata": {
    "interpreter": {
     "hash": "e7370f93d1d0cde622a1f8e1c04877d8463912d04d973331ad4851f04de6915a"
    }
   }
  },
  "language_info": {
   "codemirror_mode": {
    "name": "ipython",
    "version": 3
   },
   "file_extension": ".py",
   "mimetype": "text/x-python",
   "name": "python",
   "nbconvert_exporter": "python",
   "pygments_lexer": "ipython3",
   "version": "3.8.5-final"
  },
  "mimetype": "text/x-python",
  "name": "python",
  "npconvert_exporter": "python",
  "pycharm": {
   "stem_cell": {
    "cell_type": "raw",
    "source": [],
    "metadata": {
     "collapsed": false
    }
   }
  },
  "pygments_lexer": "ipython3",
  "version": 3
 },
 "nbformat": 4,
 "nbformat_minor": 2
}