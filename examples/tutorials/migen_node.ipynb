{
 "cells": [
  {
   "cell_type": "markdown",
   "metadata": {},
   "source": [
    "## Migen Nodes\n",
    "\n",
    "MigenNodes leverage the migen framework to define logic that can compiled and executed on FPGAs.\n",
    "For more detail about the migen project please refer to https://github.com/m-labs/migen.\n",
    "Before introducing the node, few important points about FPGA logic. \n",
    "\n",
    "### Combinatorial vs Sequential (clocked) logic\n",
    "\n",
    "The logic that composes an FPGA can be decomposed in a large number of blocks that change\n",
    "their status (and their output) as a function of their input(s).\n",
    "An important distinction is between combinatorial logic and sequential logic.\n",
    "Blocks implemented using the former logic generate a change in their output as\n",
    "soon as an input changes.\n",
    "Blocks instead implemented via sequential logic will propagate the change when a global\n",
    "signal (normally called clk or sys_clk) transitions from one value to another\n",
    "(normally from 0 to 1 - also known as rising edge transition).\n",
    "It is important to specify a value for each signal in different sequential scenarios, typically\n",
    "in each FSM state or an If/Else condition if that value is meant to be different than 0. \n",
    "\n",
    "### Inputs and output behaviour\n",
    "\n",
    "FPGAs don't have the concept of `None` for an input and output.\n",
    "The logic that composes the FPGA will always produce a value of 0 or 1 to the pins of the chip\n",
    "(exceptions are high-impedance values that we won't discuss here).\n",
    "This applies for input pins as well.\n",
    "\n",
    "In order to connect to other via asynctonous channel and also be able to handle `None` we have implemented **protocol adapters**.\n",
    "A protocol adapter relies on extra signals to indicate that the input or the output values should be considered valid.\n",
    "Furthermore, because hardware can be busy processing the inputs or outputting the outputs to the outside\n",
    "world we have ready signals on input and output ports.\n",
    "The designer should keep in mind this when implementing the input and output portion of the block.\n",
    "\n",
    "Let's start by importing the libraries needed\n"
   ]
  },
  {
   "cell_type": "code",
   "execution_count": 1,
   "metadata": {
    "scrolled": true
   },
   "outputs": [
    {
     "output_type": "stream",
     "name": "stderr",
     "text": [
      "kj/filesystem-disk-unix.c++:1690: warning: PWD environment variable doesn't match current directory; pwd = /vscode/vscode-server/bin/x64/507ce72a4466fbb27b715c3722558bb15afa9f48\n"
     ]
    }
   ],
   "source": [
    "import logging\n",
    "\n",
    "from migen import Signal, FSM, If, NextValue, NextState\n",
    "\n",
    "import deltalanguage as dl"
   ]
  },
  {
   "cell_type": "markdown",
   "metadata": {},
   "source": [
    "### Example 1: simple wire\n",
    "\n",
    "All MigenNode inherit from `MigenNodeTemplate` and must implement the `migen_body` method.\n",
    "In the initial part we define inputs and outputs of the node.\n",
    "In this example we will simply take an input and send it out as an output.\n",
    "\n",
    "**Note that all inputs have to be optional, i.e. use `Optional`.\n",
    "This is default behaiviour for hardware simulation.**"
   ]
  },
  {
   "cell_type": "code",
   "execution_count": 2,
   "metadata": {},
   "outputs": [],
   "source": [
    "class ExampleInOut(dl.MigenNodeTemplate):\n",
    "\n",
    "     def migen_body(self, template):\n",
    "          # Use this method of constructing I/O\n",
    "          in1 = template.add_pa_in_port('in1', dl.Optional(int))\n",
    "          out1 = template.add_pa_out_port('out1', int)\n",
    "\n",
    "          # Example internal logic.\n",
    "\n",
    "          # Declaring the input to be ready for receiving\n",
    "          self.comb += (\n",
    "               in1.ready.eq(1)\n",
    "          )\n",
    "\n",
    "          # Sending the input to the output.\n",
    "          # Output data is valid when received on the input.\n",
    "          self.comb += (\n",
    "               out1.data.eq(in1.data),\n",
    "               out1.valid.eq(in1.valid)\n",
    "          )"
   ]
  },
  {
   "cell_type": "markdown",
   "metadata": {},
   "source": [
    "Both ports `in1` and `out1` have three properties:\n",
    "\n",
    "- `data` - actual data\n",
    "- `valid` - 1-bit flag showing that the data is valid\n",
    "- `ready` - 1-bit flag indicating the readiness for data\n",
    "\n",
    "They were created by `template.add_pa_in_port` and `template.add_pa_out_port`\n",
    "which play a role of protocol adapters and bind the migen logic to input\n",
    "and output buffers.\n",
    "\n",
    "In the current version they are implemented like this\n",
    "(see `MigenNodeTemplate.tb_generator` for implementation of\n",
    "the testbench generator):\n",
    "\n",
    "- inputs\n",
    "    - in order to permit receiving `data` the user must define the input's `ready` to 1\n",
    "    - if yes, then `data` message can be received, buffered, and its `valid` becomes 1\n",
    "    - if no, the input is not received\n",
    "- outputs\n",
    "    - always has `ready` as 1\n",
    "    - on sending `data` the user must define its `valid` to 1\n",
    "    - if yes, `data` will be buffered and sent out from the nodes\n",
    "    - if no, `data` will stay in the testbench\n",
    "\n",
    "To see the block in action, we must put it in a graph, let's define some helper nodes:"
   ]
  },
  {
   "cell_type": "code",
   "execution_count": 3,
   "metadata": {},
   "outputs": [],
   "source": [
    "# this node will exit if receives 1+,\n",
    "# otherwise just prints on the screen\n",
    "s = dl.lib.StateSaver(int, verbose=True, condition=lambda x: x >= 1)"
   ]
  },
  {
   "cell_type": "markdown",
   "metadata": {},
   "source": [
    "Now, define the graph:"
   ]
  },
  {
   "cell_type": "code",
   "execution_count": 4,
   "metadata": {},
   "outputs": [
    {
     "output_type": "display_data",
     "data": {
      "text/plain": "<Figure size 432x288 with 1 Axes>",
      "image/svg+xml": "<?xml version=\"1.0\" encoding=\"utf-8\" standalone=\"no\"?>\n<!DOCTYPE svg PUBLIC \"-//W3C//DTD SVG 1.1//EN\"\n  \"http://www.w3.org/Graphics/SVG/1.1/DTD/svg11.dtd\">\n<svg height=\"231.84pt\" version=\"1.1\" viewBox=\"0 0 366.886951 231.84\" width=\"366.886951pt\" xmlns=\"http://www.w3.org/2000/svg\" xmlns:xlink=\"http://www.w3.org/1999/xlink\">\n <metadata>\n  <rdf:RDF xmlns:cc=\"http://creativecommons.org/ns#\" xmlns:dc=\"http://purl.org/dc/elements/1.1/\" xmlns:rdf=\"http://www.w3.org/1999/02/22-rdf-syntax-ns#\">\n   <cc:Work>\n    <dc:type rdf:resource=\"http://purl.org/dc/dcmitype/StillImage\"/>\n    <dc:date>2021-07-01T10:27:38.684767</dc:date>\n    <dc:format>image/svg+xml</dc:format>\n    <dc:creator>\n     <cc:Agent>\n      <dc:title>Matplotlib v3.4.2, https://matplotlib.org/</dc:title>\n     </cc:Agent>\n    </dc:creator>\n   </cc:Work>\n  </rdf:RDF>\n </metadata>\n <defs>\n  <style type=\"text/css\">*{stroke-linecap:butt;stroke-linejoin:round;}</style>\n </defs>\n <g id=\"figure_1\">\n  <g id=\"patch_1\">\n   <path d=\"M 0 231.84 \nL 366.886951 231.84 \nL 366.886951 0 \nL 0 0 \nz\n\" style=\"fill:none;\"/>\n  </g>\n  <g id=\"axes_1\">\n   <g id=\"patch_2\">\n    <path clip-path=\"url(#pd02e5908bf)\" d=\"M 40.976631 33.326566 \nQ 83.217292 96.851058 144.022472 141.044163 \n\" style=\"fill:none;stroke:#000000;stroke-linecap:round;\"/>\n    <path clip-path=\"url(#pd02e5908bf)\" d=\"M 141.962639 137.074643 \nL 144.022472 141.044163 \nL 139.610956 140.310317 \nL 141.962639 137.074643 \nz\n\" style=\"stroke:#000000;stroke-linecap:round;\"/>\n   </g>\n   <g id=\"patch_3\">\n    <path clip-path=\"url(#pd02e5908bf)\" d=\"M 159.414676 151.173316 \nQ 227.118949 190.826577 303.303672 204.16694 \n\" style=\"fill:none;stroke:#000000;stroke-linecap:round;\"/>\n    <path clip-path=\"url(#pd02e5908bf)\" d=\"M 299.708583 201.50699 \nL 303.303672 204.16694 \nL 299.018658 205.447041 \nL 299.708583 201.50699 \nz\n\" style=\"stroke:#000000;stroke-linecap:round;\"/>\n   </g>\n   <g id=\"PathCollection_1\">\n    <defs>\n     <path d=\"M 0 8.660254 \nC 2.296726 8.660254 4.499694 7.747755 6.123724 6.123724 \nC 7.747755 4.499694 8.660254 2.296726 8.660254 0 \nC 8.660254 -2.296726 7.747755 -4.499694 6.123724 -6.123724 \nC 4.499694 -7.747755 2.296726 -8.660254 0 -8.660254 \nC -2.296726 -8.660254 -4.499694 -7.747755 -6.123724 -6.123724 \nC -7.747755 -4.499694 -8.660254 -2.296726 -8.660254 0 \nC -8.660254 2.296726 -7.747755 4.499694 -6.123724 6.123724 \nC -4.499694 7.747755 -2.296726 8.660254 0 8.660254 \nz\n\" id=\"m1fc0d961e0\" style=\"stroke:#1f78b4;\"/>\n    </defs>\n    <g clip-path=\"url(#pd02e5908bf)\">\n     <use style=\"fill:#1f78b4;stroke:#1f78b4;\" x=\"36.252893\" xlink:href=\"#m1fc0d961e0\" y=\"26.06876\"/>\n     <use style=\"fill:#1f78b4;stroke:#1f78b4;\" x=\"151.981965\" xlink:href=\"#m1fc0d961e0\" y=\"146.723742\"/>\n     <use style=\"fill:#1f78b4;stroke:#1f78b4;\" x=\"312.947107\" xlink:href=\"#m1fc0d961e0\" y=\"205.77124\"/>\n    </g>\n   </g>\n   <g id=\"text_1\">\n    <!-- node_0 -->\n    <g transform=\"translate(18.092736 28.689073)scale(0.1 -0.1)\">\n     <defs>\n      <path d=\"M 3513 2113 \nL 3513 0 \nL 2938 0 \nL 2938 2094 \nQ 2938 2591 2744 2837 \nQ 2550 3084 2163 3084 \nQ 1697 3084 1428 2787 \nQ 1159 2491 1159 1978 \nL 1159 0 \nL 581 0 \nL 581 3500 \nL 1159 3500 \nL 1159 2956 \nQ 1366 3272 1645 3428 \nQ 1925 3584 2291 3584 \nQ 2894 3584 3203 3211 \nQ 3513 2838 3513 2113 \nz\n\" id=\"DejaVuSans-6e\" transform=\"scale(0.015625)\"/>\n      <path d=\"M 1959 3097 \nQ 1497 3097 1228 2736 \nQ 959 2375 959 1747 \nQ 959 1119 1226 758 \nQ 1494 397 1959 397 \nQ 2419 397 2687 759 \nQ 2956 1122 2956 1747 \nQ 2956 2369 2687 2733 \nQ 2419 3097 1959 3097 \nz\nM 1959 3584 \nQ 2709 3584 3137 3096 \nQ 3566 2609 3566 1747 \nQ 3566 888 3137 398 \nQ 2709 -91 1959 -91 \nQ 1206 -91 779 398 \nQ 353 888 353 1747 \nQ 353 2609 779 3096 \nQ 1206 3584 1959 3584 \nz\n\" id=\"DejaVuSans-6f\" transform=\"scale(0.015625)\"/>\n      <path d=\"M 2906 2969 \nL 2906 4863 \nL 3481 4863 \nL 3481 0 \nL 2906 0 \nL 2906 525 \nQ 2725 213 2448 61 \nQ 2172 -91 1784 -91 \nQ 1150 -91 751 415 \nQ 353 922 353 1747 \nQ 353 2572 751 3078 \nQ 1150 3584 1784 3584 \nQ 2172 3584 2448 3432 \nQ 2725 3281 2906 2969 \nz\nM 947 1747 \nQ 947 1113 1208 752 \nQ 1469 391 1925 391 \nQ 2381 391 2643 752 \nQ 2906 1113 2906 1747 \nQ 2906 2381 2643 2742 \nQ 2381 3103 1925 3103 \nQ 1469 3103 1208 2742 \nQ 947 2381 947 1747 \nz\n\" id=\"DejaVuSans-64\" transform=\"scale(0.015625)\"/>\n      <path d=\"M 3597 1894 \nL 3597 1613 \nL 953 1613 \nQ 991 1019 1311 708 \nQ 1631 397 2203 397 \nQ 2534 397 2845 478 \nQ 3156 559 3463 722 \nL 3463 178 \nQ 3153 47 2828 -22 \nQ 2503 -91 2169 -91 \nQ 1331 -91 842 396 \nQ 353 884 353 1716 \nQ 353 2575 817 3079 \nQ 1281 3584 2069 3584 \nQ 2775 3584 3186 3129 \nQ 3597 2675 3597 1894 \nz\nM 3022 2063 \nQ 3016 2534 2758 2815 \nQ 2500 3097 2075 3097 \nQ 1594 3097 1305 2825 \nQ 1016 2553 972 2059 \nL 3022 2063 \nz\n\" id=\"DejaVuSans-65\" transform=\"scale(0.015625)\"/>\n      <path d=\"M 3263 -1063 \nL 3263 -1509 \nL -63 -1509 \nL -63 -1063 \nL 3263 -1063 \nz\n\" id=\"DejaVuSans-5f\" transform=\"scale(0.015625)\"/>\n      <path d=\"M 2034 4250 \nQ 1547 4250 1301 3770 \nQ 1056 3291 1056 2328 \nQ 1056 1369 1301 889 \nQ 1547 409 2034 409 \nQ 2525 409 2770 889 \nQ 3016 1369 3016 2328 \nQ 3016 3291 2770 3770 \nQ 2525 4250 2034 4250 \nz\nM 2034 4750 \nQ 2819 4750 3233 4129 \nQ 3647 3509 3647 2328 \nQ 3647 1150 3233 529 \nQ 2819 -91 2034 -91 \nQ 1250 -91 836 529 \nQ 422 1150 422 2328 \nQ 422 3509 836 4129 \nQ 1250 4750 2034 4750 \nz\n\" id=\"DejaVuSans-30\" transform=\"scale(0.015625)\"/>\n     </defs>\n     <use xlink:href=\"#DejaVuSans-6e\"/>\n     <use x=\"63.378906\" xlink:href=\"#DejaVuSans-6f\"/>\n     <use x=\"124.560547\" xlink:href=\"#DejaVuSans-64\"/>\n     <use x=\"188.037109\" xlink:href=\"#DejaVuSans-65\"/>\n     <use x=\"249.560547\" xlink:href=\"#DejaVuSans-5f\"/>\n     <use x=\"299.560547\" xlink:href=\"#DejaVuSans-30\"/>\n    </g>\n   </g>\n   <g id=\"text_2\">\n    <!-- InOut_1 -->\n    <g transform=\"translate(132.592121 149.255774)scale(0.1 -0.1)\">\n     <defs>\n      <path d=\"M 628 4666 \nL 1259 4666 \nL 1259 0 \nL 628 0 \nL 628 4666 \nz\n\" id=\"DejaVuSans-49\" transform=\"scale(0.015625)\"/>\n      <path d=\"M 2522 4238 \nQ 1834 4238 1429 3725 \nQ 1025 3213 1025 2328 \nQ 1025 1447 1429 934 \nQ 1834 422 2522 422 \nQ 3209 422 3611 934 \nQ 4013 1447 4013 2328 \nQ 4013 3213 3611 3725 \nQ 3209 4238 2522 4238 \nz\nM 2522 4750 \nQ 3503 4750 4090 4092 \nQ 4678 3434 4678 2328 \nQ 4678 1225 4090 567 \nQ 3503 -91 2522 -91 \nQ 1538 -91 948 565 \nQ 359 1222 359 2328 \nQ 359 3434 948 4092 \nQ 1538 4750 2522 4750 \nz\n\" id=\"DejaVuSans-4f\" transform=\"scale(0.015625)\"/>\n      <path d=\"M 544 1381 \nL 544 3500 \nL 1119 3500 \nL 1119 1403 \nQ 1119 906 1312 657 \nQ 1506 409 1894 409 \nQ 2359 409 2629 706 \nQ 2900 1003 2900 1516 \nL 2900 3500 \nL 3475 3500 \nL 3475 0 \nL 2900 0 \nL 2900 538 \nQ 2691 219 2414 64 \nQ 2138 -91 1772 -91 \nQ 1169 -91 856 284 \nQ 544 659 544 1381 \nz\nM 1991 3584 \nL 1991 3584 \nz\n\" id=\"DejaVuSans-75\" transform=\"scale(0.015625)\"/>\n      <path d=\"M 1172 4494 \nL 1172 3500 \nL 2356 3500 \nL 2356 3053 \nL 1172 3053 \nL 1172 1153 \nQ 1172 725 1289 603 \nQ 1406 481 1766 481 \nL 2356 481 \nL 2356 0 \nL 1766 0 \nQ 1100 0 847 248 \nQ 594 497 594 1153 \nL 594 3053 \nL 172 3053 \nL 172 3500 \nL 594 3500 \nL 594 4494 \nL 1172 4494 \nz\n\" id=\"DejaVuSans-74\" transform=\"scale(0.015625)\"/>\n      <path d=\"M 794 531 \nL 1825 531 \nL 1825 4091 \nL 703 3866 \nL 703 4441 \nL 1819 4666 \nL 2450 4666 \nL 2450 531 \nL 3481 531 \nL 3481 0 \nL 794 0 \nL 794 531 \nz\n\" id=\"DejaVuSans-31\" transform=\"scale(0.015625)\"/>\n     </defs>\n     <use xlink:href=\"#DejaVuSans-49\"/>\n     <use x=\"29.492188\" xlink:href=\"#DejaVuSans-6e\"/>\n     <use x=\"92.871094\" xlink:href=\"#DejaVuSans-4f\"/>\n     <use x=\"171.582031\" xlink:href=\"#DejaVuSans-75\"/>\n     <use x=\"234.960938\" xlink:href=\"#DejaVuSans-74\"/>\n     <use x=\"274.169922\" xlink:href=\"#DejaVuSans-5f\"/>\n     <use x=\"324.169922\" xlink:href=\"#DejaVuSans-31\"/>\n    </g>\n   </g>\n   <g id=\"text_3\">\n    <!-- save_and_exit_if_2 -->\n    <g transform=\"translate(266.207264 208.391552)scale(0.1 -0.1)\">\n     <defs>\n      <path d=\"M 2834 3397 \nL 2834 2853 \nQ 2591 2978 2328 3040 \nQ 2066 3103 1784 3103 \nQ 1356 3103 1142 2972 \nQ 928 2841 928 2578 \nQ 928 2378 1081 2264 \nQ 1234 2150 1697 2047 \nL 1894 2003 \nQ 2506 1872 2764 1633 \nQ 3022 1394 3022 966 \nQ 3022 478 2636 193 \nQ 2250 -91 1575 -91 \nQ 1294 -91 989 -36 \nQ 684 19 347 128 \nL 347 722 \nQ 666 556 975 473 \nQ 1284 391 1588 391 \nQ 1994 391 2212 530 \nQ 2431 669 2431 922 \nQ 2431 1156 2273 1281 \nQ 2116 1406 1581 1522 \nL 1381 1569 \nQ 847 1681 609 1914 \nQ 372 2147 372 2553 \nQ 372 3047 722 3315 \nQ 1072 3584 1716 3584 \nQ 2034 3584 2315 3537 \nQ 2597 3491 2834 3397 \nz\n\" id=\"DejaVuSans-73\" transform=\"scale(0.015625)\"/>\n      <path d=\"M 2194 1759 \nQ 1497 1759 1228 1600 \nQ 959 1441 959 1056 \nQ 959 750 1161 570 \nQ 1363 391 1709 391 \nQ 2188 391 2477 730 \nQ 2766 1069 2766 1631 \nL 2766 1759 \nL 2194 1759 \nz\nM 3341 1997 \nL 3341 0 \nL 2766 0 \nL 2766 531 \nQ 2569 213 2275 61 \nQ 1981 -91 1556 -91 \nQ 1019 -91 701 211 \nQ 384 513 384 1019 \nQ 384 1609 779 1909 \nQ 1175 2209 1959 2209 \nL 2766 2209 \nL 2766 2266 \nQ 2766 2663 2505 2880 \nQ 2244 3097 1772 3097 \nQ 1472 3097 1187 3025 \nQ 903 2953 641 2809 \nL 641 3341 \nQ 956 3463 1253 3523 \nQ 1550 3584 1831 3584 \nQ 2591 3584 2966 3190 \nQ 3341 2797 3341 1997 \nz\n\" id=\"DejaVuSans-61\" transform=\"scale(0.015625)\"/>\n      <path d=\"M 191 3500 \nL 800 3500 \nL 1894 563 \nL 2988 3500 \nL 3597 3500 \nL 2284 0 \nL 1503 0 \nL 191 3500 \nz\n\" id=\"DejaVuSans-76\" transform=\"scale(0.015625)\"/>\n      <path d=\"M 3513 3500 \nL 2247 1797 \nL 3578 0 \nL 2900 0 \nL 1881 1375 \nL 863 0 \nL 184 0 \nL 1544 1831 \nL 300 3500 \nL 978 3500 \nL 1906 2253 \nL 2834 3500 \nL 3513 3500 \nz\n\" id=\"DejaVuSans-78\" transform=\"scale(0.015625)\"/>\n      <path d=\"M 603 3500 \nL 1178 3500 \nL 1178 0 \nL 603 0 \nL 603 3500 \nz\nM 603 4863 \nL 1178 4863 \nL 1178 4134 \nL 603 4134 \nL 603 4863 \nz\n\" id=\"DejaVuSans-69\" transform=\"scale(0.015625)\"/>\n      <path d=\"M 2375 4863 \nL 2375 4384 \nL 1825 4384 \nQ 1516 4384 1395 4259 \nQ 1275 4134 1275 3809 \nL 1275 3500 \nL 2222 3500 \nL 2222 3053 \nL 1275 3053 \nL 1275 0 \nL 697 0 \nL 697 3053 \nL 147 3053 \nL 147 3500 \nL 697 3500 \nL 697 3744 \nQ 697 4328 969 4595 \nQ 1241 4863 1831 4863 \nL 2375 4863 \nz\n\" id=\"DejaVuSans-66\" transform=\"scale(0.015625)\"/>\n      <path d=\"M 1228 531 \nL 3431 531 \nL 3431 0 \nL 469 0 \nL 469 531 \nQ 828 903 1448 1529 \nQ 2069 2156 2228 2338 \nQ 2531 2678 2651 2914 \nQ 2772 3150 2772 3378 \nQ 2772 3750 2511 3984 \nQ 2250 4219 1831 4219 \nQ 1534 4219 1204 4116 \nQ 875 4013 500 3803 \nL 500 4441 \nQ 881 4594 1212 4672 \nQ 1544 4750 1819 4750 \nQ 2544 4750 2975 4387 \nQ 3406 4025 3406 3419 \nQ 3406 3131 3298 2873 \nQ 3191 2616 2906 2266 \nQ 2828 2175 2409 1742 \nQ 1991 1309 1228 531 \nz\n\" id=\"DejaVuSans-32\" transform=\"scale(0.015625)\"/>\n     </defs>\n     <use xlink:href=\"#DejaVuSans-73\"/>\n     <use x=\"52.099609\" xlink:href=\"#DejaVuSans-61\"/>\n     <use x=\"113.378906\" xlink:href=\"#DejaVuSans-76\"/>\n     <use x=\"172.558594\" xlink:href=\"#DejaVuSans-65\"/>\n     <use x=\"234.082031\" xlink:href=\"#DejaVuSans-5f\"/>\n     <use x=\"284.082031\" xlink:href=\"#DejaVuSans-61\"/>\n     <use x=\"345.361328\" xlink:href=\"#DejaVuSans-6e\"/>\n     <use x=\"408.740234\" xlink:href=\"#DejaVuSans-64\"/>\n     <use x=\"472.216797\" xlink:href=\"#DejaVuSans-5f\"/>\n     <use x=\"522.216797\" xlink:href=\"#DejaVuSans-65\"/>\n     <use x=\"581.990234\" xlink:href=\"#DejaVuSans-78\"/>\n     <use x=\"641.169922\" xlink:href=\"#DejaVuSans-69\"/>\n     <use x=\"668.953125\" xlink:href=\"#DejaVuSans-74\"/>\n     <use x=\"708.162109\" xlink:href=\"#DejaVuSans-5f\"/>\n     <use x=\"758.162109\" xlink:href=\"#DejaVuSans-69\"/>\n     <use x=\"785.945312\" xlink:href=\"#DejaVuSans-66\"/>\n     <use x=\"821.150391\" xlink:href=\"#DejaVuSans-5f\"/>\n     <use x=\"871.150391\" xlink:href=\"#DejaVuSans-32\"/>\n    </g>\n   </g>\n  </g>\n </g>\n <defs>\n  <clipPath id=\"pd02e5908bf\">\n   <rect height=\"217.44\" width=\"334.8\" x=\"7.2\" y=\"7.2\"/>\n  </clipPath>\n </defs>\n</svg>\n",
      "image/png": "[encoded data removed]"
     },
     "metadata": {}
    }
   ],
   "source": [
    "migen = ExampleInOut(name='InOut')\n",
    "\n",
    "with dl.DeltaGraph() as graph:\n",
    "    migen_out = migen.call(in1=1)\n",
    "    s.save_and_exit_if(migen_out.out1)\n",
    "\n",
    "graph.draw(seed=1)"
   ]
  },
  {
   "cell_type": "markdown",
   "metadata": {},
   "source": [
    "This _looks_ good, so we can run this graph in the simulator:"
   ]
  },
  {
   "cell_type": "code",
   "execution_count": 5,
   "metadata": {
    "tags": []
   },
   "outputs": [
    {
     "output_type": "stream",
     "name": "stdout",
     "text": [
      "saving 1\n"
     ]
    }
   ],
   "source": [
    "rt = dl.DeltaPySimulator(graph)\n",
    "rt.run()\n",
    "\n",
    "# check the result\n",
    "assert s.saved[-1] == 1"
   ]
  },
  {
   "cell_type": "markdown",
   "metadata": {},
   "source": [
    "### Example 2: counter\n",
    "\n",
    "Let's now make a tiny bit more complex application of a migen node.\n",
    "We want to generate a sequence `0, 1, 2, ..., 2**N` and send it to the outside world when our input is valid.\n",
    "To give enough time to a real hardware node to send the data will change the value of the output every\n",
    "clock cycle (with a sync block).\n",
    "\n",
    "Also we add this `migen.Signal` to the debugging dictionary to\n",
    "caprute the internal behaiviour:"
   ]
  },
  {
   "cell_type": "code",
   "execution_count": 6,
   "metadata": {
    "tags": []
   },
   "outputs": [],
   "source": [
    "CNT_SIZE = 10\n",
    "\n",
    "\n",
    "class ExampleCountOut(dl.MigenNodeTemplate):\n",
    "\n",
    "     def migen_body(self, template):\n",
    "          # I/O:\n",
    "          in1 = template.add_pa_in_port('in1', dl.Optional(int))\n",
    "          out1 = template.add_pa_out_port('out1', int)\n",
    "\n",
    "          # Logic:\n",
    "          self.comb += (\n",
    "               in1.ready.eq(1),\n",
    "               out1.ready.eq(1)\n",
    "          )\n",
    "\n",
    "          # 10-bit counter - [0, 2**CNT_SIZE - 1]\n",
    "          self.cnt = Signal(CNT_SIZE)\n",
    "\n",
    "          # Incrementing the counter of 1 per clock cycle\n",
    "          self.sync += self.cnt.eq(self.cnt+1)\n",
    "\n",
    "          # Sending the input to the output. Data will be valid on\n",
    "          # the output when received on the inpuy  \n",
    "          self.comb += (\n",
    "               out1.data.eq(self.cnt),\n",
    "               out1.valid.eq(in1.valid)\n",
    "          )\n",
    "\n",
    "          # To add the internal Signal to debugging, add a new\n",
    "          # value to the dictionary, in the following form:\n",
    "          # Tuple[migen.Signal, str], where str is number format\n",
    "          #\n",
    "          # Ref: https://mkaz.blog/code/python-string-format-cookbook/\n",
    "          template.debug_signals['cnt'] = (self.cnt, f'0{CNT_SIZE}b')"
   ]
  },
  {
   "cell_type": "markdown",
   "metadata": {},
   "source": [
    "If we now define the following graph, note that we change the logging level\n",
    "in order to see the debugged signal:"
   ]
  },
  {
   "cell_type": "code",
   "execution_count": 7,
   "metadata": {
    "tags": []
   },
   "outputs": [
    {
     "output_type": "display_data",
     "data": {
      "text/plain": "<Figure size 432x288 with 1 Axes>",
      "image/svg+xml": "<?xml version=\"1.0\" encoding=\"utf-8\" standalone=\"no\"?>\n<!DOCTYPE svg PUBLIC \"-//W3C//DTD SVG 1.1//EN\"\n  \"http://www.w3.org/Graphics/SVG/1.1/DTD/svg11.dtd\">\n<svg height=\"231.84pt\" version=\"1.1\" viewBox=\"0 0 366.886951 231.84\" width=\"366.886951pt\" xmlns=\"http://www.w3.org/2000/svg\" xmlns:xlink=\"http://www.w3.org/1999/xlink\">\n <metadata>\n  <rdf:RDF xmlns:cc=\"http://creativecommons.org/ns#\" xmlns:dc=\"http://purl.org/dc/elements/1.1/\" xmlns:rdf=\"http://www.w3.org/1999/02/22-rdf-syntax-ns#\">\n   <cc:Work>\n    <dc:type rdf:resource=\"http://purl.org/dc/dcmitype/StillImage\"/>\n    <dc:date>2021-07-01T10:27:38.876832</dc:date>\n    <dc:format>image/svg+xml</dc:format>\n    <dc:creator>\n     <cc:Agent>\n      <dc:title>Matplotlib v3.4.2, https://matplotlib.org/</dc:title>\n     </cc:Agent>\n    </dc:creator>\n   </cc:Work>\n  </rdf:RDF>\n </metadata>\n <defs>\n  <style type=\"text/css\">*{stroke-linecap:butt;stroke-linejoin:round;}</style>\n </defs>\n <g id=\"figure_1\">\n  <g id=\"patch_1\">\n   <path d=\"M 0 231.84 \nL 366.886951 231.84 \nL 366.886951 0 \nL 0 0 \nz\n\" style=\"fill:none;\"/>\n  </g>\n  <g id=\"axes_1\">\n   <g id=\"patch_2\">\n    <path clip-path=\"url(#pff0945a2b4)\" d=\"M 40.976631 33.326566 \nQ 83.217292 96.851058 144.022472 141.044163 \n\" style=\"fill:none;stroke:#000000;stroke-linecap:round;\"/>\n    <path clip-path=\"url(#pff0945a2b4)\" d=\"M 141.962639 137.074643 \nL 144.022472 141.044163 \nL 139.610956 140.310317 \nL 141.962639 137.074643 \nz\n\" style=\"stroke:#000000;stroke-linecap:round;\"/>\n   </g>\n   <g id=\"patch_3\">\n    <path clip-path=\"url(#pff0945a2b4)\" d=\"M 159.414676 151.173316 \nQ 227.118949 190.826577 303.303672 204.16694 \n\" style=\"fill:none;stroke:#000000;stroke-linecap:round;\"/>\n    <path clip-path=\"url(#pff0945a2b4)\" d=\"M 299.708583 201.50699 \nL 303.303672 204.16694 \nL 299.018658 205.447041 \nL 299.708583 201.50699 \nz\n\" style=\"stroke:#000000;stroke-linecap:round;\"/>\n   </g>\n   <g id=\"PathCollection_1\">\n    <defs>\n     <path d=\"M 0 8.660254 \nC 2.296726 8.660254 4.499694 7.747755 6.123724 6.123724 \nC 7.747755 4.499694 8.660254 2.296726 8.660254 0 \nC 8.660254 -2.296726 7.747755 -4.499694 6.123724 -6.123724 \nC 4.499694 -7.747755 2.296726 -8.660254 0 -8.660254 \nC -2.296726 -8.660254 -4.499694 -7.747755 -6.123724 -6.123724 \nC -7.747755 -4.499694 -8.660254 -2.296726 -8.660254 0 \nC -8.660254 2.296726 -7.747755 4.499694 -6.123724 6.123724 \nC -4.499694 7.747755 -2.296726 8.660254 0 8.660254 \nz\n\" id=\"m890754d2bf\" style=\"stroke:#1f78b4;\"/>\n    </defs>\n    <g clip-path=\"url(#pff0945a2b4)\">\n     <use style=\"fill:#1f78b4;stroke:#1f78b4;\" x=\"36.252893\" xlink:href=\"#m890754d2bf\" y=\"26.06876\"/>\n     <use style=\"fill:#1f78b4;stroke:#1f78b4;\" x=\"151.981965\" xlink:href=\"#m890754d2bf\" y=\"146.723742\"/>\n     <use style=\"fill:#1f78b4;stroke:#1f78b4;\" x=\"312.947107\" xlink:href=\"#m890754d2bf\" y=\"205.77124\"/>\n    </g>\n   </g>\n   <g id=\"text_1\">\n    <!-- node_3 -->\n    <g transform=\"translate(18.092736 28.689073)scale(0.1 -0.1)\">\n     <defs>\n      <path d=\"M 3513 2113 \nL 3513 0 \nL 2938 0 \nL 2938 2094 \nQ 2938 2591 2744 2837 \nQ 2550 3084 2163 3084 \nQ 1697 3084 1428 2787 \nQ 1159 2491 1159 1978 \nL 1159 0 \nL 581 0 \nL 581 3500 \nL 1159 3500 \nL 1159 2956 \nQ 1366 3272 1645 3428 \nQ 1925 3584 2291 3584 \nQ 2894 3584 3203 3211 \nQ 3513 2838 3513 2113 \nz\n\" id=\"DejaVuSans-6e\" transform=\"scale(0.015625)\"/>\n      <path d=\"M 1959 3097 \nQ 1497 3097 1228 2736 \nQ 959 2375 959 1747 \nQ 959 1119 1226 758 \nQ 1494 397 1959 397 \nQ 2419 397 2687 759 \nQ 2956 1122 2956 1747 \nQ 2956 2369 2687 2733 \nQ 2419 3097 1959 3097 \nz\nM 1959 3584 \nQ 2709 3584 3137 3096 \nQ 3566 2609 3566 1747 \nQ 3566 888 3137 398 \nQ 2709 -91 1959 -91 \nQ 1206 -91 779 398 \nQ 353 888 353 1747 \nQ 353 2609 779 3096 \nQ 1206 3584 1959 3584 \nz\n\" id=\"DejaVuSans-6f\" transform=\"scale(0.015625)\"/>\n      <path d=\"M 2906 2969 \nL 2906 4863 \nL 3481 4863 \nL 3481 0 \nL 2906 0 \nL 2906 525 \nQ 2725 213 2448 61 \nQ 2172 -91 1784 -91 \nQ 1150 -91 751 415 \nQ 353 922 353 1747 \nQ 353 2572 751 3078 \nQ 1150 3584 1784 3584 \nQ 2172 3584 2448 3432 \nQ 2725 3281 2906 2969 \nz\nM 947 1747 \nQ 947 1113 1208 752 \nQ 1469 391 1925 391 \nQ 2381 391 2643 752 \nQ 2906 1113 2906 1747 \nQ 2906 2381 2643 2742 \nQ 2381 3103 1925 3103 \nQ 1469 3103 1208 2742 \nQ 947 2381 947 1747 \nz\n\" id=\"DejaVuSans-64\" transform=\"scale(0.015625)\"/>\n      <path d=\"M 3597 1894 \nL 3597 1613 \nL 953 1613 \nQ 991 1019 1311 708 \nQ 1631 397 2203 397 \nQ 2534 397 2845 478 \nQ 3156 559 3463 722 \nL 3463 178 \nQ 3153 47 2828 -22 \nQ 2503 -91 2169 -91 \nQ 1331 -91 842 396 \nQ 353 884 353 1716 \nQ 353 2575 817 3079 \nQ 1281 3584 2069 3584 \nQ 2775 3584 3186 3129 \nQ 3597 2675 3597 1894 \nz\nM 3022 2063 \nQ 3016 2534 2758 2815 \nQ 2500 3097 2075 3097 \nQ 1594 3097 1305 2825 \nQ 1016 2553 972 2059 \nL 3022 2063 \nz\n\" id=\"DejaVuSans-65\" transform=\"scale(0.015625)\"/>\n      <path d=\"M 3263 -1063 \nL 3263 -1509 \nL -63 -1509 \nL -63 -1063 \nL 3263 -1063 \nz\n\" id=\"DejaVuSans-5f\" transform=\"scale(0.015625)\"/>\n      <path d=\"M 2597 2516 \nQ 3050 2419 3304 2112 \nQ 3559 1806 3559 1356 \nQ 3559 666 3084 287 \nQ 2609 -91 1734 -91 \nQ 1441 -91 1130 -33 \nQ 819 25 488 141 \nL 488 750 \nQ 750 597 1062 519 \nQ 1375 441 1716 441 \nQ 2309 441 2620 675 \nQ 2931 909 2931 1356 \nQ 2931 1769 2642 2001 \nQ 2353 2234 1838 2234 \nL 1294 2234 \nL 1294 2753 \nL 1863 2753 \nQ 2328 2753 2575 2939 \nQ 2822 3125 2822 3475 \nQ 2822 3834 2567 4026 \nQ 2313 4219 1838 4219 \nQ 1578 4219 1281 4162 \nQ 984 4106 628 3988 \nL 628 4550 \nQ 988 4650 1302 4700 \nQ 1616 4750 1894 4750 \nQ 2613 4750 3031 4423 \nQ 3450 4097 3450 3541 \nQ 3450 3153 3228 2886 \nQ 3006 2619 2597 2516 \nz\n\" id=\"DejaVuSans-33\" transform=\"scale(0.015625)\"/>\n     </defs>\n     <use xlink:href=\"#DejaVuSans-6e\"/>\n     <use x=\"63.378906\" xlink:href=\"#DejaVuSans-6f\"/>\n     <use x=\"124.560547\" xlink:href=\"#DejaVuSans-64\"/>\n     <use x=\"188.037109\" xlink:href=\"#DejaVuSans-65\"/>\n     <use x=\"249.560547\" xlink:href=\"#DejaVuSans-5f\"/>\n     <use x=\"299.560547\" xlink:href=\"#DejaVuSans-33\"/>\n    </g>\n   </g>\n   <g id=\"text_2\">\n    <!-- ExampleCnt_4 -->\n    <g transform=\"translate(115.987433 149.344055)scale(0.1 -0.1)\">\n     <defs>\n      <path d=\"M 628 4666 \nL 3578 4666 \nL 3578 4134 \nL 1259 4134 \nL 1259 2753 \nL 3481 2753 \nL 3481 2222 \nL 1259 2222 \nL 1259 531 \nL 3634 531 \nL 3634 0 \nL 628 0 \nL 628 4666 \nz\n\" id=\"DejaVuSans-45\" transform=\"scale(0.015625)\"/>\n      <path d=\"M 3513 3500 \nL 2247 1797 \nL 3578 0 \nL 2900 0 \nL 1881 1375 \nL 863 0 \nL 184 0 \nL 1544 1831 \nL 300 3500 \nL 978 3500 \nL 1906 2253 \nL 2834 3500 \nL 3513 3500 \nz\n\" id=\"DejaVuSans-78\" transform=\"scale(0.015625)\"/>\n      <path d=\"M 2194 1759 \nQ 1497 1759 1228 1600 \nQ 959 1441 959 1056 \nQ 959 750 1161 570 \nQ 1363 391 1709 391 \nQ 2188 391 2477 730 \nQ 2766 1069 2766 1631 \nL 2766 1759 \nL 2194 1759 \nz\nM 3341 1997 \nL 3341 0 \nL 2766 0 \nL 2766 531 \nQ 2569 213 2275 61 \nQ 1981 -91 1556 -91 \nQ 1019 -91 701 211 \nQ 384 513 384 1019 \nQ 384 1609 779 1909 \nQ 1175 2209 1959 2209 \nL 2766 2209 \nL 2766 2266 \nQ 2766 2663 2505 2880 \nQ 2244 3097 1772 3097 \nQ 1472 3097 1187 3025 \nQ 903 2953 641 2809 \nL 641 3341 \nQ 956 3463 1253 3523 \nQ 1550 3584 1831 3584 \nQ 2591 3584 2966 3190 \nQ 3341 2797 3341 1997 \nz\n\" id=\"DejaVuSans-61\" transform=\"scale(0.015625)\"/>\n      <path d=\"M 3328 2828 \nQ 3544 3216 3844 3400 \nQ 4144 3584 4550 3584 \nQ 5097 3584 5394 3201 \nQ 5691 2819 5691 2113 \nL 5691 0 \nL 5113 0 \nL 5113 2094 \nQ 5113 2597 4934 2840 \nQ 4756 3084 4391 3084 \nQ 3944 3084 3684 2787 \nQ 3425 2491 3425 1978 \nL 3425 0 \nL 2847 0 \nL 2847 2094 \nQ 2847 2600 2669 2842 \nQ 2491 3084 2119 3084 \nQ 1678 3084 1418 2786 \nQ 1159 2488 1159 1978 \nL 1159 0 \nL 581 0 \nL 581 3500 \nL 1159 3500 \nL 1159 2956 \nQ 1356 3278 1631 3431 \nQ 1906 3584 2284 3584 \nQ 2666 3584 2933 3390 \nQ 3200 3197 3328 2828 \nz\n\" id=\"DejaVuSans-6d\" transform=\"scale(0.015625)\"/>\n      <path d=\"M 1159 525 \nL 1159 -1331 \nL 581 -1331 \nL 581 3500 \nL 1159 3500 \nL 1159 2969 \nQ 1341 3281 1617 3432 \nQ 1894 3584 2278 3584 \nQ 2916 3584 3314 3078 \nQ 3713 2572 3713 1747 \nQ 3713 922 3314 415 \nQ 2916 -91 2278 -91 \nQ 1894 -91 1617 61 \nQ 1341 213 1159 525 \nz\nM 3116 1747 \nQ 3116 2381 2855 2742 \nQ 2594 3103 2138 3103 \nQ 1681 3103 1420 2742 \nQ 1159 2381 1159 1747 \nQ 1159 1113 1420 752 \nQ 1681 391 2138 391 \nQ 2594 391 2855 752 \nQ 3116 1113 3116 1747 \nz\n\" id=\"DejaVuSans-70\" transform=\"scale(0.015625)\"/>\n      <path d=\"M 603 4863 \nL 1178 4863 \nL 1178 0 \nL 603 0 \nL 603 4863 \nz\n\" id=\"DejaVuSans-6c\" transform=\"scale(0.015625)\"/>\n      <path d=\"M 4122 4306 \nL 4122 3641 \nQ 3803 3938 3442 4084 \nQ 3081 4231 2675 4231 \nQ 1875 4231 1450 3742 \nQ 1025 3253 1025 2328 \nQ 1025 1406 1450 917 \nQ 1875 428 2675 428 \nQ 3081 428 3442 575 \nQ 3803 722 4122 1019 \nL 4122 359 \nQ 3791 134 3420 21 \nQ 3050 -91 2638 -91 \nQ 1578 -91 968 557 \nQ 359 1206 359 2328 \nQ 359 3453 968 4101 \nQ 1578 4750 2638 4750 \nQ 3056 4750 3426 4639 \nQ 3797 4528 4122 4306 \nz\n\" id=\"DejaVuSans-43\" transform=\"scale(0.015625)\"/>\n      <path d=\"M 1172 4494 \nL 1172 3500 \nL 2356 3500 \nL 2356 3053 \nL 1172 3053 \nL 1172 1153 \nQ 1172 725 1289 603 \nQ 1406 481 1766 481 \nL 2356 481 \nL 2356 0 \nL 1766 0 \nQ 1100 0 847 248 \nQ 594 497 594 1153 \nL 594 3053 \nL 172 3053 \nL 172 3500 \nL 594 3500 \nL 594 4494 \nL 1172 4494 \nz\n\" id=\"DejaVuSans-74\" transform=\"scale(0.015625)\"/>\n      <path d=\"M 2419 4116 \nL 825 1625 \nL 2419 1625 \nL 2419 4116 \nz\nM 2253 4666 \nL 3047 4666 \nL 3047 1625 \nL 3713 1625 \nL 3713 1100 \nL 3047 1100 \nL 3047 0 \nL 2419 0 \nL 2419 1100 \nL 313 1100 \nL 313 1709 \nL 2253 4666 \nz\n\" id=\"DejaVuSans-34\" transform=\"scale(0.015625)\"/>\n     </defs>\n     <use xlink:href=\"#DejaVuSans-45\"/>\n     <use x=\"63.183594\" xlink:href=\"#DejaVuSans-78\"/>\n     <use x=\"122.363281\" xlink:href=\"#DejaVuSans-61\"/>\n     <use x=\"183.642578\" xlink:href=\"#DejaVuSans-6d\"/>\n     <use x=\"281.054688\" xlink:href=\"#DejaVuSans-70\"/>\n     <use x=\"344.53125\" xlink:href=\"#DejaVuSans-6c\"/>\n     <use x=\"372.314453\" xlink:href=\"#DejaVuSans-65\"/>\n     <use x=\"433.837891\" xlink:href=\"#DejaVuSans-43\"/>\n     <use x=\"503.662109\" xlink:href=\"#DejaVuSans-6e\"/>\n     <use x=\"567.041016\" xlink:href=\"#DejaVuSans-74\"/>\n     <use x=\"606.25\" xlink:href=\"#DejaVuSans-5f\"/>\n     <use x=\"656.25\" xlink:href=\"#DejaVuSans-34\"/>\n    </g>\n   </g>\n   <g id=\"text_3\">\n    <!-- save_and_exit_if_5 -->\n    <g transform=\"translate(266.207264 208.391552)scale(0.1 -0.1)\">\n     <defs>\n      <path d=\"M 2834 3397 \nL 2834 2853 \nQ 2591 2978 2328 3040 \nQ 2066 3103 1784 3103 \nQ 1356 3103 1142 2972 \nQ 928 2841 928 2578 \nQ 928 2378 1081 2264 \nQ 1234 2150 1697 2047 \nL 1894 2003 \nQ 2506 1872 2764 1633 \nQ 3022 1394 3022 966 \nQ 3022 478 2636 193 \nQ 2250 -91 1575 -91 \nQ 1294 -91 989 -36 \nQ 684 19 347 128 \nL 347 722 \nQ 666 556 975 473 \nQ 1284 391 1588 391 \nQ 1994 391 2212 530 \nQ 2431 669 2431 922 \nQ 2431 1156 2273 1281 \nQ 2116 1406 1581 1522 \nL 1381 1569 \nQ 847 1681 609 1914 \nQ 372 2147 372 2553 \nQ 372 3047 722 3315 \nQ 1072 3584 1716 3584 \nQ 2034 3584 2315 3537 \nQ 2597 3491 2834 3397 \nz\n\" id=\"DejaVuSans-73\" transform=\"scale(0.015625)\"/>\n      <path d=\"M 191 3500 \nL 800 3500 \nL 1894 563 \nL 2988 3500 \nL 3597 3500 \nL 2284 0 \nL 1503 0 \nL 191 3500 \nz\n\" id=\"DejaVuSans-76\" transform=\"scale(0.015625)\"/>\n      <path d=\"M 603 3500 \nL 1178 3500 \nL 1178 0 \nL 603 0 \nL 603 3500 \nz\nM 603 4863 \nL 1178 4863 \nL 1178 4134 \nL 603 4134 \nL 603 4863 \nz\n\" id=\"DejaVuSans-69\" transform=\"scale(0.015625)\"/>\n      <path d=\"M 2375 4863 \nL 2375 4384 \nL 1825 4384 \nQ 1516 4384 1395 4259 \nQ 1275 4134 1275 3809 \nL 1275 3500 \nL 2222 3500 \nL 2222 3053 \nL 1275 3053 \nL 1275 0 \nL 697 0 \nL 697 3053 \nL 147 3053 \nL 147 3500 \nL 697 3500 \nL 697 3744 \nQ 697 4328 969 4595 \nQ 1241 4863 1831 4863 \nL 2375 4863 \nz\n\" id=\"DejaVuSans-66\" transform=\"scale(0.015625)\"/>\n      <path d=\"M 691 4666 \nL 3169 4666 \nL 3169 4134 \nL 1269 4134 \nL 1269 2991 \nQ 1406 3038 1543 3061 \nQ 1681 3084 1819 3084 \nQ 2600 3084 3056 2656 \nQ 3513 2228 3513 1497 \nQ 3513 744 3044 326 \nQ 2575 -91 1722 -91 \nQ 1428 -91 1123 -41 \nQ 819 9 494 109 \nL 494 744 \nQ 775 591 1075 516 \nQ 1375 441 1709 441 \nQ 2250 441 2565 725 \nQ 2881 1009 2881 1497 \nQ 2881 1984 2565 2268 \nQ 2250 2553 1709 2553 \nQ 1456 2553 1204 2497 \nQ 953 2441 691 2322 \nL 691 4666 \nz\n\" id=\"DejaVuSans-35\" transform=\"scale(0.015625)\"/>\n     </defs>\n     <use xlink:href=\"#DejaVuSans-73\"/>\n     <use x=\"52.099609\" xlink:href=\"#DejaVuSans-61\"/>\n     <use x=\"113.378906\" xlink:href=\"#DejaVuSans-76\"/>\n     <use x=\"172.558594\" xlink:href=\"#DejaVuSans-65\"/>\n     <use x=\"234.082031\" xlink:href=\"#DejaVuSans-5f\"/>\n     <use x=\"284.082031\" xlink:href=\"#DejaVuSans-61\"/>\n     <use x=\"345.361328\" xlink:href=\"#DejaVuSans-6e\"/>\n     <use x=\"408.740234\" xlink:href=\"#DejaVuSans-64\"/>\n     <use x=\"472.216797\" xlink:href=\"#DejaVuSans-5f\"/>\n     <use x=\"522.216797\" xlink:href=\"#DejaVuSans-65\"/>\n     <use x=\"581.990234\" xlink:href=\"#DejaVuSans-78\"/>\n     <use x=\"641.169922\" xlink:href=\"#DejaVuSans-69\"/>\n     <use x=\"668.953125\" xlink:href=\"#DejaVuSans-74\"/>\n     <use x=\"708.162109\" xlink:href=\"#DejaVuSans-5f\"/>\n     <use x=\"758.162109\" xlink:href=\"#DejaVuSans-69\"/>\n     <use x=\"785.945312\" xlink:href=\"#DejaVuSans-66\"/>\n     <use x=\"821.150391\" xlink:href=\"#DejaVuSans-5f\"/>\n     <use x=\"871.150391\" xlink:href=\"#DejaVuSans-35\"/>\n    </g>\n   </g>\n  </g>\n </g>\n <defs>\n  <clipPath id=\"pff0945a2b4\">\n   <rect height=\"217.44\" width=\"334.8\" x=\"7.2\" y=\"7.2\"/>\n  </clipPath>\n </defs>\n</svg>\n",
      "image/png": "[encoded data removed]"
     },
     "metadata": {}
    }
   ],
   "source": [
    "s = dl.lib.StateSaver(int, verbose=True, condition=lambda x: x >= 10)\n",
    "migen = ExampleCountOut(name='ExampleCnt', lvl=logging.DEBUG)\n",
    "\n",
    "with dl.DeltaGraph() as graph:\n",
    "    migen_out = migen.call(in1=1)\n",
    "    s.save_and_exit_if(migen_out.out1)\n",
    "\n",
    "graph.draw(seed=1)"
   ]
  },
  {
   "source": [
    "Let's run the graph, the debugging messages printed after each migen iteration.\n",
    "\n",
    "Find the debugged signal and check that that it increments at each iteration\n",
    "as expected:"
   ],
   "cell_type": "markdown",
   "metadata": {}
  },
  {
   "cell_type": "code",
   "execution_count": 8,
   "metadata": {
    "tags": []
   },
   "outputs": [
    {
     "output_type": "stream",
     "name": "stderr",
     "text": [
      "PythonNode ExampleCnt_4 [INFO]: <- {'in1': 1}\n",
      "PythonNode ExampleCnt_4 [DEBUG]: Running...\n",
      "ExampleCnt [DEBUG]: start iteration 0\n",
      "ExampleCnt [DEBUG]: all _dut.in_ports ready: True\n",
      "ExampleCnt [DEBUG]: inputs available: True\n",
      "ExampleCnt [DEBUG]: writing in_port name=in1 valid=1, data=1\n",
      "ExampleCnt [DEBUG]: out_ports set ready\n",
      "ExampleCnt [DEBUG]: retrieved data output=(None,)\n",
      "ExampleCnt [DEBUG]: end of iteration 0\n",
      "PythonNode ExampleCnt_4 [INFO]: <- {'in1': 1}\n",
      "PythonNode ExampleCnt_4 [DEBUG]: Running...\n",
      "ExampleCnt [DEBUG]: <<<<<<<<<<< STATUS AFTER YIELD IN ITER 0\n",
      "ExampleCnt [DEBUG]: self.in_buffer={'in1': 1}\n",
      "ExampleCnt [DEBUG]: in_ports:\n",
      "ExampleCnt [DEBUG]: name='in1': data=1 valid=1 ready=1\n",
      "ExampleCnt [DEBUG]: debug_signals:\n",
      "ExampleCnt [DEBUG]: name='cnt': 0000000001\n",
      "ExampleCnt [DEBUG]: out_ports:\n",
      "ExampleCnt [DEBUG]: name='out1': data=1 valid=1 ready=1\n",
      "ExampleCnt [DEBUG]: self.out_buffer=None\n",
      "ExampleCnt [DEBUG]: >>>>>>>>>>>\n",
      "ExampleCnt [DEBUG]: start iteration 1\n",
      "ExampleCnt [DEBUG]: all _dut.in_ports ready: True\n",
      "ExampleCnt [DEBUG]: inputs available: True\n",
      "ExampleCnt [DEBUG]: writing in_port name=in1 valid=1, data=1\n",
      "ExampleCnt [DEBUG]: out_ports set ready\n",
      "ExampleCnt [DEBUG]: retrieved data output=(1,)\n",
      "ExampleCnt [DEBUG]: end of iteration 1\n",
      "PythonNode ExampleCnt_4 [INFO]: -> (1,)\n",
      "PythonNode ExampleCnt_4 [INFO]: <- {'in1': 1}\n",
      "PythonNode ExampleCnt_4 [DEBUG]: Running...\n",
      "ExampleCnt [DEBUG]: <<<<<<<<<<< STATUS AFTER YIELD IN ITER 1\n",
      "ExampleCnt [DEBUG]: self.in_buffer={'in1': 1}\n",
      "ExampleCnt [DEBUG]: in_ports:\n",
      "ExampleCnt [DEBUG]: name='in1': data=1 valid=1 ready=1\n",
      "ExampleCnt [DEBUG]: debug_signals:\n",
      "ExampleCnt [DEBUG]: name='cnt': 0000000010\n",
      "ExampleCnt [DEBUG]: out_ports:\n",
      "ExampleCnt [DEBUG]: name='out1': data=2 valid=1 ready=1\n",
      "ExampleCnt [DEBUG]: self.out_buffer=None\n",
      "ExampleCnt [DEBUG]: >>>>>>>>>>>\n",
      "ExampleCnt [DEBUG]: start iteration 2\n",
      "ExampleCnt [DEBUG]: all _dut.in_ports ready: True\n",
      "ExampleCnt [DEBUG]: inputs available: True\n",
      "ExampleCnt [DEBUG]: writing in_port name=in1 valid=1, data=1\n",
      "ExampleCnt [DEBUG]: out_ports set ready\n",
      "ExampleCnt [DEBUG]: retrieved data output=(2,)\n",
      "ExampleCnt [DEBUG]: end of iteration 2\n",
      "PythonNode ExampleCnt_4 [INFO]: -> (2,)\n",
      "PythonNode ExampleCnt_4 [INFO]: <- {'in1': 1}\n",
      "PythonNode ExampleCnt_4 [DEBUG]: Running...\n",
      "ExampleCnt [DEBUG]: <<<<<<<<<<< STATUS AFTER YIELD IN ITER 2\n",
      "ExampleCnt [DEBUG]: self.in_buffer={'in1': 1}\n",
      "ExampleCnt [DEBUG]: in_ports:\n",
      "ExampleCnt [DEBUG]: name='in1': data=1 valid=1 ready=1\n",
      "saving 1\n",
      "saving 2\n",
      "ExampleCnt [DEBUG]: debug_signals:\n",
      "ExampleCnt [DEBUG]: name='cnt': 0000000011\n",
      "ExampleCnt [DEBUG]: out_ports:\n",
      "ExampleCnt [DEBUG]: name='out1': data=3 valid=1 ready=1\n",
      "ExampleCnt [DEBUG]: self.out_buffer=None\n",
      "ExampleCnt [DEBUG]: >>>>>>>>>>>\n",
      "ExampleCnt [DEBUG]: start iteration 3\n",
      "ExampleCnt [DEBUG]: all _dut.in_ports ready: True\n",
      "ExampleCnt [DEBUG]: inputs available: True\n",
      "ExampleCnt [DEBUG]: writing in_port name=in1 valid=1, data=1\n",
      "ExampleCnt [DEBUG]: out_ports set ready\n",
      "ExampleCnt [DEBUG]: retrieved data output=(3,)\n",
      "ExampleCnt [DEBUG]: end of iteration 3\n",
      "PythonNode ExampleCnt_4 [INFO]: -> (3,)\n",
      "PythonNode ExampleCnt_4 [INFO]: <- {'in1': 1}\n",
      "PythonNode ExampleCnt_4 [DEBUG]: Running...\n",
      "ExampleCnt [DEBUG]: <<<<<<<<<<< STATUS AFTER YIELD IN ITER 3\n",
      "ExampleCnt [DEBUG]: self.in_buffer={'in1': 1}\n",
      "ExampleCnt [DEBUG]: in_ports:\n",
      "ExampleCnt [DEBUG]: name='in1': data=1 valid=1 ready=1\n",
      "ExampleCnt [DEBUG]: debug_signals:\n",
      "ExampleCnt [DEBUG]: name='cnt': 0000000100\n",
      "ExampleCnt [DEBUG]: out_ports:\n",
      "ExampleCnt [DEBUG]: name='out1': data=4 valid=1 ready=1\n",
      "ExampleCnt [DEBUG]: self.out_buffer=None\n",
      "ExampleCnt [DEBUG]: >>>>>>>>>>>\n",
      "ExampleCnt [DEBUG]: start iteration 4\n",
      "ExampleCnt [DEBUG]: all _dut.in_ports ready: True\n",
      "ExampleCnt [DEBUG]: inputs available: True\n",
      "ExampleCnt [DEBUG]: writing in_port name=in1 valid=1, data=1\n",
      "ExampleCnt [DEBUG]: out_ports set ready\n",
      "ExampleCnt [DEBUG]: retrieved data output=(4,)\n",
      "ExampleCnt [DEBUG]: end of iteration 4\n",
      "PythonNode ExampleCnt_4 [INFO]: -> (4,)\n",
      "PythonNode ExampleCnt_4 [INFO]: <- {'in1': 1}\n",
      "PythonNode ExampleCnt_4 [DEBUG]: Running...\n",
      "ExampleCnt [DEBUG]: <<<<<<<<<<< STATUS AFTER YIELD IN ITER 4\n",
      "ExampleCnt [DEBUG]: self.in_buffer={'in1': 1}\n",
      "ExampleCnt [DEBUG]: in_ports:\n",
      "ExampleCnt [DEBUG]: name='in1': data=1 valid=1 ready=1\n",
      "ExampleCnt [DEBUG]: debug_signals:\n",
      "ExampleCnt [DEBUG]: name='cnt': 0000000101\n",
      "ExampleCnt [DEBUG]: out_ports:\n",
      "ExampleCnt [DEBUG]: name='out1': data=5 valid=1 ready=1\n",
      "ExampleCnt [DEBUG]: self.out_buffer=None\n",
      "ExampleCnt [DEBUG]: >>>>>>>>>>>\n",
      "ExampleCnt [DEBUG]: start iteration 5\n",
      "ExampleCnt [DEBUG]: all _dut.in_ports ready: True\n",
      "ExampleCnt [DEBUG]: inputs available: True\n",
      "ExampleCnt [DEBUG]: writing in_port name=in1 valid=1, data=1\n",
      "ExampleCnt [DEBUG]: out_ports set ready\n",
      "ExampleCnt [DEBUG]: retrieved data output=(5,)\n",
      "ExampleCnt [DEBUG]: end of iteration 5\n",
      "PythonNode ExampleCnt_4 [INFO]: -> (5,)\n",
      "PythonNode ExampleCnt_4 [INFO]: <- {'in1': 1}\n",
      "PythonNode ExampleCnt_4 [DEBUG]: Running...\n",
      "ExampleCnt [DEBUG]: <<<<<<<<<<< STATUS AFTER YIELD IN ITER 5\n",
      "ExampleCnt [DEBUG]: self.in_buffer={'in1': 1}\n",
      "ExampleCnt [DEBUG]: in_ports:\n",
      "ExampleCnt [DEBUG]: name='in1': data=1 valid=1 ready=1\n",
      "ExampleCnt [DEBUG]: debug_signals:\n",
      "ExampleCnt [DEBUG]: name='cnt': 0000000110\n",
      "ExampleCnt [DEBUG]: out_ports:\n",
      "ExampleCnt [DEBUG]: name='out1': data=6 valid=1 ready=1\n",
      "ExampleCnt [DEBUG]: self.out_buffer=None\n",
      "ExampleCnt [DEBUG]: >>>>>>>>>>>\n",
      "ExampleCnt [DEBUG]: start iteration 6\n",
      "ExampleCnt [DEBUG]: all _dut.in_ports ready: True\n",
      "ExampleCnt [DEBUG]: inputs available: True\n",
      "ExampleCnt [DEBUG]: writing in_port name=in1 valid=1, data=1\n",
      "ExampleCnt [DEBUG]: out_ports set ready\n",
      "ExampleCnt [DEBUG]: retrieved data output=(6,)\n",
      "ExampleCnt [DEBUG]: end of iteration 6\n",
      "PythonNode ExampleCnt_4 [INFO]: -> (6,)\n",
      "PythonNode ExampleCnt_4 [INFO]: <- {'in1': 1}\n",
      "PythonNode ExampleCnt_4 [DEBUG]: Running...\n",
      "ExampleCnt [DEBUG]: <<<<<<<<<<< STATUS AFTER YIELD IN ITER 6\n",
      "ExampleCnt [DEBUG]: self.in_buffer={'in1': 1}\n",
      "ExampleCnt [DEBUG]: in_ports:\n",
      "ExampleCnt [DEBUG]: name='in1': data=1 valid=1 ready=1\n",
      "ExampleCnt [DEBUG]: debug_signals:\n",
      "ExampleCnt [DEBUG]: name='cnt': 0000000111\n",
      "ExampleCnt [DEBUG]: out_ports:\n",
      "ExampleCnt [DEBUG]: name='out1': data=7 valid=1 ready=1\n",
      "ExampleCnt [DEBUG]: self.out_buffer=None\n",
      "ExampleCnt [DEBUG]: >>>>>>>>>>>\n",
      "ExampleCnt [DEBUG]: start iteration 7\n",
      "ExampleCnt [DEBUG]: all _dut.in_ports ready: True\n",
      "ExampleCnt [DEBUG]: inputs available: True\n",
      "ExampleCnt [DEBUG]: writing in_port name=in1 valid=1, data=1\n",
      "ExampleCnt [DEBUG]: out_ports set ready\n",
      "ExampleCnt [DEBUG]: retrieved data output=(7,)\n",
      "ExampleCnt [DEBUG]: end of iteration 7\n",
      "PythonNode ExampleCnt_4 [INFO]: -> (7,)\n",
      "PythonNode ExampleCnt_4 [INFO]: <- {'in1': 1}\n",
      "PythonNode ExampleCnt_4 [DEBUG]: Running...\n",
      "ExampleCnt [DEBUG]: <<<<<<<<<<< STATUS AFTER YIELD IN ITER 7\n",
      "ExampleCnt [DEBUG]: self.in_buffer={'in1': 1}\n",
      "ExampleCnt [DEBUG]: in_ports:\n",
      "ExampleCnt [DEBUG]: name='in1': data=1 valid=1 ready=1\n",
      "ExampleCnt [DEBUG]: debug_signals:\n",
      "ExampleCnt [DEBUG]: name='cnt': 0000001000\n",
      "ExampleCnt [DEBUG]: out_ports:\n",
      "ExampleCnt [DEBUG]: name='out1': data=8 valid=1 ready=1\n",
      "ExampleCnt [DEBUG]: self.out_buffer=None\n",
      "ExampleCnt [DEBUG]: >>>>>>>>>>>\n",
      "ExampleCnt [DEBUG]: start iteration 8\n",
      "ExampleCnt [DEBUG]: all _dut.in_ports ready: True\n",
      "ExampleCnt [DEBUG]: inputs available: True\n",
      "ExampleCnt [DEBUG]: writing in_port name=in1 valid=1, data=1\n",
      "ExampleCnt [DEBUG]: out_ports set ready\n",
      "ExampleCnt [DEBUG]: retrieved data output=(8,)\n",
      "ExampleCnt [DEBUG]: end of iteration 8\n",
      "PythonNode ExampleCnt_4 [INFO]: -> (8,)\n",
      "PythonNode ExampleCnt_4 [INFO]: <- {'in1': 1}\n",
      "PythonNode ExampleCnt_4 [DEBUG]: Running...\n",
      "ExampleCnt [DEBUG]: <<<<<<<<<<< STATUS AFTER YIELD IN ITER 8\n",
      "ExampleCnt [DEBUG]: self.in_buffer={'in1': 1}\n",
      "ExampleCnt [DEBUG]: in_ports:\n",
      "ExampleCnt [DEBUG]: name='in1': data=1 valid=1 ready=1\n",
      "ExampleCnt [DEBUG]: debug_signals:\n",
      "ExampleCnt [DEBUG]: name='cnt': 0000001001\n",
      "ExampleCnt [DEBUG]: out_ports:\n",
      "ExampleCnt [DEBUG]: name='out1': data=9 valid=1 ready=1\n",
      "ExampleCnt [DEBUG]: self.out_buffer=None\n",
      "ExampleCnt [DEBUG]: >>>>>>>>>>>\n",
      "ExampleCnt [DEBUG]: start iteration 9\n",
      "ExampleCnt [DEBUG]: all _dut.in_ports ready: True\n",
      "ExampleCnt [DEBUG]: inputs available: True\n",
      "ExampleCnt [DEBUG]: writing in_port name=in1 valid=1, data=1\n",
      "ExampleCnt [DEBUG]: out_ports set ready\n",
      "ExampleCnt [DEBUG]: retrieved data output=(9,)\n",
      "ExampleCnt [DEBUG]: end of iteration 9\n",
      "PythonNode ExampleCnt_4 [INFO]: -> (9,)\n",
      "PythonNode ExampleCnt_4 [INFO]: <- {'in1': 1}\n",
      "PythonNode ExampleCnt_4 [DEBUG]: Running...\n",
      "ExampleCnt [DEBUG]: <<<<<<<<<<< STATUS AFTER YIELD IN ITER 9\n",
      "ExampleCnt [DEBUG]: self.in_buffer={'in1': 1}\n",
      "ExampleCnt [DEBUG]: in_ports:\n",
      "ExampleCnt [DEBUG]: name='in1': data=1 valid=1 ready=1\n",
      "ExampleCnt [DEBUG]: debug_signals:\n",
      "ExampleCnt [DEBUG]: name='cnt': 0000001010\n",
      "ExampleCnt [DEBUG]: out_ports:\n",
      "ExampleCnt [DEBUG]: name='out1': data=10 valid=1 ready=1\n",
      "ExampleCnt [DEBUG]: self.out_buffer=None\n",
      "ExampleCnt [DEBUG]: >>>>>>>>>>>\n",
      "ExampleCnt [DEBUG]: start iteration 10\n",
      "ExampleCnt [DEBUG]: all _dut.in_ports ready: True\n",
      "ExampleCnt [DEBUG]: inputs available: True\n",
      "ExampleCnt [DEBUG]: writing in_port name=in1 valid=1, data=1\n",
      "ExampleCnt [DEBUG]: out_ports set ready\n",
      "ExampleCnt [DEBUG]: retrieved data output=(10,)\n",
      "ExampleCnt [DEBUG]: end of iteration 10\n",
      "PythonNode ExampleCnt_4 [INFO]: -> (10,)\n",
      "PythonNode ExampleCnt_4 [INFO]: Stopped ExampleCnt_4.\n",
      "saving 3\n",
      "saving 4\n",
      "saving 5\n",
      "saving 6\n",
      "saving 7\n",
      "saving 8\n",
      "saving 9\n",
      "saving 10\n",
      "Value of cnt inside migen node (10,)\n"
     ]
    }
   ],
   "source": [
    "rt = dl.DeltaPySimulator(graph)\n",
    "rt.run()\n",
    "\n",
    "print (f\"Value of cnt inside migen node {migen.out_buffer}\")\n",
    "\n",
    "assert s.saved[-1] == 10"
   ]
  },
  {
   "cell_type": "markdown",
   "metadata": {},
   "source": [
    "This time we should stop when the output becomes bigger than 10.\n",
    "Because we have implemented no feedback the counter inside the migen node will carry on incrementing until\n",
    "`DeltaPySimulator` exits.\n",
    "Remember nodes are simulated/ran asynchronously and independently so the internal value of `self.sync` will be\n",
    "likely higher than 10.\n",
    "\n",
    "### Example 3: Finite State Machine\n",
    "\n",
    "Building on the previous example we want to have a state machine that stops to increment when we reach the value of 10.\n",
    "Note: It is important to specify a value for each signal in each state of the FSM. If no value is provided, Migen will assign a 0 to it. In this example, we set `NextValue(self.cnt, self.cnt)` to keep the value of `self.cnt` in the `DONE` state. This is an artifcat of Migen when it generates verilog code."
   ]
  },
  {
   "cell_type": "code",
   "execution_count": 9,
   "metadata": {
    "tags": []
   },
   "outputs": [],
   "source": [
    "class ExampleCountOutFSM(dl.MigenNodeTemplate):\n",
    "\n",
    "     def migen_body(self, template):\n",
    "          # I/O:\n",
    "          in1 = template.add_pa_in_port('in1', dl.Optional(int))\n",
    "          out1 = template.add_pa_out_port('out1', int)\n",
    "                    \n",
    "          # Logic:\n",
    "          self.comb += (\n",
    "               in1.ready.eq(1),\n",
    "          )\n",
    "\n",
    "          # counter\n",
    "          self.cnt = Signal(10)\n",
    "\n",
    "          # Defining a state machine with three states -\n",
    "          # IDLE, COUNTING and DONE. We will start IDLE from \n",
    "          # powerup of the system\n",
    "          self.submodules.CMD_fsm = FSM(reset_state='IDLE')\n",
    "\n",
    "          # In the IDLE we wait for the first valid input and\n",
    "          # then we move to COUNTING \n",
    "          self.CMD_fsm.act('IDLE', \n",
    "               If(in1.valid == 1,\n",
    "                    NextValue(self.cnt, 0),\n",
    "                    NextState('COUNTING')\n",
    "               )\n",
    "          )\n",
    "          # In COUNTING we count up to 10 and then move to DONE\n",
    "          self.CMD_fsm.act('COUNTING', \n",
    "               If(self.cnt == 10,\n",
    "                    NextValue(self.cnt, self.cnt),\n",
    "                    NextState('DONE')\n",
    "               ).Else(\n",
    "                    NextValue(self.cnt, self.cnt+1),\n",
    "               )\n",
    "          )\n",
    "          # In DONE we do nothing\n",
    "          self.CMD_fsm.act('DONE',\n",
    "               # this line sets the counter to its previous value\n",
    "               # which is different from the migen's default value (0)\n",
    "               NextValue(self.cnt, self.cnt)\n",
    "          )\n",
    "\n",
    "          # Sending the input to the output. Data will be valid on\n",
    "          # the output when received on the inpuy  \n",
    "          self.comb += (\n",
    "               out1.data.eq(self.cnt),\n",
    "               out1.valid.eq(in1.valid)\n",
    "          )"
   ]
  },
  {
   "cell_type": "markdown",
   "metadata": {},
   "source": [
    "We now create the graph as before:"
   ]
  },
  {
   "cell_type": "code",
   "execution_count": 10,
   "metadata": {},
   "outputs": [
    {
     "output_type": "display_data",
     "data": {
      "text/plain": "<Figure size 432x288 with 1 Axes>",
      "image/svg+xml": "<?xml version=\"1.0\" encoding=\"utf-8\" standalone=\"no\"?>\n<!DOCTYPE svg PUBLIC \"-//W3C//DTD SVG 1.1//EN\"\n  \"http://www.w3.org/Graphics/SVG/1.1/DTD/svg11.dtd\">\n<svg height=\"231.84pt\" version=\"1.1\" viewBox=\"0 0 366.886951 231.84\" width=\"366.886951pt\" xmlns=\"http://www.w3.org/2000/svg\" xmlns:xlink=\"http://www.w3.org/1999/xlink\">\n <metadata>\n  <rdf:RDF xmlns:cc=\"http://creativecommons.org/ns#\" xmlns:dc=\"http://purl.org/dc/elements/1.1/\" xmlns:rdf=\"http://www.w3.org/1999/02/22-rdf-syntax-ns#\">\n   <cc:Work>\n    <dc:type rdf:resource=\"http://purl.org/dc/dcmitype/StillImage\"/>\n    <dc:date>2021-07-01T10:27:39.244398</dc:date>\n    <dc:format>image/svg+xml</dc:format>\n    <dc:creator>\n     <cc:Agent>\n      <dc:title>Matplotlib v3.4.2, https://matplotlib.org/</dc:title>\n     </cc:Agent>\n    </dc:creator>\n   </cc:Work>\n  </rdf:RDF>\n </metadata>\n <defs>\n  <style type=\"text/css\">*{stroke-linecap:butt;stroke-linejoin:round;}</style>\n </defs>\n <g id=\"figure_1\">\n  <g id=\"patch_1\">\n   <path d=\"M 0 231.84 \nL 366.886951 231.84 \nL 366.886951 0 \nL 0 0 \nz\n\" style=\"fill:none;\"/>\n  </g>\n  <g id=\"axes_1\">\n   <g id=\"patch_2\">\n    <path clip-path=\"url(#p25fe527273)\" d=\"M 40.976631 33.326566 \nQ 83.217292 96.851058 144.022472 141.044163 \n\" style=\"fill:none;stroke:#000000;stroke-linecap:round;\"/>\n    <path clip-path=\"url(#p25fe527273)\" d=\"M 141.962639 137.074643 \nL 144.022472 141.044163 \nL 139.610956 140.310317 \nL 141.962639 137.074643 \nz\n\" style=\"stroke:#000000;stroke-linecap:round;\"/>\n   </g>\n   <g id=\"patch_3\">\n    <path clip-path=\"url(#p25fe527273)\" d=\"M 159.414676 151.173316 \nQ 227.118949 190.826577 303.303672 204.16694 \n\" style=\"fill:none;stroke:#000000;stroke-linecap:round;\"/>\n    <path clip-path=\"url(#p25fe527273)\" d=\"M 299.708583 201.50699 \nL 303.303672 204.16694 \nL 299.018658 205.447041 \nL 299.708583 201.50699 \nz\n\" style=\"stroke:#000000;stroke-linecap:round;\"/>\n   </g>\n   <g id=\"PathCollection_1\">\n    <defs>\n     <path d=\"M 0 8.660254 \nC 2.296726 8.660254 4.499694 7.747755 6.123724 6.123724 \nC 7.747755 4.499694 8.660254 2.296726 8.660254 0 \nC 8.660254 -2.296726 7.747755 -4.499694 6.123724 -6.123724 \nC 4.499694 -7.747755 2.296726 -8.660254 0 -8.660254 \nC -2.296726 -8.660254 -4.499694 -7.747755 -6.123724 -6.123724 \nC -7.747755 -4.499694 -8.660254 -2.296726 -8.660254 0 \nC -8.660254 2.296726 -7.747755 4.499694 -6.123724 6.123724 \nC -4.499694 7.747755 -2.296726 8.660254 0 8.660254 \nz\n\" id=\"mf0044fe641\" style=\"stroke:#1f78b4;\"/>\n    </defs>\n    <g clip-path=\"url(#p25fe527273)\">\n     <use style=\"fill:#1f78b4;stroke:#1f78b4;\" x=\"36.252893\" xlink:href=\"#mf0044fe641\" y=\"26.06876\"/>\n     <use style=\"fill:#1f78b4;stroke:#1f78b4;\" x=\"151.981965\" xlink:href=\"#mf0044fe641\" y=\"146.723742\"/>\n     <use style=\"fill:#1f78b4;stroke:#1f78b4;\" x=\"312.947107\" xlink:href=\"#mf0044fe641\" y=\"205.77124\"/>\n    </g>\n   </g>\n   <g id=\"text_1\">\n    <!-- node_6 -->\n    <g transform=\"translate(18.092736 28.689073)scale(0.1 -0.1)\">\n     <defs>\n      <path d=\"M 3513 2113 \nL 3513 0 \nL 2938 0 \nL 2938 2094 \nQ 2938 2591 2744 2837 \nQ 2550 3084 2163 3084 \nQ 1697 3084 1428 2787 \nQ 1159 2491 1159 1978 \nL 1159 0 \nL 581 0 \nL 581 3500 \nL 1159 3500 \nL 1159 2956 \nQ 1366 3272 1645 3428 \nQ 1925 3584 2291 3584 \nQ 2894 3584 3203 3211 \nQ 3513 2838 3513 2113 \nz\n\" id=\"DejaVuSans-6e\" transform=\"scale(0.015625)\"/>\n      <path d=\"M 1959 3097 \nQ 1497 3097 1228 2736 \nQ 959 2375 959 1747 \nQ 959 1119 1226 758 \nQ 1494 397 1959 397 \nQ 2419 397 2687 759 \nQ 2956 1122 2956 1747 \nQ 2956 2369 2687 2733 \nQ 2419 3097 1959 3097 \nz\nM 1959 3584 \nQ 2709 3584 3137 3096 \nQ 3566 2609 3566 1747 \nQ 3566 888 3137 398 \nQ 2709 -91 1959 -91 \nQ 1206 -91 779 398 \nQ 353 888 353 1747 \nQ 353 2609 779 3096 \nQ 1206 3584 1959 3584 \nz\n\" id=\"DejaVuSans-6f\" transform=\"scale(0.015625)\"/>\n      <path d=\"M 2906 2969 \nL 2906 4863 \nL 3481 4863 \nL 3481 0 \nL 2906 0 \nL 2906 525 \nQ 2725 213 2448 61 \nQ 2172 -91 1784 -91 \nQ 1150 -91 751 415 \nQ 353 922 353 1747 \nQ 353 2572 751 3078 \nQ 1150 3584 1784 3584 \nQ 2172 3584 2448 3432 \nQ 2725 3281 2906 2969 \nz\nM 947 1747 \nQ 947 1113 1208 752 \nQ 1469 391 1925 391 \nQ 2381 391 2643 752 \nQ 2906 1113 2906 1747 \nQ 2906 2381 2643 2742 \nQ 2381 3103 1925 3103 \nQ 1469 3103 1208 2742 \nQ 947 2381 947 1747 \nz\n\" id=\"DejaVuSans-64\" transform=\"scale(0.015625)\"/>\n      <path d=\"M 3597 1894 \nL 3597 1613 \nL 953 1613 \nQ 991 1019 1311 708 \nQ 1631 397 2203 397 \nQ 2534 397 2845 478 \nQ 3156 559 3463 722 \nL 3463 178 \nQ 3153 47 2828 -22 \nQ 2503 -91 2169 -91 \nQ 1331 -91 842 396 \nQ 353 884 353 1716 \nQ 353 2575 817 3079 \nQ 1281 3584 2069 3584 \nQ 2775 3584 3186 3129 \nQ 3597 2675 3597 1894 \nz\nM 3022 2063 \nQ 3016 2534 2758 2815 \nQ 2500 3097 2075 3097 \nQ 1594 3097 1305 2825 \nQ 1016 2553 972 2059 \nL 3022 2063 \nz\n\" id=\"DejaVuSans-65\" transform=\"scale(0.015625)\"/>\n      <path d=\"M 3263 -1063 \nL 3263 -1509 \nL -63 -1509 \nL -63 -1063 \nL 3263 -1063 \nz\n\" id=\"DejaVuSans-5f\" transform=\"scale(0.015625)\"/>\n      <path d=\"M 2113 2584 \nQ 1688 2584 1439 2293 \nQ 1191 2003 1191 1497 \nQ 1191 994 1439 701 \nQ 1688 409 2113 409 \nQ 2538 409 2786 701 \nQ 3034 994 3034 1497 \nQ 3034 2003 2786 2293 \nQ 2538 2584 2113 2584 \nz\nM 3366 4563 \nL 3366 3988 \nQ 3128 4100 2886 4159 \nQ 2644 4219 2406 4219 \nQ 1781 4219 1451 3797 \nQ 1122 3375 1075 2522 \nQ 1259 2794 1537 2939 \nQ 1816 3084 2150 3084 \nQ 2853 3084 3261 2657 \nQ 3669 2231 3669 1497 \nQ 3669 778 3244 343 \nQ 2819 -91 2113 -91 \nQ 1303 -91 875 529 \nQ 447 1150 447 2328 \nQ 447 3434 972 4092 \nQ 1497 4750 2381 4750 \nQ 2619 4750 2861 4703 \nQ 3103 4656 3366 4563 \nz\n\" id=\"DejaVuSans-36\" transform=\"scale(0.015625)\"/>\n     </defs>\n     <use xlink:href=\"#DejaVuSans-6e\"/>\n     <use x=\"63.378906\" xlink:href=\"#DejaVuSans-6f\"/>\n     <use x=\"124.560547\" xlink:href=\"#DejaVuSans-64\"/>\n     <use x=\"188.037109\" xlink:href=\"#DejaVuSans-65\"/>\n     <use x=\"249.560547\" xlink:href=\"#DejaVuSans-5f\"/>\n     <use x=\"299.560547\" xlink:href=\"#DejaVuSans-36\"/>\n    </g>\n   </g>\n   <g id=\"text_2\">\n    <!-- ExampleCntFSM_7 -->\n    <g transform=\"translate(105.710871 149.344055)scale(0.1 -0.1)\">\n     <defs>\n      <path d=\"M 628 4666 \nL 3578 4666 \nL 3578 4134 \nL 1259 4134 \nL 1259 2753 \nL 3481 2753 \nL 3481 2222 \nL 1259 2222 \nL 1259 531 \nL 3634 531 \nL 3634 0 \nL 628 0 \nL 628 4666 \nz\n\" id=\"DejaVuSans-45\" transform=\"scale(0.015625)\"/>\n      <path d=\"M 3513 3500 \nL 2247 1797 \nL 3578 0 \nL 2900 0 \nL 1881 1375 \nL 863 0 \nL 184 0 \nL 1544 1831 \nL 300 3500 \nL 978 3500 \nL 1906 2253 \nL 2834 3500 \nL 3513 3500 \nz\n\" id=\"DejaVuSans-78\" transform=\"scale(0.015625)\"/>\n      <path d=\"M 2194 1759 \nQ 1497 1759 1228 1600 \nQ 959 1441 959 1056 \nQ 959 750 1161 570 \nQ 1363 391 1709 391 \nQ 2188 391 2477 730 \nQ 2766 1069 2766 1631 \nL 2766 1759 \nL 2194 1759 \nz\nM 3341 1997 \nL 3341 0 \nL 2766 0 \nL 2766 531 \nQ 2569 213 2275 61 \nQ 1981 -91 1556 -91 \nQ 1019 -91 701 211 \nQ 384 513 384 1019 \nQ 384 1609 779 1909 \nQ 1175 2209 1959 2209 \nL 2766 2209 \nL 2766 2266 \nQ 2766 2663 2505 2880 \nQ 2244 3097 1772 3097 \nQ 1472 3097 1187 3025 \nQ 903 2953 641 2809 \nL 641 3341 \nQ 956 3463 1253 3523 \nQ 1550 3584 1831 3584 \nQ 2591 3584 2966 3190 \nQ 3341 2797 3341 1997 \nz\n\" id=\"DejaVuSans-61\" transform=\"scale(0.015625)\"/>\n      <path d=\"M 3328 2828 \nQ 3544 3216 3844 3400 \nQ 4144 3584 4550 3584 \nQ 5097 3584 5394 3201 \nQ 5691 2819 5691 2113 \nL 5691 0 \nL 5113 0 \nL 5113 2094 \nQ 5113 2597 4934 2840 \nQ 4756 3084 4391 3084 \nQ 3944 3084 3684 2787 \nQ 3425 2491 3425 1978 \nL 3425 0 \nL 2847 0 \nL 2847 2094 \nQ 2847 2600 2669 2842 \nQ 2491 3084 2119 3084 \nQ 1678 3084 1418 2786 \nQ 1159 2488 1159 1978 \nL 1159 0 \nL 581 0 \nL 581 3500 \nL 1159 3500 \nL 1159 2956 \nQ 1356 3278 1631 3431 \nQ 1906 3584 2284 3584 \nQ 2666 3584 2933 3390 \nQ 3200 3197 3328 2828 \nz\n\" id=\"DejaVuSans-6d\" transform=\"scale(0.015625)\"/>\n      <path d=\"M 1159 525 \nL 1159 -1331 \nL 581 -1331 \nL 581 3500 \nL 1159 3500 \nL 1159 2969 \nQ 1341 3281 1617 3432 \nQ 1894 3584 2278 3584 \nQ 2916 3584 3314 3078 \nQ 3713 2572 3713 1747 \nQ 3713 922 3314 415 \nQ 2916 -91 2278 -91 \nQ 1894 -91 1617 61 \nQ 1341 213 1159 525 \nz\nM 3116 1747 \nQ 3116 2381 2855 2742 \nQ 2594 3103 2138 3103 \nQ 1681 3103 1420 2742 \nQ 1159 2381 1159 1747 \nQ 1159 1113 1420 752 \nQ 1681 391 2138 391 \nQ 2594 391 2855 752 \nQ 3116 1113 3116 1747 \nz\n\" id=\"DejaVuSans-70\" transform=\"scale(0.015625)\"/>\n      <path d=\"M 603 4863 \nL 1178 4863 \nL 1178 0 \nL 603 0 \nL 603 4863 \nz\n\" id=\"DejaVuSans-6c\" transform=\"scale(0.015625)\"/>\n      <path d=\"M 4122 4306 \nL 4122 3641 \nQ 3803 3938 3442 4084 \nQ 3081 4231 2675 4231 \nQ 1875 4231 1450 3742 \nQ 1025 3253 1025 2328 \nQ 1025 1406 1450 917 \nQ 1875 428 2675 428 \nQ 3081 428 3442 575 \nQ 3803 722 4122 1019 \nL 4122 359 \nQ 3791 134 3420 21 \nQ 3050 -91 2638 -91 \nQ 1578 -91 968 557 \nQ 359 1206 359 2328 \nQ 359 3453 968 4101 \nQ 1578 4750 2638 4750 \nQ 3056 4750 3426 4639 \nQ 3797 4528 4122 4306 \nz\n\" id=\"DejaVuSans-43\" transform=\"scale(0.015625)\"/>\n      <path d=\"M 1172 4494 \nL 1172 3500 \nL 2356 3500 \nL 2356 3053 \nL 1172 3053 \nL 1172 1153 \nQ 1172 725 1289 603 \nQ 1406 481 1766 481 \nL 2356 481 \nL 2356 0 \nL 1766 0 \nQ 1100 0 847 248 \nQ 594 497 594 1153 \nL 594 3053 \nL 172 3053 \nL 172 3500 \nL 594 3500 \nL 594 4494 \nL 1172 4494 \nz\n\" id=\"DejaVuSans-74\" transform=\"scale(0.015625)\"/>\n      <path d=\"M 628 4666 \nL 3309 4666 \nL 3309 4134 \nL 1259 4134 \nL 1259 2759 \nL 3109 2759 \nL 3109 2228 \nL 1259 2228 \nL 1259 0 \nL 628 0 \nL 628 4666 \nz\n\" id=\"DejaVuSans-46\" transform=\"scale(0.015625)\"/>\n      <path d=\"M 3425 4513 \nL 3425 3897 \nQ 3066 4069 2747 4153 \nQ 2428 4238 2131 4238 \nQ 1616 4238 1336 4038 \nQ 1056 3838 1056 3469 \nQ 1056 3159 1242 3001 \nQ 1428 2844 1947 2747 \nL 2328 2669 \nQ 3034 2534 3370 2195 \nQ 3706 1856 3706 1288 \nQ 3706 609 3251 259 \nQ 2797 -91 1919 -91 \nQ 1588 -91 1214 -16 \nQ 841 59 441 206 \nL 441 856 \nQ 825 641 1194 531 \nQ 1563 422 1919 422 \nQ 2459 422 2753 634 \nQ 3047 847 3047 1241 \nQ 3047 1584 2836 1778 \nQ 2625 1972 2144 2069 \nL 1759 2144 \nQ 1053 2284 737 2584 \nQ 422 2884 422 3419 \nQ 422 4038 858 4394 \nQ 1294 4750 2059 4750 \nQ 2388 4750 2728 4690 \nQ 3069 4631 3425 4513 \nz\n\" id=\"DejaVuSans-53\" transform=\"scale(0.015625)\"/>\n      <path d=\"M 628 4666 \nL 1569 4666 \nL 2759 1491 \nL 3956 4666 \nL 4897 4666 \nL 4897 0 \nL 4281 0 \nL 4281 4097 \nL 3078 897 \nL 2444 897 \nL 1241 4097 \nL 1241 0 \nL 628 0 \nL 628 4666 \nz\n\" id=\"DejaVuSans-4d\" transform=\"scale(0.015625)\"/>\n      <path d=\"M 525 4666 \nL 3525 4666 \nL 3525 4397 \nL 1831 0 \nL 1172 0 \nL 2766 4134 \nL 525 4134 \nL 525 4666 \nz\n\" id=\"DejaVuSans-37\" transform=\"scale(0.015625)\"/>\n     </defs>\n     <use xlink:href=\"#DejaVuSans-45\"/>\n     <use x=\"63.183594\" xlink:href=\"#DejaVuSans-78\"/>\n     <use x=\"122.363281\" xlink:href=\"#DejaVuSans-61\"/>\n     <use x=\"183.642578\" xlink:href=\"#DejaVuSans-6d\"/>\n     <use x=\"281.054688\" xlink:href=\"#DejaVuSans-70\"/>\n     <use x=\"344.53125\" xlink:href=\"#DejaVuSans-6c\"/>\n     <use x=\"372.314453\" xlink:href=\"#DejaVuSans-65\"/>\n     <use x=\"433.837891\" xlink:href=\"#DejaVuSans-43\"/>\n     <use x=\"503.662109\" xlink:href=\"#DejaVuSans-6e\"/>\n     <use x=\"567.041016\" xlink:href=\"#DejaVuSans-74\"/>\n     <use x=\"606.25\" xlink:href=\"#DejaVuSans-46\"/>\n     <use x=\"662.019531\" xlink:href=\"#DejaVuSans-53\"/>\n     <use x=\"725.496094\" xlink:href=\"#DejaVuSans-4d\"/>\n     <use x=\"811.775391\" xlink:href=\"#DejaVuSans-5f\"/>\n     <use x=\"861.775391\" xlink:href=\"#DejaVuSans-37\"/>\n    </g>\n   </g>\n   <g id=\"text_3\">\n    <!-- save_and_exit_if_8 -->\n    <g transform=\"translate(266.207264 208.391552)scale(0.1 -0.1)\">\n     <defs>\n      <path d=\"M 2834 3397 \nL 2834 2853 \nQ 2591 2978 2328 3040 \nQ 2066 3103 1784 3103 \nQ 1356 3103 1142 2972 \nQ 928 2841 928 2578 \nQ 928 2378 1081 2264 \nQ 1234 2150 1697 2047 \nL 1894 2003 \nQ 2506 1872 2764 1633 \nQ 3022 1394 3022 966 \nQ 3022 478 2636 193 \nQ 2250 -91 1575 -91 \nQ 1294 -91 989 -36 \nQ 684 19 347 128 \nL 347 722 \nQ 666 556 975 473 \nQ 1284 391 1588 391 \nQ 1994 391 2212 530 \nQ 2431 669 2431 922 \nQ 2431 1156 2273 1281 \nQ 2116 1406 1581 1522 \nL 1381 1569 \nQ 847 1681 609 1914 \nQ 372 2147 372 2553 \nQ 372 3047 722 3315 \nQ 1072 3584 1716 3584 \nQ 2034 3584 2315 3537 \nQ 2597 3491 2834 3397 \nz\n\" id=\"DejaVuSans-73\" transform=\"scale(0.015625)\"/>\n      <path d=\"M 191 3500 \nL 800 3500 \nL 1894 563 \nL 2988 3500 \nL 3597 3500 \nL 2284 0 \nL 1503 0 \nL 191 3500 \nz\n\" id=\"DejaVuSans-76\" transform=\"scale(0.015625)\"/>\n      <path d=\"M 603 3500 \nL 1178 3500 \nL 1178 0 \nL 603 0 \nL 603 3500 \nz\nM 603 4863 \nL 1178 4863 \nL 1178 4134 \nL 603 4134 \nL 603 4863 \nz\n\" id=\"DejaVuSans-69\" transform=\"scale(0.015625)\"/>\n      <path d=\"M 2375 4863 \nL 2375 4384 \nL 1825 4384 \nQ 1516 4384 1395 4259 \nQ 1275 4134 1275 3809 \nL 1275 3500 \nL 2222 3500 \nL 2222 3053 \nL 1275 3053 \nL 1275 0 \nL 697 0 \nL 697 3053 \nL 147 3053 \nL 147 3500 \nL 697 3500 \nL 697 3744 \nQ 697 4328 969 4595 \nQ 1241 4863 1831 4863 \nL 2375 4863 \nz\n\" id=\"DejaVuSans-66\" transform=\"scale(0.015625)\"/>\n      <path d=\"M 2034 2216 \nQ 1584 2216 1326 1975 \nQ 1069 1734 1069 1313 \nQ 1069 891 1326 650 \nQ 1584 409 2034 409 \nQ 2484 409 2743 651 \nQ 3003 894 3003 1313 \nQ 3003 1734 2745 1975 \nQ 2488 2216 2034 2216 \nz\nM 1403 2484 \nQ 997 2584 770 2862 \nQ 544 3141 544 3541 \nQ 544 4100 942 4425 \nQ 1341 4750 2034 4750 \nQ 2731 4750 3128 4425 \nQ 3525 4100 3525 3541 \nQ 3525 3141 3298 2862 \nQ 3072 2584 2669 2484 \nQ 3125 2378 3379 2068 \nQ 3634 1759 3634 1313 \nQ 3634 634 3220 271 \nQ 2806 -91 2034 -91 \nQ 1263 -91 848 271 \nQ 434 634 434 1313 \nQ 434 1759 690 2068 \nQ 947 2378 1403 2484 \nz\nM 1172 3481 \nQ 1172 3119 1398 2916 \nQ 1625 2713 2034 2713 \nQ 2441 2713 2670 2916 \nQ 2900 3119 2900 3481 \nQ 2900 3844 2670 4047 \nQ 2441 4250 2034 4250 \nQ 1625 4250 1398 4047 \nQ 1172 3844 1172 3481 \nz\n\" id=\"DejaVuSans-38\" transform=\"scale(0.015625)\"/>\n     </defs>\n     <use xlink:href=\"#DejaVuSans-73\"/>\n     <use x=\"52.099609\" xlink:href=\"#DejaVuSans-61\"/>\n     <use x=\"113.378906\" xlink:href=\"#DejaVuSans-76\"/>\n     <use x=\"172.558594\" xlink:href=\"#DejaVuSans-65\"/>\n     <use x=\"234.082031\" xlink:href=\"#DejaVuSans-5f\"/>\n     <use x=\"284.082031\" xlink:href=\"#DejaVuSans-61\"/>\n     <use x=\"345.361328\" xlink:href=\"#DejaVuSans-6e\"/>\n     <use x=\"408.740234\" xlink:href=\"#DejaVuSans-64\"/>\n     <use x=\"472.216797\" xlink:href=\"#DejaVuSans-5f\"/>\n     <use x=\"522.216797\" xlink:href=\"#DejaVuSans-65\"/>\n     <use x=\"581.990234\" xlink:href=\"#DejaVuSans-78\"/>\n     <use x=\"641.169922\" xlink:href=\"#DejaVuSans-69\"/>\n     <use x=\"668.953125\" xlink:href=\"#DejaVuSans-74\"/>\n     <use x=\"708.162109\" xlink:href=\"#DejaVuSans-5f\"/>\n     <use x=\"758.162109\" xlink:href=\"#DejaVuSans-69\"/>\n     <use x=\"785.945312\" xlink:href=\"#DejaVuSans-66\"/>\n     <use x=\"821.150391\" xlink:href=\"#DejaVuSans-5f\"/>\n     <use x=\"871.150391\" xlink:href=\"#DejaVuSans-38\"/>\n    </g>\n   </g>\n  </g>\n </g>\n <defs>\n  <clipPath id=\"p25fe527273\">\n   <rect height=\"217.44\" width=\"334.8\" x=\"7.2\" y=\"7.2\"/>\n  </clipPath>\n </defs>\n</svg>\n",
      "image/png": "[encoded data removed]"
     },
     "metadata": {}
    }
   ],
   "source": [
    "s = dl.lib.StateSaver(int, verbose=True, condition=lambda x: x >= 10)\n",
    "migen = ExampleCountOutFSM(name='ExampleCntFSM')\n",
    "with dl.DeltaGraph() as graph:\n",
    "    migen_out = migen.call(in1=1)\n",
    "    s.save_and_exit_if(migen_out.out1)\n",
    "\n",
    "graph.draw(seed=1)"
   ]
  },
  {
   "source": [
    "And run:"
   ],
   "cell_type": "markdown",
   "metadata": {}
  },
  {
   "cell_type": "code",
   "execution_count": 11,
   "metadata": {},
   "outputs": [
    {
     "output_type": "stream",
     "name": "stdout",
     "text": [
      "saving 0\nsaving 0\nsaving 1\nsaving 2\nsaving 3\nsaving 4\nsaving 5\nsaving 6\nsaving 7\nsaving 8\nsaving 9\nsaving 10\nValue of cnt inside migen node (10,)\n"
     ]
    }
   ],
   "source": [
    "rt = dl.DeltaPySimulator(graph)\n",
    "rt.run()\n",
    "\n",
    "print (f\"Value of cnt inside migen node {migen.out_buffer}\")\n",
    "\n",
    "assert s.saved[-1] == 10"
   ]
  },
  {
   "cell_type": "markdown",
   "metadata": {},
   "source": [
    "If you now were to change the exit condition to `lambda x: x >= 11` instead of `lambda x: x >= 10`\n",
    "the simulatro will never complete as the migen node will not generate a value greater than 10.\n",
    "\n",
    "### Conclusion\n",
    "\n",
    "There is much more to be said about how to work with FPGA but this should hopefully show that\n",
    "simple logic around inputs and ouputs can be simply implemented.\n",
    "In general, FPGAs are used to minimise latency and to significantly reduced bandwidth\n",
    "requirements (by aggregating signals) of your systems.\n",
    "Plus it is generally easier to implement real-time controls on FPGAs than on CPUs."
   ]
  }
 ],
 "metadata": {
  "file_extension": ".py",
  "kernelspec": {
   "name": "python3",
   "display_name": "Python 3.8.5 64-bit"
  },
  "language_info": {
   "codemirror_mode": {
    "name": "ipython",
    "version": 3
   },
   "file_extension": ".py",
   "mimetype": "text/x-python",
   "name": "python",
   "nbconvert_exporter": "python",
   "pygments_lexer": "ipython3",
   "version": "3.8.5"
  },
  "mimetype": "text/x-python",
  "name": "python",
  "npconvert_exporter": "python",
  "pycharm": {
   "stem_cell": {
    "cell_type": "raw",
    "source": [],
    "metadata": {
     "collapsed": false
    }
   }
  },
  "pygments_lexer": "ipython3",
  "version": 3,
  "interpreter": {
   "hash": "e7370f93d1d0cde622a1f8e1c04877d8463912d04d973331ad4851f04de6915a"
  }
 },
 "nbformat": 4,
 "nbformat_minor": 2
}