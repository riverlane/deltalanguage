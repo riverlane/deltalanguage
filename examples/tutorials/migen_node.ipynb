{
 "cells": [
  {
   "cell_type": "markdown",
   "metadata": {},
   "source": [
    "## Migen Nodes\n",
    "\n",
    "MigenNodes leverage the migen framework to define logic that can compiled and executed on FPGAs.\n",
    "For more detail about the migen project please refer to https://github.com/m-labs/migen.\n",
    "Before introducing the node, few important points about FPGA logic. \n",
    "\n",
    "### Combinatorial vs Sequential (clocked) logic\n",
    "\n",
    "The logic that composes an FPGA can be decomposed in a large number of blocks that change\n",
    "their status (and their output) as a function of their input(s).\n",
    "An important distinction is between combinatorial logic and sequential logic.\n",
    "Blocks implemented using the former logic generate a change in their output as\n",
    "soon as an input changes.\n",
    "Blocks instead implemented via sequential logic will propagate the change when a global\n",
    "signal (normally called clk or sys_clk) transitions from one value to another\n",
    "(normally from 0 to 1 - also known as rising edge transition).\n",
    "\n",
    "### Inputs and output behaviour\n",
    "\n",
    "FPGAs don't have the concept of `None` for an input and output.\n",
    "The logic that composes the FPGA will always produce a value of 0 or 1 to the pins of the chip\n",
    "(exceptions are high-impedance values that we won't discuss here).\n",
    "This applies for input pins as well.\n",
    "\n",
    "In order to connect to other via asynctonous channel and also be able to handle `None` we have implemented **protocol adapters**.\n",
    "A protocol adapter relies on extra signals to indicate that the input or the output values should be considered valid.\n",
    "Furthermore, because hardware can be busy processing the inputs or outputting the outputs to the outside\n",
    "world we have ready signals on input and output ports.\n",
    "The designer should keep in mind this when implementing the input and output portion of the block.\n",
    "\n",
    "Let's start by importing the libraries needed\n"
   ]
  },
  {
   "cell_type": "code",
   "execution_count": 1,
   "metadata": {
    "scrolled": true
   },
   "outputs": [],
   "source": [
    "import logging\n",
    "\n",
    "from migen import Signal, FSM, If, NextValue, NextState\n",
    "\n",
    "from deltalanguage.data_types import DOptional, NoMessage\n",
    "from deltalanguage.lib import StateSaver\n",
    "from deltalanguage.runtime import DeltaPySimulator\n",
    "from deltalanguage.wiring import DeltaGraph, MigenNodeTemplate"
   ]
  },
  {
   "cell_type": "markdown",
   "metadata": {},
   "source": [
    "### Example 1: simple wire\n",
    "\n",
    "All MigenNode inherit from `MigenNodeTemplate` and must implement the `migen_body` method.\n",
    "In the initial part we define inputs and outputs of the node.\n",
    "In this example we will simply take an input and send it out as an output.\n",
    "\n",
    "**Note that all inputs have to be optional, i.e. use `DOptional`.\n",
    "This is default behaiviour for hardware simulation.**"
   ]
  },
  {
   "cell_type": "code",
   "execution_count": 2,
   "metadata": {},
   "outputs": [],
   "source": [
    "class ExampleInOut(MigenNodeTemplate):\n",
    "\n",
    "     def migen_body(self, template):\n",
    "          # Use this method of constructing I/O\n",
    "          in1 = template.add_pa_in_port('in1', DOptional(int))\n",
    "          out1 = template.add_pa_out_port('out1', int)\n",
    "\n",
    "          # Example internal logic.\n",
    "\n",
    "          # Declaring the input to be ready for receiving\n",
    "          self.comb += (\n",
    "               in1.ready.eq(1)\n",
    "          )\n",
    "\n",
    "          # Sending the input to the output.\n",
    "          # Output data is valid when received on the input.\n",
    "          self.comb += (\n",
    "               out1.data.eq(in1.data),\n",
    "               out1.valid.eq(in1.valid)\n",
    "          )"
   ]
  },
  {
   "cell_type": "markdown",
   "metadata": {},
   "source": [
    "Both ports `in1` and `out1` have three properties:\n",
    "\n",
    "- `data` - actual data\n",
    "- `valid` - 1-bit flag showing that the data is valid\n",
    "- `ready` - 1-bit flag indicating the readiness for data\n",
    "\n",
    "They were created by `template.add_pa_in_port` and `template.add_pa_out_port`\n",
    "which play a role of protocol adapters and bind the migen logic to input\n",
    "and output buffers.\n",
    "\n",
    "In the current version they are implemented like this\n",
    "(see `MigenNodeTemplate.tb_generator` for implementation of\n",
    "the testbench generator):\n",
    "\n",
    "- inputs\n",
    "    - in order to permit receiving `data` the user must define the input's `ready` to 1\n",
    "    - if yes, then `data` message can be received, buffered, and its `valid` becomes 1\n",
    "    - if no, the input is not received\n",
    "- outputs\n",
    "    - always has `ready` as 1\n",
    "    - on sending `data` the user must define its `valid` to 1\n",
    "    - if yes, `data` will be buffered and sent out from the nodes\n",
    "    - if no, `data` will stay in the testbench\n",
    "\n",
    "To see the block in action, we must put it in a graph, let's define some helper nodes:"
   ]
  },
  {
   "cell_type": "code",
   "execution_count": 3,
   "metadata": {},
   "outputs": [],
   "source": [
    "# this node will exit if receives 1+,\n",
    "# otherwise just prints on the screen\n",
    "s = StateSaver(verbose=True, condition=lambda x: x >= 1)"
   ]
  },
  {
   "cell_type": "markdown",
   "metadata": {},
   "source": [
    "Now, define the graph:"
   ]
  },
  {
   "cell_type": "code",
   "execution_count": 4,
   "metadata": {},
   "outputs": [
    {
     "output_type": "display_data",
     "data": {
      "text/plain": "<Figure size 432x288 with 1 Axes>",
      "image/svg+xml": "<?xml version=\"1.0\" encoding=\"utf-8\" standalone=\"no\"?>\n<!DOCTYPE svg PUBLIC \"-//W3C//DTD SVG 1.1//EN\"\n  \"http://www.w3.org/Graphics/SVG/1.1/DTD/svg11.dtd\">\n<!-- Created with matplotlib (https://matplotlib.org/) -->\n<svg height=\"231.84pt\" version=\"1.1\" viewBox=\"0 0 366.886951 231.84\" width=\"366.886951pt\" xmlns=\"http://www.w3.org/2000/svg\" xmlns:xlink=\"http://www.w3.org/1999/xlink\">\n <metadata>\n  <rdf:RDF xmlns:cc=\"http://creativecommons.org/ns#\" xmlns:dc=\"http://purl.org/dc/elements/1.1/\" xmlns:rdf=\"http://www.w3.org/1999/02/22-rdf-syntax-ns#\">\n   <cc:Work>\n    <dc:type rdf:resource=\"http://purl.org/dc/dcmitype/StillImage\"/>\n    <dc:date>2020-11-24T11:12:06.315265</dc:date>\n    <dc:format>image/svg+xml</dc:format>\n    <dc:creator>\n     <cc:Agent>\n      <dc:title>Matplotlib v3.3.3, https://matplotlib.org/</dc:title>\n     </cc:Agent>\n    </dc:creator>\n   </cc:Work>\n  </rdf:RDF>\n </metadata>\n <defs>\n  <style type=\"text/css\">*{stroke-linecap:butt;stroke-linejoin:round;}</style>\n </defs>\n <g id=\"figure_1\">\n  <g id=\"patch_1\">\n   <path d=\"M 0 231.84 \nL 366.886951 231.84 \nL 366.886951 0 \nL 0 0 \nz\n\" style=\"fill:none;\"/>\n  </g>\n  <g id=\"axes_1\">\n   <g id=\"patch_2\">\n    <path clip-path=\"url(#pc3ab789729)\" d=\"M 40.976631 33.326566 \nQ 83.217292 96.851058 144.022472 141.044163 \n\" style=\"fill:none;stroke:#000000;stroke-linecap:round;\"/>\n    <path clip-path=\"url(#pc3ab789729)\" d=\"M 141.962639 137.074643 \nL 144.022472 141.044163 \nL 139.610956 140.310317 \nL 141.962639 137.074643 \nz\n\" style=\"stroke:#000000;stroke-linecap:round;\"/>\n   </g>\n   <g id=\"patch_3\">\n    <path clip-path=\"url(#pc3ab789729)\" d=\"M 159.414676 151.173316 \nQ 227.118949 190.826577 303.303672 204.16694 \n\" style=\"fill:none;stroke:#000000;stroke-linecap:round;\"/>\n    <path clip-path=\"url(#pc3ab789729)\" d=\"M 299.708583 201.50699 \nL 303.303672 204.16694 \nL 299.018658 205.447041 \nL 299.708583 201.50699 \nz\n\" style=\"stroke:#000000;stroke-linecap:round;\"/>\n   </g>\n   <g id=\"PathCollection_1\">\n    <defs>\n     <path d=\"M 0 8.660254 \nC 2.296726 8.660254 4.499694 7.747755 6.123724 6.123724 \nC 7.747755 4.499694 8.660254 2.296726 8.660254 0 \nC 8.660254 -2.296726 7.747755 -4.499694 6.123724 -6.123724 \nC 4.499694 -7.747755 2.296726 -8.660254 0 -8.660254 \nC -2.296726 -8.660254 -4.499694 -7.747755 -6.123724 -6.123724 \nC -7.747755 -4.499694 -8.660254 -2.296726 -8.660254 0 \nC -8.660254 2.296726 -7.747755 4.499694 -6.123724 6.123724 \nC -4.499694 7.747755 -2.296726 8.660254 0 8.660254 \nz\n\" id=\"m945d0e40c0\" style=\"stroke:#1f78b4;\"/>\n    </defs>\n    <g clip-path=\"url(#pc3ab789729)\">\n     <use style=\"fill:#1f78b4;stroke:#1f78b4;\" x=\"36.252893\" xlink:href=\"#m945d0e40c0\" y=\"26.06876\"/>\n     <use style=\"fill:#1f78b4;stroke:#1f78b4;\" x=\"151.981965\" xlink:href=\"#m945d0e40c0\" y=\"146.723742\"/>\n     <use style=\"fill:#1f78b4;stroke:#1f78b4;\" x=\"312.947107\" xlink:href=\"#m945d0e40c0\" y=\"205.77124\"/>\n    </g>\n   </g>\n   <g id=\"text_1\">\n    <!-- node_0 -->\n    <g transform=\"translate(18.092736 28.689073)scale(0.1 -0.1)\">\n     <defs>\n      <path d=\"M 54.890625 33.015625 \nL 54.890625 0 \nL 45.90625 0 \nL 45.90625 32.71875 \nQ 45.90625 40.484375 42.875 44.328125 \nQ 39.84375 48.1875 33.796875 48.1875 \nQ 26.515625 48.1875 22.3125 43.546875 \nQ 18.109375 38.921875 18.109375 30.90625 \nL 18.109375 0 \nL 9.078125 0 \nL 9.078125 54.6875 \nL 18.109375 54.6875 \nL 18.109375 46.1875 \nQ 21.34375 51.125 25.703125 53.5625 \nQ 30.078125 56 35.796875 56 \nQ 45.21875 56 50.046875 50.171875 \nQ 54.890625 44.34375 54.890625 33.015625 \nz\n\" id=\"DejaVuSans-110\"/>\n      <path d=\"M 30.609375 48.390625 \nQ 23.390625 48.390625 19.1875 42.75 \nQ 14.984375 37.109375 14.984375 27.296875 \nQ 14.984375 17.484375 19.15625 11.84375 \nQ 23.34375 6.203125 30.609375 6.203125 \nQ 37.796875 6.203125 41.984375 11.859375 \nQ 46.1875 17.53125 46.1875 27.296875 \nQ 46.1875 37.015625 41.984375 42.703125 \nQ 37.796875 48.390625 30.609375 48.390625 \nz\nM 30.609375 56 \nQ 42.328125 56 49.015625 48.375 \nQ 55.71875 40.765625 55.71875 27.296875 \nQ 55.71875 13.875 49.015625 6.21875 \nQ 42.328125 -1.421875 30.609375 -1.421875 \nQ 18.84375 -1.421875 12.171875 6.21875 \nQ 5.515625 13.875 5.515625 27.296875 \nQ 5.515625 40.765625 12.171875 48.375 \nQ 18.84375 56 30.609375 56 \nz\n\" id=\"DejaVuSans-111\"/>\n      <path d=\"M 45.40625 46.390625 \nL 45.40625 75.984375 \nL 54.390625 75.984375 \nL 54.390625 0 \nL 45.40625 0 \nL 45.40625 8.203125 \nQ 42.578125 3.328125 38.25 0.953125 \nQ 33.9375 -1.421875 27.875 -1.421875 \nQ 17.96875 -1.421875 11.734375 6.484375 \nQ 5.515625 14.40625 5.515625 27.296875 \nQ 5.515625 40.1875 11.734375 48.09375 \nQ 17.96875 56 27.875 56 \nQ 33.9375 56 38.25 53.625 \nQ 42.578125 51.265625 45.40625 46.390625 \nz\nM 14.796875 27.296875 \nQ 14.796875 17.390625 18.875 11.75 \nQ 22.953125 6.109375 30.078125 6.109375 \nQ 37.203125 6.109375 41.296875 11.75 \nQ 45.40625 17.390625 45.40625 27.296875 \nQ 45.40625 37.203125 41.296875 42.84375 \nQ 37.203125 48.484375 30.078125 48.484375 \nQ 22.953125 48.484375 18.875 42.84375 \nQ 14.796875 37.203125 14.796875 27.296875 \nz\n\" id=\"DejaVuSans-100\"/>\n      <path d=\"M 56.203125 29.59375 \nL 56.203125 25.203125 \nL 14.890625 25.203125 \nQ 15.484375 15.921875 20.484375 11.0625 \nQ 25.484375 6.203125 34.421875 6.203125 \nQ 39.59375 6.203125 44.453125 7.46875 \nQ 49.3125 8.734375 54.109375 11.28125 \nL 54.109375 2.78125 \nQ 49.265625 0.734375 44.1875 -0.34375 \nQ 39.109375 -1.421875 33.890625 -1.421875 \nQ 20.796875 -1.421875 13.15625 6.1875 \nQ 5.515625 13.8125 5.515625 26.8125 \nQ 5.515625 40.234375 12.765625 48.109375 \nQ 20.015625 56 32.328125 56 \nQ 43.359375 56 49.78125 48.890625 \nQ 56.203125 41.796875 56.203125 29.59375 \nz\nM 47.21875 32.234375 \nQ 47.125 39.59375 43.09375 43.984375 \nQ 39.0625 48.390625 32.421875 48.390625 \nQ 24.90625 48.390625 20.390625 44.140625 \nQ 15.875 39.890625 15.1875 32.171875 \nz\n\" id=\"DejaVuSans-101\"/>\n      <path d=\"M 50.984375 -16.609375 \nL 50.984375 -23.578125 \nL -0.984375 -23.578125 \nL -0.984375 -16.609375 \nz\n\" id=\"DejaVuSans-95\"/>\n      <path d=\"M 31.78125 66.40625 \nQ 24.171875 66.40625 20.328125 58.90625 \nQ 16.5 51.421875 16.5 36.375 \nQ 16.5 21.390625 20.328125 13.890625 \nQ 24.171875 6.390625 31.78125 6.390625 \nQ 39.453125 6.390625 43.28125 13.890625 \nQ 47.125 21.390625 47.125 36.375 \nQ 47.125 51.421875 43.28125 58.90625 \nQ 39.453125 66.40625 31.78125 66.40625 \nz\nM 31.78125 74.21875 \nQ 44.046875 74.21875 50.515625 64.515625 \nQ 56.984375 54.828125 56.984375 36.375 \nQ 56.984375 17.96875 50.515625 8.265625 \nQ 44.046875 -1.421875 31.78125 -1.421875 \nQ 19.53125 -1.421875 13.0625 8.265625 \nQ 6.59375 17.96875 6.59375 36.375 \nQ 6.59375 54.828125 13.0625 64.515625 \nQ 19.53125 74.21875 31.78125 74.21875 \nz\n\" id=\"DejaVuSans-48\"/>\n     </defs>\n     <use xlink:href=\"#DejaVuSans-110\"/>\n     <use x=\"63.378906\" xlink:href=\"#DejaVuSans-111\"/>\n     <use x=\"124.560547\" xlink:href=\"#DejaVuSans-100\"/>\n     <use x=\"188.037109\" xlink:href=\"#DejaVuSans-101\"/>\n     <use x=\"249.560547\" xlink:href=\"#DejaVuSans-95\"/>\n     <use x=\"299.560547\" xlink:href=\"#DejaVuSans-48\"/>\n    </g>\n   </g>\n   <g id=\"text_2\">\n    <!-- InOut_1 -->\n    <g transform=\"translate(132.592121 149.255774)scale(0.1 -0.1)\">\n     <defs>\n      <path d=\"M 9.8125 72.90625 \nL 19.671875 72.90625 \nL 19.671875 0 \nL 9.8125 0 \nz\n\" id=\"DejaVuSans-73\"/>\n      <path d=\"M 39.40625 66.21875 \nQ 28.65625 66.21875 22.328125 58.203125 \nQ 16.015625 50.203125 16.015625 36.375 \nQ 16.015625 22.609375 22.328125 14.59375 \nQ 28.65625 6.59375 39.40625 6.59375 \nQ 50.140625 6.59375 56.421875 14.59375 \nQ 62.703125 22.609375 62.703125 36.375 \nQ 62.703125 50.203125 56.421875 58.203125 \nQ 50.140625 66.21875 39.40625 66.21875 \nz\nM 39.40625 74.21875 \nQ 54.734375 74.21875 63.90625 63.9375 \nQ 73.09375 53.65625 73.09375 36.375 \nQ 73.09375 19.140625 63.90625 8.859375 \nQ 54.734375 -1.421875 39.40625 -1.421875 \nQ 24.03125 -1.421875 14.8125 8.828125 \nQ 5.609375 19.09375 5.609375 36.375 \nQ 5.609375 53.65625 14.8125 63.9375 \nQ 24.03125 74.21875 39.40625 74.21875 \nz\n\" id=\"DejaVuSans-79\"/>\n      <path d=\"M 8.5 21.578125 \nL 8.5 54.6875 \nL 17.484375 54.6875 \nL 17.484375 21.921875 \nQ 17.484375 14.15625 20.5 10.265625 \nQ 23.53125 6.390625 29.59375 6.390625 \nQ 36.859375 6.390625 41.078125 11.03125 \nQ 45.3125 15.671875 45.3125 23.6875 \nL 45.3125 54.6875 \nL 54.296875 54.6875 \nL 54.296875 0 \nL 45.3125 0 \nL 45.3125 8.40625 \nQ 42.046875 3.421875 37.71875 1 \nQ 33.40625 -1.421875 27.6875 -1.421875 \nQ 18.265625 -1.421875 13.375 4.4375 \nQ 8.5 10.296875 8.5 21.578125 \nz\nM 31.109375 56 \nz\n\" id=\"DejaVuSans-117\"/>\n      <path d=\"M 18.3125 70.21875 \nL 18.3125 54.6875 \nL 36.8125 54.6875 \nL 36.8125 47.703125 \nL 18.3125 47.703125 \nL 18.3125 18.015625 \nQ 18.3125 11.328125 20.140625 9.421875 \nQ 21.96875 7.515625 27.59375 7.515625 \nL 36.8125 7.515625 \nL 36.8125 0 \nL 27.59375 0 \nQ 17.1875 0 13.234375 3.875 \nQ 9.28125 7.765625 9.28125 18.015625 \nL 9.28125 47.703125 \nL 2.6875 47.703125 \nL 2.6875 54.6875 \nL 9.28125 54.6875 \nL 9.28125 70.21875 \nz\n\" id=\"DejaVuSans-116\"/>\n      <path d=\"M 12.40625 8.296875 \nL 28.515625 8.296875 \nL 28.515625 63.921875 \nL 10.984375 60.40625 \nL 10.984375 69.390625 \nL 28.421875 72.90625 \nL 38.28125 72.90625 \nL 38.28125 8.296875 \nL 54.390625 8.296875 \nL 54.390625 0 \nL 12.40625 0 \nz\n\" id=\"DejaVuSans-49\"/>\n     </defs>\n     <use xlink:href=\"#DejaVuSans-73\"/>\n     <use x=\"29.492188\" xlink:href=\"#DejaVuSans-110\"/>\n     <use x=\"92.871094\" xlink:href=\"#DejaVuSans-79\"/>\n     <use x=\"171.582031\" xlink:href=\"#DejaVuSans-117\"/>\n     <use x=\"234.960938\" xlink:href=\"#DejaVuSans-116\"/>\n     <use x=\"274.169922\" xlink:href=\"#DejaVuSans-95\"/>\n     <use x=\"324.169922\" xlink:href=\"#DejaVuSans-49\"/>\n    </g>\n   </g>\n   <g id=\"text_3\">\n    <!-- save_and_exit_if_2 -->\n    <g transform=\"translate(266.207264 208.391552)scale(0.1 -0.1)\">\n     <defs>\n      <path d=\"M 44.28125 53.078125 \nL 44.28125 44.578125 \nQ 40.484375 46.53125 36.375 47.5 \nQ 32.28125 48.484375 27.875 48.484375 \nQ 21.1875 48.484375 17.84375 46.4375 \nQ 14.5 44.390625 14.5 40.28125 \nQ 14.5 37.15625 16.890625 35.375 \nQ 19.28125 33.59375 26.515625 31.984375 \nL 29.59375 31.296875 \nQ 39.15625 29.25 43.1875 25.515625 \nQ 47.21875 21.78125 47.21875 15.09375 \nQ 47.21875 7.46875 41.1875 3.015625 \nQ 35.15625 -1.421875 24.609375 -1.421875 \nQ 20.21875 -1.421875 15.453125 -0.5625 \nQ 10.6875 0.296875 5.421875 2 \nL 5.421875 11.28125 \nQ 10.40625 8.6875 15.234375 7.390625 \nQ 20.0625 6.109375 24.8125 6.109375 \nQ 31.15625 6.109375 34.5625 8.28125 \nQ 37.984375 10.453125 37.984375 14.40625 \nQ 37.984375 18.0625 35.515625 20.015625 \nQ 33.0625 21.96875 24.703125 23.78125 \nL 21.578125 24.515625 \nQ 13.234375 26.265625 9.515625 29.90625 \nQ 5.8125 33.546875 5.8125 39.890625 \nQ 5.8125 47.609375 11.28125 51.796875 \nQ 16.75 56 26.8125 56 \nQ 31.78125 56 36.171875 55.265625 \nQ 40.578125 54.546875 44.28125 53.078125 \nz\n\" id=\"DejaVuSans-115\"/>\n      <path d=\"M 34.28125 27.484375 \nQ 23.390625 27.484375 19.1875 25 \nQ 14.984375 22.515625 14.984375 16.5 \nQ 14.984375 11.71875 18.140625 8.90625 \nQ 21.296875 6.109375 26.703125 6.109375 \nQ 34.1875 6.109375 38.703125 11.40625 \nQ 43.21875 16.703125 43.21875 25.484375 \nL 43.21875 27.484375 \nz\nM 52.203125 31.203125 \nL 52.203125 0 \nL 43.21875 0 \nL 43.21875 8.296875 \nQ 40.140625 3.328125 35.546875 0.953125 \nQ 30.953125 -1.421875 24.3125 -1.421875 \nQ 15.921875 -1.421875 10.953125 3.296875 \nQ 6 8.015625 6 15.921875 \nQ 6 25.140625 12.171875 29.828125 \nQ 18.359375 34.515625 30.609375 34.515625 \nL 43.21875 34.515625 \nL 43.21875 35.40625 \nQ 43.21875 41.609375 39.140625 45 \nQ 35.0625 48.390625 27.6875 48.390625 \nQ 23 48.390625 18.546875 47.265625 \nQ 14.109375 46.140625 10.015625 43.890625 \nL 10.015625 52.203125 \nQ 14.9375 54.109375 19.578125 55.046875 \nQ 24.21875 56 28.609375 56 \nQ 40.484375 56 46.34375 49.84375 \nQ 52.203125 43.703125 52.203125 31.203125 \nz\n\" id=\"DejaVuSans-97\"/>\n      <path d=\"M 2.984375 54.6875 \nL 12.5 54.6875 \nL 29.59375 8.796875 \nL 46.6875 54.6875 \nL 56.203125 54.6875 \nL 35.6875 0 \nL 23.484375 0 \nz\n\" id=\"DejaVuSans-118\"/>\n      <path d=\"M 54.890625 54.6875 \nL 35.109375 28.078125 \nL 55.90625 0 \nL 45.3125 0 \nL 29.390625 21.484375 \nL 13.484375 0 \nL 2.875 0 \nL 24.125 28.609375 \nL 4.6875 54.6875 \nL 15.28125 54.6875 \nL 29.78125 35.203125 \nL 44.28125 54.6875 \nz\n\" id=\"DejaVuSans-120\"/>\n      <path d=\"M 9.421875 54.6875 \nL 18.40625 54.6875 \nL 18.40625 0 \nL 9.421875 0 \nz\nM 9.421875 75.984375 \nL 18.40625 75.984375 \nL 18.40625 64.59375 \nL 9.421875 64.59375 \nz\n\" id=\"DejaVuSans-105\"/>\n      <path d=\"M 37.109375 75.984375 \nL 37.109375 68.5 \nL 28.515625 68.5 \nQ 23.6875 68.5 21.796875 66.546875 \nQ 19.921875 64.59375 19.921875 59.515625 \nL 19.921875 54.6875 \nL 34.71875 54.6875 \nL 34.71875 47.703125 \nL 19.921875 47.703125 \nL 19.921875 0 \nL 10.890625 0 \nL 10.890625 47.703125 \nL 2.296875 47.703125 \nL 2.296875 54.6875 \nL 10.890625 54.6875 \nL 10.890625 58.5 \nQ 10.890625 67.625 15.140625 71.796875 \nQ 19.390625 75.984375 28.609375 75.984375 \nz\n\" id=\"DejaVuSans-102\"/>\n      <path d=\"M 19.1875 8.296875 \nL 53.609375 8.296875 \nL 53.609375 0 \nL 7.328125 0 \nL 7.328125 8.296875 \nQ 12.9375 14.109375 22.625 23.890625 \nQ 32.328125 33.6875 34.8125 36.53125 \nQ 39.546875 41.84375 41.421875 45.53125 \nQ 43.3125 49.21875 43.3125 52.78125 \nQ 43.3125 58.59375 39.234375 62.25 \nQ 35.15625 65.921875 28.609375 65.921875 \nQ 23.96875 65.921875 18.8125 64.3125 \nQ 13.671875 62.703125 7.8125 59.421875 \nL 7.8125 69.390625 \nQ 13.765625 71.78125 18.9375 73 \nQ 24.125 74.21875 28.421875 74.21875 \nQ 39.75 74.21875 46.484375 68.546875 \nQ 53.21875 62.890625 53.21875 53.421875 \nQ 53.21875 48.921875 51.53125 44.890625 \nQ 49.859375 40.875 45.40625 35.40625 \nQ 44.1875 33.984375 37.640625 27.21875 \nQ 31.109375 20.453125 19.1875 8.296875 \nz\n\" id=\"DejaVuSans-50\"/>\n     </defs>\n     <use xlink:href=\"#DejaVuSans-115\"/>\n     <use x=\"52.099609\" xlink:href=\"#DejaVuSans-97\"/>\n     <use x=\"113.378906\" xlink:href=\"#DejaVuSans-118\"/>\n     <use x=\"172.558594\" xlink:href=\"#DejaVuSans-101\"/>\n     <use x=\"234.082031\" xlink:href=\"#DejaVuSans-95\"/>\n     <use x=\"284.082031\" xlink:href=\"#DejaVuSans-97\"/>\n     <use x=\"345.361328\" xlink:href=\"#DejaVuSans-110\"/>\n     <use x=\"408.740234\" xlink:href=\"#DejaVuSans-100\"/>\n     <use x=\"472.216797\" xlink:href=\"#DejaVuSans-95\"/>\n     <use x=\"522.216797\" xlink:href=\"#DejaVuSans-101\"/>\n     <use x=\"581.990234\" xlink:href=\"#DejaVuSans-120\"/>\n     <use x=\"641.169922\" xlink:href=\"#DejaVuSans-105\"/>\n     <use x=\"668.953125\" xlink:href=\"#DejaVuSans-116\"/>\n     <use x=\"708.162109\" xlink:href=\"#DejaVuSans-95\"/>\n     <use x=\"758.162109\" xlink:href=\"#DejaVuSans-105\"/>\n     <use x=\"785.945312\" xlink:href=\"#DejaVuSans-102\"/>\n     <use x=\"821.150391\" xlink:href=\"#DejaVuSans-95\"/>\n     <use x=\"871.150391\" xlink:href=\"#DejaVuSans-50\"/>\n    </g>\n   </g>\n  </g>\n </g>\n <defs>\n  <clipPath id=\"pc3ab789729\">\n   <rect height=\"217.44\" width=\"334.8\" x=\"7.2\" y=\"7.2\"/>\n  </clipPath>\n </defs>\n</svg>\n",
      "image/png": "[encoded data removed]"
     },
     "metadata": {}
    }
   ],
   "source": [
    "migen = ExampleInOut(name='InOut')\n",
    "\n",
    "with DeltaGraph() as graph:\n",
    "    migen_out = migen.call(in1=1)\n",
    "    s.save_and_exit_if(migen_out.out1)\n",
    "\n",
    "graph.draw(seed=1)"
   ]
  },
  {
   "cell_type": "markdown",
   "metadata": {},
   "source": [
    "This _looks_ good, so we can run this graph in the simulator:"
   ]
  },
  {
   "cell_type": "code",
   "execution_count": 5,
   "metadata": {
    "tags": []
   },
   "outputs": [
    {
     "output_type": "stream",
     "name": "stdout",
     "text": [
      "saving 1\n"
     ]
    }
   ],
   "source": [
    "rt = DeltaPySimulator(graph)\n",
    "rt.run()\n",
    "\n",
    "# check the result\n",
    "assert s.saved[-1] == 1"
   ]
  },
  {
   "cell_type": "markdown",
   "metadata": {},
   "source": [
    "### Example 2: counter\n",
    "\n",
    "Let's now make a tiny bit more complex application of a migen node.\n",
    "We want to generate a sequence `0, 1, 2, ..., 2**N` and send it to the outside world when our input is valid.\n",
    "To give enough time to a real hardware node to send the data will change the value of the output every\n",
    "clock cycle (with a sync block).\n",
    "\n",
    "Also we add this `migen.Signal` to the debugging dictionary to\n",
    "caprute the internal behaiviour:"
   ]
  },
  {
   "cell_type": "code",
   "execution_count": 6,
   "metadata": {
    "tags": []
   },
   "outputs": [],
   "source": [
    "CNT_SIZE = 10\n",
    "\n",
    "\n",
    "class ExampleCountOut(MigenNodeTemplate):\n",
    "\n",
    "     def migen_body(self, template):\n",
    "          # I/O:\n",
    "          in1 = template.add_pa_in_port('in1', DOptional(int))\n",
    "          out1 = template.add_pa_out_port('out1', int)\n",
    "\n",
    "          # Logic:\n",
    "          self.comb += (\n",
    "               in1.ready.eq(1),\n",
    "               out1.ready.eq(1)\n",
    "          )\n",
    "\n",
    "          # 10-bit counter - [0, 2**CNT_SIZE - 1]\n",
    "          self.cnt = Signal(CNT_SIZE)\n",
    "\n",
    "          # Incrementing the counter of 1 per clock cycle\n",
    "          self.sync += self.cnt.eq(self.cnt+1)\n",
    "\n",
    "          # Sending the input to the output. Data will be valid on\n",
    "          # the output when received on the inpuy  \n",
    "          self.comb += (\n",
    "               out1.data.eq(self.cnt),\n",
    "               out1.valid.eq(in1.valid)\n",
    "          )\n",
    "\n",
    "          # To add the internal Signal to debugging, add a new\n",
    "          # value to the dictionary, in the following form:\n",
    "          # Tuple[migen.Signal, str], where str is number format\n",
    "          #\n",
    "          # Ref: https://mkaz.blog/code/python-string-format-cookbook/\n",
    "          template.debug_signals['cnt'] = (self.cnt, f'0{CNT_SIZE}b')"
   ]
  },
  {
   "cell_type": "markdown",
   "metadata": {},
   "source": [
    "If we now define the following graph, note that we change the logging level\n",
    "in order to see the debugged signal:"
   ]
  },
  {
   "cell_type": "code",
   "execution_count": 7,
   "metadata": {
    "tags": []
   },
   "outputs": [
    {
     "output_type": "display_data",
     "data": {
      "text/plain": "<Figure size 432x288 with 1 Axes>",
      "image/svg+xml": "<?xml version=\"1.0\" encoding=\"utf-8\" standalone=\"no\"?>\n<!DOCTYPE svg PUBLIC \"-//W3C//DTD SVG 1.1//EN\"\n  \"http://www.w3.org/Graphics/SVG/1.1/DTD/svg11.dtd\">\n<!-- Created with matplotlib (https://matplotlib.org/) -->\n<svg height=\"231.84pt\" version=\"1.1\" viewBox=\"0 0 366.886951 231.84\" width=\"366.886951pt\" xmlns=\"http://www.w3.org/2000/svg\" xmlns:xlink=\"http://www.w3.org/1999/xlink\">\n <metadata>\n  <rdf:RDF xmlns:cc=\"http://creativecommons.org/ns#\" xmlns:dc=\"http://purl.org/dc/elements/1.1/\" xmlns:rdf=\"http://www.w3.org/1999/02/22-rdf-syntax-ns#\">\n   <cc:Work>\n    <dc:type rdf:resource=\"http://purl.org/dc/dcmitype/StillImage\"/>\n    <dc:date>2020-11-24T11:12:06.524218</dc:date>\n    <dc:format>image/svg+xml</dc:format>\n    <dc:creator>\n     <cc:Agent>\n      <dc:title>Matplotlib v3.3.3, https://matplotlib.org/</dc:title>\n     </cc:Agent>\n    </dc:creator>\n   </cc:Work>\n  </rdf:RDF>\n </metadata>\n <defs>\n  <style type=\"text/css\">*{stroke-linecap:butt;stroke-linejoin:round;}</style>\n </defs>\n <g id=\"figure_1\">\n  <g id=\"patch_1\">\n   <path d=\"M 0 231.84 \nL 366.886951 231.84 \nL 366.886951 0 \nL 0 0 \nz\n\" style=\"fill:none;\"/>\n  </g>\n  <g id=\"axes_1\">\n   <g id=\"patch_2\">\n    <path clip-path=\"url(#p251677e99a)\" d=\"M 40.976631 33.326566 \nQ 83.217292 96.851058 144.022472 141.044163 \n\" style=\"fill:none;stroke:#000000;stroke-linecap:round;\"/>\n    <path clip-path=\"url(#p251677e99a)\" d=\"M 141.962639 137.074643 \nL 144.022472 141.044163 \nL 139.610956 140.310317 \nL 141.962639 137.074643 \nz\n\" style=\"stroke:#000000;stroke-linecap:round;\"/>\n   </g>\n   <g id=\"patch_3\">\n    <path clip-path=\"url(#p251677e99a)\" d=\"M 159.414676 151.173316 \nQ 227.118949 190.826577 303.303672 204.16694 \n\" style=\"fill:none;stroke:#000000;stroke-linecap:round;\"/>\n    <path clip-path=\"url(#p251677e99a)\" d=\"M 299.708583 201.50699 \nL 303.303672 204.16694 \nL 299.018658 205.447041 \nL 299.708583 201.50699 \nz\n\" style=\"stroke:#000000;stroke-linecap:round;\"/>\n   </g>\n   <g id=\"PathCollection_1\">\n    <defs>\n     <path d=\"M 0 8.660254 \nC 2.296726 8.660254 4.499694 7.747755 6.123724 6.123724 \nC 7.747755 4.499694 8.660254 2.296726 8.660254 0 \nC 8.660254 -2.296726 7.747755 -4.499694 6.123724 -6.123724 \nC 4.499694 -7.747755 2.296726 -8.660254 0 -8.660254 \nC -2.296726 -8.660254 -4.499694 -7.747755 -6.123724 -6.123724 \nC -7.747755 -4.499694 -8.660254 -2.296726 -8.660254 0 \nC -8.660254 2.296726 -7.747755 4.499694 -6.123724 6.123724 \nC -4.499694 7.747755 -2.296726 8.660254 0 8.660254 \nz\n\" id=\"m28d6ceacc1\" style=\"stroke:#1f78b4;\"/>\n    </defs>\n    <g clip-path=\"url(#p251677e99a)\">\n     <use style=\"fill:#1f78b4;stroke:#1f78b4;\" x=\"36.252893\" xlink:href=\"#m28d6ceacc1\" y=\"26.06876\"/>\n     <use style=\"fill:#1f78b4;stroke:#1f78b4;\" x=\"151.981965\" xlink:href=\"#m28d6ceacc1\" y=\"146.723742\"/>\n     <use style=\"fill:#1f78b4;stroke:#1f78b4;\" x=\"312.947107\" xlink:href=\"#m28d6ceacc1\" y=\"205.77124\"/>\n    </g>\n   </g>\n   <g id=\"text_1\">\n    <!-- node_3 -->\n    <g transform=\"translate(18.092736 28.689073)scale(0.1 -0.1)\">\n     <defs>\n      <path d=\"M 54.890625 33.015625 \nL 54.890625 0 \nL 45.90625 0 \nL 45.90625 32.71875 \nQ 45.90625 40.484375 42.875 44.328125 \nQ 39.84375 48.1875 33.796875 48.1875 \nQ 26.515625 48.1875 22.3125 43.546875 \nQ 18.109375 38.921875 18.109375 30.90625 \nL 18.109375 0 \nL 9.078125 0 \nL 9.078125 54.6875 \nL 18.109375 54.6875 \nL 18.109375 46.1875 \nQ 21.34375 51.125 25.703125 53.5625 \nQ 30.078125 56 35.796875 56 \nQ 45.21875 56 50.046875 50.171875 \nQ 54.890625 44.34375 54.890625 33.015625 \nz\n\" id=\"DejaVuSans-110\"/>\n      <path d=\"M 30.609375 48.390625 \nQ 23.390625 48.390625 19.1875 42.75 \nQ 14.984375 37.109375 14.984375 27.296875 \nQ 14.984375 17.484375 19.15625 11.84375 \nQ 23.34375 6.203125 30.609375 6.203125 \nQ 37.796875 6.203125 41.984375 11.859375 \nQ 46.1875 17.53125 46.1875 27.296875 \nQ 46.1875 37.015625 41.984375 42.703125 \nQ 37.796875 48.390625 30.609375 48.390625 \nz\nM 30.609375 56 \nQ 42.328125 56 49.015625 48.375 \nQ 55.71875 40.765625 55.71875 27.296875 \nQ 55.71875 13.875 49.015625 6.21875 \nQ 42.328125 -1.421875 30.609375 -1.421875 \nQ 18.84375 -1.421875 12.171875 6.21875 \nQ 5.515625 13.875 5.515625 27.296875 \nQ 5.515625 40.765625 12.171875 48.375 \nQ 18.84375 56 30.609375 56 \nz\n\" id=\"DejaVuSans-111\"/>\n      <path d=\"M 45.40625 46.390625 \nL 45.40625 75.984375 \nL 54.390625 75.984375 \nL 54.390625 0 \nL 45.40625 0 \nL 45.40625 8.203125 \nQ 42.578125 3.328125 38.25 0.953125 \nQ 33.9375 -1.421875 27.875 -1.421875 \nQ 17.96875 -1.421875 11.734375 6.484375 \nQ 5.515625 14.40625 5.515625 27.296875 \nQ 5.515625 40.1875 11.734375 48.09375 \nQ 17.96875 56 27.875 56 \nQ 33.9375 56 38.25 53.625 \nQ 42.578125 51.265625 45.40625 46.390625 \nz\nM 14.796875 27.296875 \nQ 14.796875 17.390625 18.875 11.75 \nQ 22.953125 6.109375 30.078125 6.109375 \nQ 37.203125 6.109375 41.296875 11.75 \nQ 45.40625 17.390625 45.40625 27.296875 \nQ 45.40625 37.203125 41.296875 42.84375 \nQ 37.203125 48.484375 30.078125 48.484375 \nQ 22.953125 48.484375 18.875 42.84375 \nQ 14.796875 37.203125 14.796875 27.296875 \nz\n\" id=\"DejaVuSans-100\"/>\n      <path d=\"M 56.203125 29.59375 \nL 56.203125 25.203125 \nL 14.890625 25.203125 \nQ 15.484375 15.921875 20.484375 11.0625 \nQ 25.484375 6.203125 34.421875 6.203125 \nQ 39.59375 6.203125 44.453125 7.46875 \nQ 49.3125 8.734375 54.109375 11.28125 \nL 54.109375 2.78125 \nQ 49.265625 0.734375 44.1875 -0.34375 \nQ 39.109375 -1.421875 33.890625 -1.421875 \nQ 20.796875 -1.421875 13.15625 6.1875 \nQ 5.515625 13.8125 5.515625 26.8125 \nQ 5.515625 40.234375 12.765625 48.109375 \nQ 20.015625 56 32.328125 56 \nQ 43.359375 56 49.78125 48.890625 \nQ 56.203125 41.796875 56.203125 29.59375 \nz\nM 47.21875 32.234375 \nQ 47.125 39.59375 43.09375 43.984375 \nQ 39.0625 48.390625 32.421875 48.390625 \nQ 24.90625 48.390625 20.390625 44.140625 \nQ 15.875 39.890625 15.1875 32.171875 \nz\n\" id=\"DejaVuSans-101\"/>\n      <path d=\"M 50.984375 -16.609375 \nL 50.984375 -23.578125 \nL -0.984375 -23.578125 \nL -0.984375 -16.609375 \nz\n\" id=\"DejaVuSans-95\"/>\n      <path d=\"M 40.578125 39.3125 \nQ 47.65625 37.796875 51.625 33 \nQ 55.609375 28.21875 55.609375 21.1875 \nQ 55.609375 10.40625 48.1875 4.484375 \nQ 40.765625 -1.421875 27.09375 -1.421875 \nQ 22.515625 -1.421875 17.65625 -0.515625 \nQ 12.796875 0.390625 7.625 2.203125 \nL 7.625 11.71875 \nQ 11.71875 9.328125 16.59375 8.109375 \nQ 21.484375 6.890625 26.8125 6.890625 \nQ 36.078125 6.890625 40.9375 10.546875 \nQ 45.796875 14.203125 45.796875 21.1875 \nQ 45.796875 27.640625 41.28125 31.265625 \nQ 36.765625 34.90625 28.71875 34.90625 \nL 20.21875 34.90625 \nL 20.21875 43.015625 \nL 29.109375 43.015625 \nQ 36.375 43.015625 40.234375 45.921875 \nQ 44.09375 48.828125 44.09375 54.296875 \nQ 44.09375 59.90625 40.109375 62.90625 \nQ 36.140625 65.921875 28.71875 65.921875 \nQ 24.65625 65.921875 20.015625 65.03125 \nQ 15.375 64.15625 9.8125 62.3125 \nL 9.8125 71.09375 \nQ 15.4375 72.65625 20.34375 73.4375 \nQ 25.25 74.21875 29.59375 74.21875 \nQ 40.828125 74.21875 47.359375 69.109375 \nQ 53.90625 64.015625 53.90625 55.328125 \nQ 53.90625 49.265625 50.4375 45.09375 \nQ 46.96875 40.921875 40.578125 39.3125 \nz\n\" id=\"DejaVuSans-51\"/>\n     </defs>\n     <use xlink:href=\"#DejaVuSans-110\"/>\n     <use x=\"63.378906\" xlink:href=\"#DejaVuSans-111\"/>\n     <use x=\"124.560547\" xlink:href=\"#DejaVuSans-100\"/>\n     <use x=\"188.037109\" xlink:href=\"#DejaVuSans-101\"/>\n     <use x=\"249.560547\" xlink:href=\"#DejaVuSans-95\"/>\n     <use x=\"299.560547\" xlink:href=\"#DejaVuSans-51\"/>\n    </g>\n   </g>\n   <g id=\"text_2\">\n    <!-- ExampleCnt_4 -->\n    <g transform=\"translate(115.987433 149.344055)scale(0.1 -0.1)\">\n     <defs>\n      <path d=\"M 9.8125 72.90625 \nL 55.90625 72.90625 \nL 55.90625 64.59375 \nL 19.671875 64.59375 \nL 19.671875 43.015625 \nL 54.390625 43.015625 \nL 54.390625 34.71875 \nL 19.671875 34.71875 \nL 19.671875 8.296875 \nL 56.78125 8.296875 \nL 56.78125 0 \nL 9.8125 0 \nz\n\" id=\"DejaVuSans-69\"/>\n      <path d=\"M 54.890625 54.6875 \nL 35.109375 28.078125 \nL 55.90625 0 \nL 45.3125 0 \nL 29.390625 21.484375 \nL 13.484375 0 \nL 2.875 0 \nL 24.125 28.609375 \nL 4.6875 54.6875 \nL 15.28125 54.6875 \nL 29.78125 35.203125 \nL 44.28125 54.6875 \nz\n\" id=\"DejaVuSans-120\"/>\n      <path d=\"M 34.28125 27.484375 \nQ 23.390625 27.484375 19.1875 25 \nQ 14.984375 22.515625 14.984375 16.5 \nQ 14.984375 11.71875 18.140625 8.90625 \nQ 21.296875 6.109375 26.703125 6.109375 \nQ 34.1875 6.109375 38.703125 11.40625 \nQ 43.21875 16.703125 43.21875 25.484375 \nL 43.21875 27.484375 \nz\nM 52.203125 31.203125 \nL 52.203125 0 \nL 43.21875 0 \nL 43.21875 8.296875 \nQ 40.140625 3.328125 35.546875 0.953125 \nQ 30.953125 -1.421875 24.3125 -1.421875 \nQ 15.921875 -1.421875 10.953125 3.296875 \nQ 6 8.015625 6 15.921875 \nQ 6 25.140625 12.171875 29.828125 \nQ 18.359375 34.515625 30.609375 34.515625 \nL 43.21875 34.515625 \nL 43.21875 35.40625 \nQ 43.21875 41.609375 39.140625 45 \nQ 35.0625 48.390625 27.6875 48.390625 \nQ 23 48.390625 18.546875 47.265625 \nQ 14.109375 46.140625 10.015625 43.890625 \nL 10.015625 52.203125 \nQ 14.9375 54.109375 19.578125 55.046875 \nQ 24.21875 56 28.609375 56 \nQ 40.484375 56 46.34375 49.84375 \nQ 52.203125 43.703125 52.203125 31.203125 \nz\n\" id=\"DejaVuSans-97\"/>\n      <path d=\"M 52 44.1875 \nQ 55.375 50.25 60.0625 53.125 \nQ 64.75 56 71.09375 56 \nQ 79.640625 56 84.28125 50.015625 \nQ 88.921875 44.046875 88.921875 33.015625 \nL 88.921875 0 \nL 79.890625 0 \nL 79.890625 32.71875 \nQ 79.890625 40.578125 77.09375 44.375 \nQ 74.3125 48.1875 68.609375 48.1875 \nQ 61.625 48.1875 57.5625 43.546875 \nQ 53.515625 38.921875 53.515625 30.90625 \nL 53.515625 0 \nL 44.484375 0 \nL 44.484375 32.71875 \nQ 44.484375 40.625 41.703125 44.40625 \nQ 38.921875 48.1875 33.109375 48.1875 \nQ 26.21875 48.1875 22.15625 43.53125 \nQ 18.109375 38.875 18.109375 30.90625 \nL 18.109375 0 \nL 9.078125 0 \nL 9.078125 54.6875 \nL 18.109375 54.6875 \nL 18.109375 46.1875 \nQ 21.1875 51.21875 25.484375 53.609375 \nQ 29.78125 56 35.6875 56 \nQ 41.65625 56 45.828125 52.96875 \nQ 50 49.953125 52 44.1875 \nz\n\" id=\"DejaVuSans-109\"/>\n      <path d=\"M 18.109375 8.203125 \nL 18.109375 -20.796875 \nL 9.078125 -20.796875 \nL 9.078125 54.6875 \nL 18.109375 54.6875 \nL 18.109375 46.390625 \nQ 20.953125 51.265625 25.265625 53.625 \nQ 29.59375 56 35.59375 56 \nQ 45.5625 56 51.78125 48.09375 \nQ 58.015625 40.1875 58.015625 27.296875 \nQ 58.015625 14.40625 51.78125 6.484375 \nQ 45.5625 -1.421875 35.59375 -1.421875 \nQ 29.59375 -1.421875 25.265625 0.953125 \nQ 20.953125 3.328125 18.109375 8.203125 \nz\nM 48.6875 27.296875 \nQ 48.6875 37.203125 44.609375 42.84375 \nQ 40.53125 48.484375 33.40625 48.484375 \nQ 26.265625 48.484375 22.1875 42.84375 \nQ 18.109375 37.203125 18.109375 27.296875 \nQ 18.109375 17.390625 22.1875 11.75 \nQ 26.265625 6.109375 33.40625 6.109375 \nQ 40.53125 6.109375 44.609375 11.75 \nQ 48.6875 17.390625 48.6875 27.296875 \nz\n\" id=\"DejaVuSans-112\"/>\n      <path d=\"M 9.421875 75.984375 \nL 18.40625 75.984375 \nL 18.40625 0 \nL 9.421875 0 \nz\n\" id=\"DejaVuSans-108\"/>\n      <path d=\"M 64.40625 67.28125 \nL 64.40625 56.890625 \nQ 59.421875 61.53125 53.78125 63.8125 \nQ 48.140625 66.109375 41.796875 66.109375 \nQ 29.296875 66.109375 22.65625 58.46875 \nQ 16.015625 50.828125 16.015625 36.375 \nQ 16.015625 21.96875 22.65625 14.328125 \nQ 29.296875 6.6875 41.796875 6.6875 \nQ 48.140625 6.6875 53.78125 8.984375 \nQ 59.421875 11.28125 64.40625 15.921875 \nL 64.40625 5.609375 \nQ 59.234375 2.09375 53.4375 0.328125 \nQ 47.65625 -1.421875 41.21875 -1.421875 \nQ 24.65625 -1.421875 15.125 8.703125 \nQ 5.609375 18.84375 5.609375 36.375 \nQ 5.609375 53.953125 15.125 64.078125 \nQ 24.65625 74.21875 41.21875 74.21875 \nQ 47.75 74.21875 53.53125 72.484375 \nQ 59.328125 70.75 64.40625 67.28125 \nz\n\" id=\"DejaVuSans-67\"/>\n      <path d=\"M 18.3125 70.21875 \nL 18.3125 54.6875 \nL 36.8125 54.6875 \nL 36.8125 47.703125 \nL 18.3125 47.703125 \nL 18.3125 18.015625 \nQ 18.3125 11.328125 20.140625 9.421875 \nQ 21.96875 7.515625 27.59375 7.515625 \nL 36.8125 7.515625 \nL 36.8125 0 \nL 27.59375 0 \nQ 17.1875 0 13.234375 3.875 \nQ 9.28125 7.765625 9.28125 18.015625 \nL 9.28125 47.703125 \nL 2.6875 47.703125 \nL 2.6875 54.6875 \nL 9.28125 54.6875 \nL 9.28125 70.21875 \nz\n\" id=\"DejaVuSans-116\"/>\n      <path d=\"M 37.796875 64.3125 \nL 12.890625 25.390625 \nL 37.796875 25.390625 \nz\nM 35.203125 72.90625 \nL 47.609375 72.90625 \nL 47.609375 25.390625 \nL 58.015625 25.390625 \nL 58.015625 17.1875 \nL 47.609375 17.1875 \nL 47.609375 0 \nL 37.796875 0 \nL 37.796875 17.1875 \nL 4.890625 17.1875 \nL 4.890625 26.703125 \nz\n\" id=\"DejaVuSans-52\"/>\n     </defs>\n     <use xlink:href=\"#DejaVuSans-69\"/>\n     <use x=\"63.183594\" xlink:href=\"#DejaVuSans-120\"/>\n     <use x=\"122.363281\" xlink:href=\"#DejaVuSans-97\"/>\n     <use x=\"183.642578\" xlink:href=\"#DejaVuSans-109\"/>\n     <use x=\"281.054688\" xlink:href=\"#DejaVuSans-112\"/>\n     <use x=\"344.53125\" xlink:href=\"#DejaVuSans-108\"/>\n     <use x=\"372.314453\" xlink:href=\"#DejaVuSans-101\"/>\n     <use x=\"433.837891\" xlink:href=\"#DejaVuSans-67\"/>\n     <use x=\"503.662109\" xlink:href=\"#DejaVuSans-110\"/>\n     <use x=\"567.041016\" xlink:href=\"#DejaVuSans-116\"/>\n     <use x=\"606.25\" xlink:href=\"#DejaVuSans-95\"/>\n     <use x=\"656.25\" xlink:href=\"#DejaVuSans-52\"/>\n    </g>\n   </g>\n   <g id=\"text_3\">\n    <!-- save_and_exit_if_5 -->\n    <g transform=\"translate(266.207264 208.391552)scale(0.1 -0.1)\">\n     <defs>\n      <path d=\"M 44.28125 53.078125 \nL 44.28125 44.578125 \nQ 40.484375 46.53125 36.375 47.5 \nQ 32.28125 48.484375 27.875 48.484375 \nQ 21.1875 48.484375 17.84375 46.4375 \nQ 14.5 44.390625 14.5 40.28125 \nQ 14.5 37.15625 16.890625 35.375 \nQ 19.28125 33.59375 26.515625 31.984375 \nL 29.59375 31.296875 \nQ 39.15625 29.25 43.1875 25.515625 \nQ 47.21875 21.78125 47.21875 15.09375 \nQ 47.21875 7.46875 41.1875 3.015625 \nQ 35.15625 -1.421875 24.609375 -1.421875 \nQ 20.21875 -1.421875 15.453125 -0.5625 \nQ 10.6875 0.296875 5.421875 2 \nL 5.421875 11.28125 \nQ 10.40625 8.6875 15.234375 7.390625 \nQ 20.0625 6.109375 24.8125 6.109375 \nQ 31.15625 6.109375 34.5625 8.28125 \nQ 37.984375 10.453125 37.984375 14.40625 \nQ 37.984375 18.0625 35.515625 20.015625 \nQ 33.0625 21.96875 24.703125 23.78125 \nL 21.578125 24.515625 \nQ 13.234375 26.265625 9.515625 29.90625 \nQ 5.8125 33.546875 5.8125 39.890625 \nQ 5.8125 47.609375 11.28125 51.796875 \nQ 16.75 56 26.8125 56 \nQ 31.78125 56 36.171875 55.265625 \nQ 40.578125 54.546875 44.28125 53.078125 \nz\n\" id=\"DejaVuSans-115\"/>\n      <path d=\"M 2.984375 54.6875 \nL 12.5 54.6875 \nL 29.59375 8.796875 \nL 46.6875 54.6875 \nL 56.203125 54.6875 \nL 35.6875 0 \nL 23.484375 0 \nz\n\" id=\"DejaVuSans-118\"/>\n      <path d=\"M 9.421875 54.6875 \nL 18.40625 54.6875 \nL 18.40625 0 \nL 9.421875 0 \nz\nM 9.421875 75.984375 \nL 18.40625 75.984375 \nL 18.40625 64.59375 \nL 9.421875 64.59375 \nz\n\" id=\"DejaVuSans-105\"/>\n      <path d=\"M 37.109375 75.984375 \nL 37.109375 68.5 \nL 28.515625 68.5 \nQ 23.6875 68.5 21.796875 66.546875 \nQ 19.921875 64.59375 19.921875 59.515625 \nL 19.921875 54.6875 \nL 34.71875 54.6875 \nL 34.71875 47.703125 \nL 19.921875 47.703125 \nL 19.921875 0 \nL 10.890625 0 \nL 10.890625 47.703125 \nL 2.296875 47.703125 \nL 2.296875 54.6875 \nL 10.890625 54.6875 \nL 10.890625 58.5 \nQ 10.890625 67.625 15.140625 71.796875 \nQ 19.390625 75.984375 28.609375 75.984375 \nz\n\" id=\"DejaVuSans-102\"/>\n      <path d=\"M 10.796875 72.90625 \nL 49.515625 72.90625 \nL 49.515625 64.59375 \nL 19.828125 64.59375 \nL 19.828125 46.734375 \nQ 21.96875 47.46875 24.109375 47.828125 \nQ 26.265625 48.1875 28.421875 48.1875 \nQ 40.625 48.1875 47.75 41.5 \nQ 54.890625 34.8125 54.890625 23.390625 \nQ 54.890625 11.625 47.5625 5.09375 \nQ 40.234375 -1.421875 26.90625 -1.421875 \nQ 22.3125 -1.421875 17.546875 -0.640625 \nQ 12.796875 0.140625 7.71875 1.703125 \nL 7.71875 11.625 \nQ 12.109375 9.234375 16.796875 8.0625 \nQ 21.484375 6.890625 26.703125 6.890625 \nQ 35.15625 6.890625 40.078125 11.328125 \nQ 45.015625 15.765625 45.015625 23.390625 \nQ 45.015625 31 40.078125 35.4375 \nQ 35.15625 39.890625 26.703125 39.890625 \nQ 22.75 39.890625 18.8125 39.015625 \nQ 14.890625 38.140625 10.796875 36.28125 \nz\n\" id=\"DejaVuSans-53\"/>\n     </defs>\n     <use xlink:href=\"#DejaVuSans-115\"/>\n     <use x=\"52.099609\" xlink:href=\"#DejaVuSans-97\"/>\n     <use x=\"113.378906\" xlink:href=\"#DejaVuSans-118\"/>\n     <use x=\"172.558594\" xlink:href=\"#DejaVuSans-101\"/>\n     <use x=\"234.082031\" xlink:href=\"#DejaVuSans-95\"/>\n     <use x=\"284.082031\" xlink:href=\"#DejaVuSans-97\"/>\n     <use x=\"345.361328\" xlink:href=\"#DejaVuSans-110\"/>\n     <use x=\"408.740234\" xlink:href=\"#DejaVuSans-100\"/>\n     <use x=\"472.216797\" xlink:href=\"#DejaVuSans-95\"/>\n     <use x=\"522.216797\" xlink:href=\"#DejaVuSans-101\"/>\n     <use x=\"581.990234\" xlink:href=\"#DejaVuSans-120\"/>\n     <use x=\"641.169922\" xlink:href=\"#DejaVuSans-105\"/>\n     <use x=\"668.953125\" xlink:href=\"#DejaVuSans-116\"/>\n     <use x=\"708.162109\" xlink:href=\"#DejaVuSans-95\"/>\n     <use x=\"758.162109\" xlink:href=\"#DejaVuSans-105\"/>\n     <use x=\"785.945312\" xlink:href=\"#DejaVuSans-102\"/>\n     <use x=\"821.150391\" xlink:href=\"#DejaVuSans-95\"/>\n     <use x=\"871.150391\" xlink:href=\"#DejaVuSans-53\"/>\n    </g>\n   </g>\n  </g>\n </g>\n <defs>\n  <clipPath id=\"p251677e99a\">\n   <rect height=\"217.44\" width=\"334.8\" x=\"7.2\" y=\"7.2\"/>\n  </clipPath>\n </defs>\n</svg>\n",
      "image/png": "[encoded data removed]"
     },
     "metadata": {}
    }
   ],
   "source": [
    "s = StateSaver(verbose=True, condition=lambda x: x >= 10)\n",
    "migen = ExampleCountOut(name='ExampleCnt', lvl=logging.DEBUG)\n",
    "\n",
    "with DeltaGraph() as graph:\n",
    "    migen_out = migen.call(in1=1)\n",
    "    s.save_and_exit_if(migen_out.out1)\n",
    "\n",
    "graph.draw(seed=1)"
   ]
  },
  {
   "source": [
    "Let's run the graph, the debugging messages printed after each migen iteration.\n",
    "\n",
    "Find the debugged signal and check that that it increments at each iteration\n",
    "as expected:"
   ],
   "cell_type": "markdown",
   "metadata": {}
  },
  {
   "cell_type": "code",
   "execution_count": 8,
   "metadata": {
    "tags": []
   },
   "outputs": [
    {
     "output_type": "stream",
     "name": "stderr",
     "text": [
      "PyMigenNode ExampleCnt_4 [DEBUG]: Running...\n",
      "ExampleCnt [DEBUG]: start iteration 0\n",
      "ExampleCnt [DEBUG]: all _dut.in_ports ready: True\n",
      "ExampleCnt [DEBUG]: inputs available: True\n",
      "ExampleCnt [DEBUG]: writing in_port name=in1 valid=1, data=1\n",
      "ExampleCnt [DEBUG]: out_ports set ready\n",
      "ExampleCnt [DEBUG]: retrieved data output=ForkedReturnNT(out1=None)\n",
      "ExampleCnt [DEBUG]: end of iteration 0\n",
      "PyMigenNode ExampleCnt_4 [INFO]: {'in1': 1} -> ForkedReturnNT(out1=None)\n",
      "PyMigenNode ExampleCnt_4 [DEBUG]: Running...\n",
      "ExampleCnt [DEBUG]: <<<<<<<<<<< STATUS AFTER YIELD IN ITER 0\n",
      "ExampleCnt [DEBUG]: self.inputs={'in1': 1}\n",
      "ExampleCnt [DEBUG]: in_ports:\n",
      "ExampleCnt [DEBUG]: name='in1': data=1 valid=1 ready=1\n",
      "ExampleCnt [DEBUG]: debug_signals:\n",
      "ExampleCnt [DEBUG]: name='cnt': 0000000001\n",
      "ExampleCnt [DEBUG]: out_ports:\n",
      "ExampleCnt [DEBUG]: name='out1': data=1 valid=1 ready=1\n",
      "ExampleCnt [DEBUG]: self.output=None\n",
      "ExampleCnt [DEBUG]: >>>>>>>>>>>\n",
      "ExampleCnt [DEBUG]: start iteration 1\n",
      "ExampleCnt [DEBUG]: all _dut.in_ports ready: True\n",
      "ExampleCnt [DEBUG]: inputs available: True\n",
      "ExampleCnt [DEBUG]: writing in_port name=in1 valid=1, data=1\n",
      "ExampleCnt [DEBUG]: out_ports set ready\n",
      "ExampleCnt [DEBUG]: retrieved data output=ForkedReturnNT(out1=1)\n",
      "ExampleCnt [DEBUG]: end of iteration 1\n",
      "PyMigenNode ExampleCnt_4 [INFO]: {'in1': 1} -> ForkedReturnNT(out1=1)\n",
      "PyMigenNode ExampleCnt_4 [DEBUG]: Running...\n",
      "ExampleCnt [DEBUG]: <<<<<<<<<<< STATUS AFTER YIELD IN ITER 1\n",
      "ExampleCnt [DEBUG]: self.inputs={'in1': 1}\n",
      "ExampleCnt [DEBUG]: in_ports:\n",
      "ExampleCnt [DEBUG]: name='in1': data=1 valid=1 ready=1\n",
      "ExampleCnt [DEBUG]: debug_signals:\n",
      "ExampleCnt [DEBUG]: name='cnt': 0000000010\n",
      "saving 1\n",
      "ExampleCnt [DEBUG]: out_ports:\n",
      "ExampleCnt [DEBUG]: name='out1': data=2 valid=1 ready=1\n",
      "ExampleCnt [DEBUG]: self.output=None\n",
      "ExampleCnt [DEBUG]: >>>>>>>>>>>\n",
      "ExampleCnt [DEBUG]: start iteration 2\n",
      "ExampleCnt [DEBUG]: all _dut.in_ports ready: True\n",
      "ExampleCnt [DEBUG]: inputs available: True\n",
      "ExampleCnt [DEBUG]: writing in_port name=in1 valid=1, data=1\n",
      "ExampleCnt [DEBUG]: out_ports set ready\n",
      "ExampleCnt [DEBUG]: retrieved data output=ForkedReturnNT(out1=2)\n",
      "ExampleCnt [DEBUG]: end of iteration 2\n",
      "PyMigenNode ExampleCnt_4 [INFO]: {'in1': 1} -> ForkedReturnNT(out1=2)\n",
      "PyMigenNode ExampleCnt_4 [DEBUG]: Running...\n",
      "ExampleCnt [DEBUG]: <<<<<<<<<<< STATUS AFTER YIELD IN ITER 2\n",
      "ExampleCnt [DEBUG]: self.inputs={'in1': 1}\n",
      "ExampleCnt [DEBUG]: in_ports:\n",
      "saving 2\n",
      "ExampleCnt [DEBUG]: name='in1': data=1 valid=1 ready=1\n",
      "ExampleCnt [DEBUG]: debug_signals:\n",
      "ExampleCnt [DEBUG]: name='cnt': 0000000011\n",
      "ExampleCnt [DEBUG]: out_ports:\n",
      "ExampleCnt [DEBUG]: name='out1': data=3 valid=1 ready=1\n",
      "ExampleCnt [DEBUG]: self.output=None\n",
      "ExampleCnt [DEBUG]: >>>>>>>>>>>\n",
      "ExampleCnt [DEBUG]: start iteration 3\n",
      "ExampleCnt [DEBUG]: all _dut.in_ports ready: True\n",
      "ExampleCnt [DEBUG]: inputs available: True\n",
      "ExampleCnt [DEBUG]: writing in_port name=in1 valid=1, data=1\n",
      "ExampleCnt [DEBUG]: out_ports set ready\n",
      "ExampleCnt [DEBUG]: retrieved data output=ForkedReturnNT(out1=3)\n",
      "ExampleCnt [DEBUG]: end of iteration 3\n",
      "PyMigenNode ExampleCnt_4 [INFO]: {'in1': 1} -> ForkedReturnNT(out1=3)\n",
      "PyMigenNode ExampleCnt_4 [DEBUG]: Running...\n",
      "ExampleCnt [DEBUG]: <<<<<<<<<<< STATUS AFTER YIELD IN ITER 3\n",
      "ExampleCnt [DEBUG]: self.inputs={'in1': 1}\n",
      "ExampleCnt [DEBUG]: in_ports:\n",
      "ExampleCnt [DEBUG]: name='in1': data=1 valid=1 ready=1\n",
      "ExampleCnt [DEBUG]: debug_signals:\n",
      "ExampleCnt [DEBUG]: name='cnt': 0000000100\n",
      "ExampleCnt [DEBUG]: out_ports:\n",
      "ExampleCnt [DEBUG]: name='out1': data=4 valid=1 ready=1\n",
      "saving 3\n",
      "ExampleCnt [DEBUG]: self.output=None\n",
      "ExampleCnt [DEBUG]: >>>>>>>>>>>\n",
      "ExampleCnt [DEBUG]: start iteration 4\n",
      "ExampleCnt [DEBUG]: all _dut.in_ports ready: True\n",
      "ExampleCnt [DEBUG]: inputs available: True\n",
      "ExampleCnt [DEBUG]: writing in_port name=in1 valid=1, data=1\n",
      "ExampleCnt [DEBUG]: out_ports set ready\n",
      "ExampleCnt [DEBUG]: retrieved data output=ForkedReturnNT(out1=4)\n",
      "ExampleCnt [DEBUG]: end of iteration 4\n",
      "PyMigenNode ExampleCnt_4 [INFO]: {'in1': 1} -> ForkedReturnNT(out1=4)\n",
      "PyMigenNode ExampleCnt_4 [DEBUG]: Running...\n",
      "ExampleCnt [DEBUG]: <<<<<<<<<<< STATUS AFTER YIELD IN ITER 4\n",
      "ExampleCnt [DEBUG]: self.inputs={'in1': 1}\n",
      "ExampleCnt [DEBUG]: in_ports:\n",
      "ExampleCnt [DEBUG]: name='in1': data=1 valid=1 ready=1\n",
      "ExampleCnt [DEBUG]: debug_signals:\n",
      "ExampleCnt [DEBUG]: name='cnt': 0000000101\n",
      "saving 4\n",
      "ExampleCnt [DEBUG]: out_ports:\n",
      "ExampleCnt [DEBUG]: name='out1': data=5 valid=1 ready=1\n",
      "ExampleCnt [DEBUG]: self.output=None\n",
      "ExampleCnt [DEBUG]: >>>>>>>>>>>\n",
      "ExampleCnt [DEBUG]: start iteration 5\n",
      "ExampleCnt [DEBUG]: all _dut.in_ports ready: True\n",
      "ExampleCnt [DEBUG]: inputs available: True\n",
      "ExampleCnt [DEBUG]: writing in_port name=in1 valid=1, data=1\n",
      "ExampleCnt [DEBUG]: out_ports set ready\n",
      "ExampleCnt [DEBUG]: retrieved data output=ForkedReturnNT(out1=5)\n",
      "ExampleCnt [DEBUG]: end of iteration 5\n",
      "PyMigenNode ExampleCnt_4 [INFO]: {'in1': 1} -> ForkedReturnNT(out1=5)\n",
      "PyMigenNode ExampleCnt_4 [DEBUG]: Running...\n",
      "ExampleCnt [DEBUG]: <<<<<<<<<<< STATUS AFTER YIELD IN ITER 5\n",
      "ExampleCnt [DEBUG]: self.inputs={'in1': 1}\n",
      "ExampleCnt [DEBUG]: in_ports:\n",
      "ExampleCnt [DEBUG]: name='in1': data=1 valid=1 ready=1\n",
      "ExampleCnt [DEBUG]: debug_signals:\n",
      "ExampleCnt [DEBUG]: name='cnt': 0000000110\n",
      "saving 5\n",
      "ExampleCnt [DEBUG]: out_ports:\n",
      "ExampleCnt [DEBUG]: name='out1': data=6 valid=1 ready=1\n",
      "ExampleCnt [DEBUG]: self.output=None\n",
      "ExampleCnt [DEBUG]: >>>>>>>>>>>\n",
      "ExampleCnt [DEBUG]: start iteration 6\n",
      "ExampleCnt [DEBUG]: all _dut.in_ports ready: True\n",
      "ExampleCnt [DEBUG]: inputs available: True\n",
      "ExampleCnt [DEBUG]: writing in_port name=in1 valid=1, data=1\n",
      "ExampleCnt [DEBUG]: out_ports set ready\n",
      "ExampleCnt [DEBUG]: retrieved data output=ForkedReturnNT(out1=6)\n",
      "ExampleCnt [DEBUG]: end of iteration 6\n",
      "PyMigenNode ExampleCnt_4 [INFO]: {'in1': 1} -> ForkedReturnNT(out1=6)\n",
      "PyMigenNode ExampleCnt_4 [DEBUG]: Running...\n",
      "ExampleCnt [DEBUG]: <<<<<<<<<<< STATUS AFTER YIELD IN ITER 6\n",
      "ExampleCnt [DEBUG]: self.inputs={'in1': 1}\n",
      "ExampleCnt [DEBUG]: in_ports:\n",
      "ExampleCnt [DEBUG]: name='in1': data=1 valid=1 ready=1\n",
      "ExampleCnt [DEBUG]: debug_signals:\n",
      "ExampleCnt [DEBUG]: name='cnt': 0000000111\n",
      "saving 6\n",
      "ExampleCnt [DEBUG]: out_ports:\n",
      "ExampleCnt [DEBUG]: name='out1': data=7 valid=1 ready=1\n",
      "ExampleCnt [DEBUG]: self.output=None\n",
      "ExampleCnt [DEBUG]: >>>>>>>>>>>\n",
      "ExampleCnt [DEBUG]: start iteration 7\n",
      "ExampleCnt [DEBUG]: all _dut.in_ports ready: True\n",
      "ExampleCnt [DEBUG]: inputs available: True\n",
      "ExampleCnt [DEBUG]: writing in_port name=in1 valid=1, data=1\n",
      "ExampleCnt [DEBUG]: out_ports set ready\n",
      "ExampleCnt [DEBUG]: retrieved data output=ForkedReturnNT(out1=7)\n",
      "ExampleCnt [DEBUG]: end of iteration 7\n",
      "PyMigenNode ExampleCnt_4 [INFO]: {'in1': 1} -> ForkedReturnNT(out1=7)\n",
      "PyMigenNode ExampleCnt_4 [DEBUG]: Running...\n",
      "ExampleCnt [DEBUG]: <<<<<<<<<<< STATUS AFTER YIELD IN ITER 7\n",
      "ExampleCnt [DEBUG]: self.inputs={'in1': 1}\n",
      "ExampleCnt [DEBUG]: in_ports:\n",
      "ExampleCnt [DEBUG]: name='in1': data=1 valid=1 ready=1\n",
      "ExampleCnt [DEBUG]: debug_signals:\n",
      "saving 7\n",
      "ExampleCnt [DEBUG]: name='cnt': 0000001000\n",
      "ExampleCnt [DEBUG]: out_ports:\n",
      "ExampleCnt [DEBUG]: name='out1': data=8 valid=1 ready=1\n",
      "ExampleCnt [DEBUG]: self.output=None\n",
      "ExampleCnt [DEBUG]: >>>>>>>>>>>\n",
      "ExampleCnt [DEBUG]: start iteration 8\n",
      "ExampleCnt [DEBUG]: all _dut.in_ports ready: True\n",
      "ExampleCnt [DEBUG]: inputs available: True\n",
      "ExampleCnt [DEBUG]: writing in_port name=in1 valid=1, data=1\n",
      "ExampleCnt [DEBUG]: out_ports set ready\n",
      "ExampleCnt [DEBUG]: retrieved data output=ForkedReturnNT(out1=8)\n",
      "ExampleCnt [DEBUG]: end of iteration 8\n",
      "PyMigenNode ExampleCnt_4 [INFO]: {'in1': 1} -> ForkedReturnNT(out1=8)\n",
      "PyMigenNode ExampleCnt_4 [DEBUG]: Running...\n",
      "ExampleCnt [DEBUG]: <<<<<<<<<<< STATUS AFTER YIELD IN ITER 8\n",
      "ExampleCnt [DEBUG]: self.inputs={'in1': 1}\n",
      "ExampleCnt [DEBUG]: in_ports:\n",
      "ExampleCnt [DEBUG]: name='in1': data=1 valid=1 ready=1\n",
      "ExampleCnt [DEBUG]: debug_signals:\n",
      "ExampleCnt [DEBUG]: name='cnt': 0000001001\n",
      "saving 8\n",
      "ExampleCnt [DEBUG]: out_ports:\n",
      "ExampleCnt [DEBUG]: name='out1': data=9 valid=1 ready=1\n",
      "ExampleCnt [DEBUG]: self.output=None\n",
      "ExampleCnt [DEBUG]: >>>>>>>>>>>\n",
      "ExampleCnt [DEBUG]: start iteration 9\n",
      "ExampleCnt [DEBUG]: all _dut.in_ports ready: True\n",
      "ExampleCnt [DEBUG]: inputs available: True\n",
      "ExampleCnt [DEBUG]: writing in_port name=in1 valid=1, data=1\n",
      "ExampleCnt [DEBUG]: out_ports set ready\n",
      "ExampleCnt [DEBUG]: retrieved data output=ForkedReturnNT(out1=9)\n",
      "ExampleCnt [DEBUG]: end of iteration 9\n",
      "PyMigenNode ExampleCnt_4 [INFO]: {'in1': 1} -> ForkedReturnNT(out1=9)\n",
      "PyMigenNode ExampleCnt_4 [DEBUG]: Running...\n",
      "ExampleCnt [DEBUG]: <<<<<<<<<<< STATUS AFTER YIELD IN ITER 9\n",
      "ExampleCnt [DEBUG]: self.inputs={'in1': 1}\n",
      "ExampleCnt [DEBUG]: in_ports:\n",
      "ExampleCnt [DEBUG]: name='in1': data=1 valid=1 ready=1\n",
      "ExampleCnt [DEBUG]: debug_signals:\n",
      "ExampleCnt [DEBUG]: name='cnt': 0000001010\n",
      "saving 9\n",
      "ExampleCnt [DEBUG]: out_ports:\n",
      "ExampleCnt [DEBUG]: name='out1': data=10 valid=1 ready=1\n",
      "ExampleCnt [DEBUG]: self.output=None\n",
      "ExampleCnt [DEBUG]: >>>>>>>>>>>\n",
      "ExampleCnt [DEBUG]: start iteration 10\n",
      "ExampleCnt [DEBUG]: all _dut.in_ports ready: True\n",
      "ExampleCnt [DEBUG]: inputs available: True\n",
      "ExampleCnt [DEBUG]: writing in_port name=in1 valid=1, data=1\n",
      "ExampleCnt [DEBUG]: out_ports set ready\n",
      "ExampleCnt [DEBUG]: retrieved data output=ForkedReturnNT(out1=10)\n",
      "ExampleCnt [DEBUG]: end of iteration 10\n",
      "PyMigenNode ExampleCnt_4 [INFO]: {'in1': 1} -> ForkedReturnNT(out1=10)\n",
      "PyMigenNode ExampleCnt_4 [DEBUG]: Running...\n",
      "ExampleCnt [DEBUG]: <<<<<<<<<<< STATUS AFTER YIELD IN ITER 10\n",
      "ExampleCnt [DEBUG]: self.inputs={'in1': 1}\n",
      "ExampleCnt [DEBUG]: in_ports:\n",
      "ExampleCnt [DEBUG]: name='in1': data=1 valid=1 ready=1\n",
      "ExampleCnt [DEBUG]: debug_signals:\n",
      "ExampleCnt [DEBUG]: name='cnt': 0000001011\n",
      "ExampleCnt [DEBUG]: out_ports:\n",
      "ExampleCnt [DEBUG]: name='out1': data=11 valid=1 ready=1\n",
      "ExampleCnt [DEBUG]: self.output=None\n",
      "ExampleCnt [DEBUG]: >>>>>>>>>>>\n",
      "ExampleCnt [DEBUG]: start iteration 11\n",
      "ExampleCnt [DEBUG]: all _dut.in_ports ready: True\n",
      "ExampleCnt [DEBUG]: inputs available: True\n",
      "ExampleCnt [DEBUG]: writing in_port name=in1 valid=1, data=1\n",
      "ExampleCnt [DEBUG]: out_ports set ready\n",
      "ExampleCnt [DEBUG]: retrieved data output=ForkedReturnNT(out1=11)\n",
      "ExampleCnt [DEBUG]: end of iteration 11\n",
      "PyMigenNode ExampleCnt_4 [INFO]: {'in1': 1} -> ForkedReturnNT(out1=11)\n",
      "PyMigenNode ExampleCnt_4 [INFO]: Stopped ExampleCnt_4.\n",
      "saving 10\n",
      "Value of cnt inside migen node 11\n"
     ]
    }
   ],
   "source": [
    "rt = DeltaPySimulator(graph)\n",
    "rt.run()\n",
    "\n",
    "print (f\"Value of cnt inside migen node {migen.output.out1}\")\n",
    "\n",
    "assert s.saved[-1] == 10"
   ]
  },
  {
   "cell_type": "markdown",
   "metadata": {},
   "source": [
    "This time we should stop when the output becomes bigger than 10.\n",
    "Because we have implemented no feedback the counter inside the migen node will carry on incrementing until\n",
    "`DeltaPySimulator` exits.\n",
    "Remember nodes are simulated/ran asynchronously and independently so the internal value of `self.sync` will be\n",
    "likely higher than 10.\n",
    "\n",
    "### Example 3: Finite State Machine\n",
    "\n",
    "Building on the previous example we want to have a state machine that stops to increment when we reach the value of 10."
   ]
  },
  {
   "cell_type": "code",
   "execution_count": 9,
   "metadata": {
    "tags": []
   },
   "outputs": [],
   "source": [
    "class ExampleCountOutFSM(MigenNodeTemplate):\n",
    "\n",
    "     def migen_body(self, template):\n",
    "          # I/O:\n",
    "          in1 = template.add_pa_in_port('in1', DOptional(int))\n",
    "          out1 = template.add_pa_out_port('out1', int)\n",
    "                    \n",
    "          # Logic:\n",
    "          self.comb += (\n",
    "               in1.ready.eq(1),\n",
    "          )\n",
    "\n",
    "          # counter\n",
    "          self.cnt = Signal(10)\n",
    "\n",
    "          # Defining a state machine with three states -\n",
    "          # IDLE, COUNTING and DONE. We will start IDLE from \n",
    "          # powerup of the system\n",
    "          self.submodules.CMD_fsm = FSM(reset_state='IDLE')\n",
    "\n",
    "          # In the IDLE we wait for the first valid input and\n",
    "          # then we move to COUNTING \n",
    "          self.CMD_fsm.act('IDLE', \n",
    "               If(in1.valid == 1,\n",
    "                    NextValue(self.cnt, 0),\n",
    "                    NextState('COUNTING')\n",
    "               )\n",
    "          )\n",
    "          # In COUNTING we count up to 10 and then move to DONE\n",
    "          self.CMD_fsm.act('COUNTING', \n",
    "               If(self.cnt == 10,\n",
    "                    NextValue(self.cnt, self.cnt),\n",
    "                    NextState('DONE')\n",
    "               ).Else(\n",
    "                    NextValue(self.cnt, self.cnt+1),\n",
    "               )\n",
    "          )\n",
    "          # In DONE we do nothing\n",
    "          self.CMD_fsm.act('DONE', \n",
    "               NextValue(self.cnt, self.cnt)\n",
    "          )\n",
    "\n",
    "          # Sending the input to the output. Data will be valid on\n",
    "          # the output when received on the inpuy  \n",
    "          self.comb += (\n",
    "               out1.data.eq(self.cnt),\n",
    "               out1.valid.eq(in1.valid)\n",
    "          )"
   ]
  },
  {
   "cell_type": "markdown",
   "metadata": {},
   "source": [
    "We now create the graph as before:"
   ]
  },
  {
   "cell_type": "code",
   "execution_count": 10,
   "metadata": {},
   "outputs": [
    {
     "output_type": "display_data",
     "data": {
      "text/plain": "<Figure size 432x288 with 1 Axes>",
      "image/svg+xml": "<?xml version=\"1.0\" encoding=\"utf-8\" standalone=\"no\"?>\n<!DOCTYPE svg PUBLIC \"-//W3C//DTD SVG 1.1//EN\"\n  \"http://www.w3.org/Graphics/SVG/1.1/DTD/svg11.dtd\">\n<!-- Created with matplotlib (https://matplotlib.org/) -->\n<svg height=\"231.84pt\" version=\"1.1\" viewBox=\"0 0 366.886951 231.84\" width=\"366.886951pt\" xmlns=\"http://www.w3.org/2000/svg\" xmlns:xlink=\"http://www.w3.org/1999/xlink\">\n <metadata>\n  <rdf:RDF xmlns:cc=\"http://creativecommons.org/ns#\" xmlns:dc=\"http://purl.org/dc/elements/1.1/\" xmlns:rdf=\"http://www.w3.org/1999/02/22-rdf-syntax-ns#\">\n   <cc:Work>\n    <dc:type rdf:resource=\"http://purl.org/dc/dcmitype/StillImage\"/>\n    <dc:date>2020-11-24T11:12:14.152601</dc:date>\n    <dc:format>image/svg+xml</dc:format>\n    <dc:creator>\n     <cc:Agent>\n      <dc:title>Matplotlib v3.3.3, https://matplotlib.org/</dc:title>\n     </cc:Agent>\n    </dc:creator>\n   </cc:Work>\n  </rdf:RDF>\n </metadata>\n <defs>\n  <style type=\"text/css\">*{stroke-linecap:butt;stroke-linejoin:round;}</style>\n </defs>\n <g id=\"figure_1\">\n  <g id=\"patch_1\">\n   <path d=\"M 0 231.84 \nL 366.886951 231.84 \nL 366.886951 0 \nL 0 0 \nz\n\" style=\"fill:none;\"/>\n  </g>\n  <g id=\"axes_1\">\n   <g id=\"patch_2\">\n    <path clip-path=\"url(#p482270acba)\" d=\"M 40.976631 33.326566 \nQ 83.217292 96.851058 144.022472 141.044163 \n\" style=\"fill:none;stroke:#000000;stroke-linecap:round;\"/>\n    <path clip-path=\"url(#p482270acba)\" d=\"M 141.962639 137.074643 \nL 144.022472 141.044163 \nL 139.610956 140.310317 \nL 141.962639 137.074643 \nz\n\" style=\"stroke:#000000;stroke-linecap:round;\"/>\n   </g>\n   <g id=\"patch_3\">\n    <path clip-path=\"url(#p482270acba)\" d=\"M 159.414676 151.173316 \nQ 227.118949 190.826577 303.303672 204.16694 \n\" style=\"fill:none;stroke:#000000;stroke-linecap:round;\"/>\n    <path clip-path=\"url(#p482270acba)\" d=\"M 299.708583 201.50699 \nL 303.303672 204.16694 \nL 299.018658 205.447041 \nL 299.708583 201.50699 \nz\n\" style=\"stroke:#000000;stroke-linecap:round;\"/>\n   </g>\n   <g id=\"PathCollection_1\">\n    <defs>\n     <path d=\"M 0 8.660254 \nC 2.296726 8.660254 4.499694 7.747755 6.123724 6.123724 \nC 7.747755 4.499694 8.660254 2.296726 8.660254 0 \nC 8.660254 -2.296726 7.747755 -4.499694 6.123724 -6.123724 \nC 4.499694 -7.747755 2.296726 -8.660254 0 -8.660254 \nC -2.296726 -8.660254 -4.499694 -7.747755 -6.123724 -6.123724 \nC -7.747755 -4.499694 -8.660254 -2.296726 -8.660254 0 \nC -8.660254 2.296726 -7.747755 4.499694 -6.123724 6.123724 \nC -4.499694 7.747755 -2.296726 8.660254 0 8.660254 \nz\n\" id=\"mb2af8c1480\" style=\"stroke:#1f78b4;\"/>\n    </defs>\n    <g clip-path=\"url(#p482270acba)\">\n     <use style=\"fill:#1f78b4;stroke:#1f78b4;\" x=\"36.252893\" xlink:href=\"#mb2af8c1480\" y=\"26.06876\"/>\n     <use style=\"fill:#1f78b4;stroke:#1f78b4;\" x=\"151.981965\" xlink:href=\"#mb2af8c1480\" y=\"146.723742\"/>\n     <use style=\"fill:#1f78b4;stroke:#1f78b4;\" x=\"312.947107\" xlink:href=\"#mb2af8c1480\" y=\"205.77124\"/>\n    </g>\n   </g>\n   <g id=\"text_1\">\n    <!-- node_6 -->\n    <g transform=\"translate(18.092736 28.689073)scale(0.1 -0.1)\">\n     <defs>\n      <path d=\"M 54.890625 33.015625 \nL 54.890625 0 \nL 45.90625 0 \nL 45.90625 32.71875 \nQ 45.90625 40.484375 42.875 44.328125 \nQ 39.84375 48.1875 33.796875 48.1875 \nQ 26.515625 48.1875 22.3125 43.546875 \nQ 18.109375 38.921875 18.109375 30.90625 \nL 18.109375 0 \nL 9.078125 0 \nL 9.078125 54.6875 \nL 18.109375 54.6875 \nL 18.109375 46.1875 \nQ 21.34375 51.125 25.703125 53.5625 \nQ 30.078125 56 35.796875 56 \nQ 45.21875 56 50.046875 50.171875 \nQ 54.890625 44.34375 54.890625 33.015625 \nz\n\" id=\"DejaVuSans-110\"/>\n      <path d=\"M 30.609375 48.390625 \nQ 23.390625 48.390625 19.1875 42.75 \nQ 14.984375 37.109375 14.984375 27.296875 \nQ 14.984375 17.484375 19.15625 11.84375 \nQ 23.34375 6.203125 30.609375 6.203125 \nQ 37.796875 6.203125 41.984375 11.859375 \nQ 46.1875 17.53125 46.1875 27.296875 \nQ 46.1875 37.015625 41.984375 42.703125 \nQ 37.796875 48.390625 30.609375 48.390625 \nz\nM 30.609375 56 \nQ 42.328125 56 49.015625 48.375 \nQ 55.71875 40.765625 55.71875 27.296875 \nQ 55.71875 13.875 49.015625 6.21875 \nQ 42.328125 -1.421875 30.609375 -1.421875 \nQ 18.84375 -1.421875 12.171875 6.21875 \nQ 5.515625 13.875 5.515625 27.296875 \nQ 5.515625 40.765625 12.171875 48.375 \nQ 18.84375 56 30.609375 56 \nz\n\" id=\"DejaVuSans-111\"/>\n      <path d=\"M 45.40625 46.390625 \nL 45.40625 75.984375 \nL 54.390625 75.984375 \nL 54.390625 0 \nL 45.40625 0 \nL 45.40625 8.203125 \nQ 42.578125 3.328125 38.25 0.953125 \nQ 33.9375 -1.421875 27.875 -1.421875 \nQ 17.96875 -1.421875 11.734375 6.484375 \nQ 5.515625 14.40625 5.515625 27.296875 \nQ 5.515625 40.1875 11.734375 48.09375 \nQ 17.96875 56 27.875 56 \nQ 33.9375 56 38.25 53.625 \nQ 42.578125 51.265625 45.40625 46.390625 \nz\nM 14.796875 27.296875 \nQ 14.796875 17.390625 18.875 11.75 \nQ 22.953125 6.109375 30.078125 6.109375 \nQ 37.203125 6.109375 41.296875 11.75 \nQ 45.40625 17.390625 45.40625 27.296875 \nQ 45.40625 37.203125 41.296875 42.84375 \nQ 37.203125 48.484375 30.078125 48.484375 \nQ 22.953125 48.484375 18.875 42.84375 \nQ 14.796875 37.203125 14.796875 27.296875 \nz\n\" id=\"DejaVuSans-100\"/>\n      <path d=\"M 56.203125 29.59375 \nL 56.203125 25.203125 \nL 14.890625 25.203125 \nQ 15.484375 15.921875 20.484375 11.0625 \nQ 25.484375 6.203125 34.421875 6.203125 \nQ 39.59375 6.203125 44.453125 7.46875 \nQ 49.3125 8.734375 54.109375 11.28125 \nL 54.109375 2.78125 \nQ 49.265625 0.734375 44.1875 -0.34375 \nQ 39.109375 -1.421875 33.890625 -1.421875 \nQ 20.796875 -1.421875 13.15625 6.1875 \nQ 5.515625 13.8125 5.515625 26.8125 \nQ 5.515625 40.234375 12.765625 48.109375 \nQ 20.015625 56 32.328125 56 \nQ 43.359375 56 49.78125 48.890625 \nQ 56.203125 41.796875 56.203125 29.59375 \nz\nM 47.21875 32.234375 \nQ 47.125 39.59375 43.09375 43.984375 \nQ 39.0625 48.390625 32.421875 48.390625 \nQ 24.90625 48.390625 20.390625 44.140625 \nQ 15.875 39.890625 15.1875 32.171875 \nz\n\" id=\"DejaVuSans-101\"/>\n      <path d=\"M 50.984375 -16.609375 \nL 50.984375 -23.578125 \nL -0.984375 -23.578125 \nL -0.984375 -16.609375 \nz\n\" id=\"DejaVuSans-95\"/>\n      <path d=\"M 33.015625 40.375 \nQ 26.375 40.375 22.484375 35.828125 \nQ 18.609375 31.296875 18.609375 23.390625 \nQ 18.609375 15.53125 22.484375 10.953125 \nQ 26.375 6.390625 33.015625 6.390625 \nQ 39.65625 6.390625 43.53125 10.953125 \nQ 47.40625 15.53125 47.40625 23.390625 \nQ 47.40625 31.296875 43.53125 35.828125 \nQ 39.65625 40.375 33.015625 40.375 \nz\nM 52.59375 71.296875 \nL 52.59375 62.3125 \nQ 48.875 64.0625 45.09375 64.984375 \nQ 41.3125 65.921875 37.59375 65.921875 \nQ 27.828125 65.921875 22.671875 59.328125 \nQ 17.53125 52.734375 16.796875 39.40625 \nQ 19.671875 43.65625 24.015625 45.921875 \nQ 28.375 48.1875 33.59375 48.1875 \nQ 44.578125 48.1875 50.953125 41.515625 \nQ 57.328125 34.859375 57.328125 23.390625 \nQ 57.328125 12.15625 50.6875 5.359375 \nQ 44.046875 -1.421875 33.015625 -1.421875 \nQ 20.359375 -1.421875 13.671875 8.265625 \nQ 6.984375 17.96875 6.984375 36.375 \nQ 6.984375 53.65625 15.1875 63.9375 \nQ 23.390625 74.21875 37.203125 74.21875 \nQ 40.921875 74.21875 44.703125 73.484375 \nQ 48.484375 72.75 52.59375 71.296875 \nz\n\" id=\"DejaVuSans-54\"/>\n     </defs>\n     <use xlink:href=\"#DejaVuSans-110\"/>\n     <use x=\"63.378906\" xlink:href=\"#DejaVuSans-111\"/>\n     <use x=\"124.560547\" xlink:href=\"#DejaVuSans-100\"/>\n     <use x=\"188.037109\" xlink:href=\"#DejaVuSans-101\"/>\n     <use x=\"249.560547\" xlink:href=\"#DejaVuSans-95\"/>\n     <use x=\"299.560547\" xlink:href=\"#DejaVuSans-54\"/>\n    </g>\n   </g>\n   <g id=\"text_2\">\n    <!-- ExampleCntFSM_7 -->\n    <g transform=\"translate(105.710871 149.344055)scale(0.1 -0.1)\">\n     <defs>\n      <path d=\"M 9.8125 72.90625 \nL 55.90625 72.90625 \nL 55.90625 64.59375 \nL 19.671875 64.59375 \nL 19.671875 43.015625 \nL 54.390625 43.015625 \nL 54.390625 34.71875 \nL 19.671875 34.71875 \nL 19.671875 8.296875 \nL 56.78125 8.296875 \nL 56.78125 0 \nL 9.8125 0 \nz\n\" id=\"DejaVuSans-69\"/>\n      <path d=\"M 54.890625 54.6875 \nL 35.109375 28.078125 \nL 55.90625 0 \nL 45.3125 0 \nL 29.390625 21.484375 \nL 13.484375 0 \nL 2.875 0 \nL 24.125 28.609375 \nL 4.6875 54.6875 \nL 15.28125 54.6875 \nL 29.78125 35.203125 \nL 44.28125 54.6875 \nz\n\" id=\"DejaVuSans-120\"/>\n      <path d=\"M 34.28125 27.484375 \nQ 23.390625 27.484375 19.1875 25 \nQ 14.984375 22.515625 14.984375 16.5 \nQ 14.984375 11.71875 18.140625 8.90625 \nQ 21.296875 6.109375 26.703125 6.109375 \nQ 34.1875 6.109375 38.703125 11.40625 \nQ 43.21875 16.703125 43.21875 25.484375 \nL 43.21875 27.484375 \nz\nM 52.203125 31.203125 \nL 52.203125 0 \nL 43.21875 0 \nL 43.21875 8.296875 \nQ 40.140625 3.328125 35.546875 0.953125 \nQ 30.953125 -1.421875 24.3125 -1.421875 \nQ 15.921875 -1.421875 10.953125 3.296875 \nQ 6 8.015625 6 15.921875 \nQ 6 25.140625 12.171875 29.828125 \nQ 18.359375 34.515625 30.609375 34.515625 \nL 43.21875 34.515625 \nL 43.21875 35.40625 \nQ 43.21875 41.609375 39.140625 45 \nQ 35.0625 48.390625 27.6875 48.390625 \nQ 23 48.390625 18.546875 47.265625 \nQ 14.109375 46.140625 10.015625 43.890625 \nL 10.015625 52.203125 \nQ 14.9375 54.109375 19.578125 55.046875 \nQ 24.21875 56 28.609375 56 \nQ 40.484375 56 46.34375 49.84375 \nQ 52.203125 43.703125 52.203125 31.203125 \nz\n\" id=\"DejaVuSans-97\"/>\n      <path d=\"M 52 44.1875 \nQ 55.375 50.25 60.0625 53.125 \nQ 64.75 56 71.09375 56 \nQ 79.640625 56 84.28125 50.015625 \nQ 88.921875 44.046875 88.921875 33.015625 \nL 88.921875 0 \nL 79.890625 0 \nL 79.890625 32.71875 \nQ 79.890625 40.578125 77.09375 44.375 \nQ 74.3125 48.1875 68.609375 48.1875 \nQ 61.625 48.1875 57.5625 43.546875 \nQ 53.515625 38.921875 53.515625 30.90625 \nL 53.515625 0 \nL 44.484375 0 \nL 44.484375 32.71875 \nQ 44.484375 40.625 41.703125 44.40625 \nQ 38.921875 48.1875 33.109375 48.1875 \nQ 26.21875 48.1875 22.15625 43.53125 \nQ 18.109375 38.875 18.109375 30.90625 \nL 18.109375 0 \nL 9.078125 0 \nL 9.078125 54.6875 \nL 18.109375 54.6875 \nL 18.109375 46.1875 \nQ 21.1875 51.21875 25.484375 53.609375 \nQ 29.78125 56 35.6875 56 \nQ 41.65625 56 45.828125 52.96875 \nQ 50 49.953125 52 44.1875 \nz\n\" id=\"DejaVuSans-109\"/>\n      <path d=\"M 18.109375 8.203125 \nL 18.109375 -20.796875 \nL 9.078125 -20.796875 \nL 9.078125 54.6875 \nL 18.109375 54.6875 \nL 18.109375 46.390625 \nQ 20.953125 51.265625 25.265625 53.625 \nQ 29.59375 56 35.59375 56 \nQ 45.5625 56 51.78125 48.09375 \nQ 58.015625 40.1875 58.015625 27.296875 \nQ 58.015625 14.40625 51.78125 6.484375 \nQ 45.5625 -1.421875 35.59375 -1.421875 \nQ 29.59375 -1.421875 25.265625 0.953125 \nQ 20.953125 3.328125 18.109375 8.203125 \nz\nM 48.6875 27.296875 \nQ 48.6875 37.203125 44.609375 42.84375 \nQ 40.53125 48.484375 33.40625 48.484375 \nQ 26.265625 48.484375 22.1875 42.84375 \nQ 18.109375 37.203125 18.109375 27.296875 \nQ 18.109375 17.390625 22.1875 11.75 \nQ 26.265625 6.109375 33.40625 6.109375 \nQ 40.53125 6.109375 44.609375 11.75 \nQ 48.6875 17.390625 48.6875 27.296875 \nz\n\" id=\"DejaVuSans-112\"/>\n      <path d=\"M 9.421875 75.984375 \nL 18.40625 75.984375 \nL 18.40625 0 \nL 9.421875 0 \nz\n\" id=\"DejaVuSans-108\"/>\n      <path d=\"M 64.40625 67.28125 \nL 64.40625 56.890625 \nQ 59.421875 61.53125 53.78125 63.8125 \nQ 48.140625 66.109375 41.796875 66.109375 \nQ 29.296875 66.109375 22.65625 58.46875 \nQ 16.015625 50.828125 16.015625 36.375 \nQ 16.015625 21.96875 22.65625 14.328125 \nQ 29.296875 6.6875 41.796875 6.6875 \nQ 48.140625 6.6875 53.78125 8.984375 \nQ 59.421875 11.28125 64.40625 15.921875 \nL 64.40625 5.609375 \nQ 59.234375 2.09375 53.4375 0.328125 \nQ 47.65625 -1.421875 41.21875 -1.421875 \nQ 24.65625 -1.421875 15.125 8.703125 \nQ 5.609375 18.84375 5.609375 36.375 \nQ 5.609375 53.953125 15.125 64.078125 \nQ 24.65625 74.21875 41.21875 74.21875 \nQ 47.75 74.21875 53.53125 72.484375 \nQ 59.328125 70.75 64.40625 67.28125 \nz\n\" id=\"DejaVuSans-67\"/>\n      <path d=\"M 18.3125 70.21875 \nL 18.3125 54.6875 \nL 36.8125 54.6875 \nL 36.8125 47.703125 \nL 18.3125 47.703125 \nL 18.3125 18.015625 \nQ 18.3125 11.328125 20.140625 9.421875 \nQ 21.96875 7.515625 27.59375 7.515625 \nL 36.8125 7.515625 \nL 36.8125 0 \nL 27.59375 0 \nQ 17.1875 0 13.234375 3.875 \nQ 9.28125 7.765625 9.28125 18.015625 \nL 9.28125 47.703125 \nL 2.6875 47.703125 \nL 2.6875 54.6875 \nL 9.28125 54.6875 \nL 9.28125 70.21875 \nz\n\" id=\"DejaVuSans-116\"/>\n      <path d=\"M 9.8125 72.90625 \nL 51.703125 72.90625 \nL 51.703125 64.59375 \nL 19.671875 64.59375 \nL 19.671875 43.109375 \nL 48.578125 43.109375 \nL 48.578125 34.8125 \nL 19.671875 34.8125 \nL 19.671875 0 \nL 9.8125 0 \nz\n\" id=\"DejaVuSans-70\"/>\n      <path d=\"M 53.515625 70.515625 \nL 53.515625 60.890625 \nQ 47.90625 63.578125 42.921875 64.890625 \nQ 37.9375 66.21875 33.296875 66.21875 \nQ 25.25 66.21875 20.875 63.09375 \nQ 16.5 59.96875 16.5 54.203125 \nQ 16.5 49.359375 19.40625 46.890625 \nQ 22.3125 44.4375 30.421875 42.921875 \nL 36.375 41.703125 \nQ 47.40625 39.59375 52.65625 34.296875 \nQ 57.90625 29 57.90625 20.125 \nQ 57.90625 9.515625 50.796875 4.046875 \nQ 43.703125 -1.421875 29.984375 -1.421875 \nQ 24.8125 -1.421875 18.96875 -0.25 \nQ 13.140625 0.921875 6.890625 3.21875 \nL 6.890625 13.375 \nQ 12.890625 10.015625 18.65625 8.296875 \nQ 24.421875 6.59375 29.984375 6.59375 \nQ 38.421875 6.59375 43.015625 9.90625 \nQ 47.609375 13.234375 47.609375 19.390625 \nQ 47.609375 24.75 44.3125 27.78125 \nQ 41.015625 30.8125 33.5 32.328125 \nL 27.484375 33.5 \nQ 16.453125 35.6875 11.515625 40.375 \nQ 6.59375 45.0625 6.59375 53.421875 \nQ 6.59375 63.09375 13.40625 68.65625 \nQ 20.21875 74.21875 32.171875 74.21875 \nQ 37.3125 74.21875 42.625 73.28125 \nQ 47.953125 72.359375 53.515625 70.515625 \nz\n\" id=\"DejaVuSans-83\"/>\n      <path d=\"M 9.8125 72.90625 \nL 24.515625 72.90625 \nL 43.109375 23.296875 \nL 61.8125 72.90625 \nL 76.515625 72.90625 \nL 76.515625 0 \nL 66.890625 0 \nL 66.890625 64.015625 \nL 48.09375 14.015625 \nL 38.1875 14.015625 \nL 19.390625 64.015625 \nL 19.390625 0 \nL 9.8125 0 \nz\n\" id=\"DejaVuSans-77\"/>\n      <path d=\"M 8.203125 72.90625 \nL 55.078125 72.90625 \nL 55.078125 68.703125 \nL 28.609375 0 \nL 18.3125 0 \nL 43.21875 64.59375 \nL 8.203125 64.59375 \nz\n\" id=\"DejaVuSans-55\"/>\n     </defs>\n     <use xlink:href=\"#DejaVuSans-69\"/>\n     <use x=\"63.183594\" xlink:href=\"#DejaVuSans-120\"/>\n     <use x=\"122.363281\" xlink:href=\"#DejaVuSans-97\"/>\n     <use x=\"183.642578\" xlink:href=\"#DejaVuSans-109\"/>\n     <use x=\"281.054688\" xlink:href=\"#DejaVuSans-112\"/>\n     <use x=\"344.53125\" xlink:href=\"#DejaVuSans-108\"/>\n     <use x=\"372.314453\" xlink:href=\"#DejaVuSans-101\"/>\n     <use x=\"433.837891\" xlink:href=\"#DejaVuSans-67\"/>\n     <use x=\"503.662109\" xlink:href=\"#DejaVuSans-110\"/>\n     <use x=\"567.041016\" xlink:href=\"#DejaVuSans-116\"/>\n     <use x=\"606.25\" xlink:href=\"#DejaVuSans-70\"/>\n     <use x=\"662.019531\" xlink:href=\"#DejaVuSans-83\"/>\n     <use x=\"725.496094\" xlink:href=\"#DejaVuSans-77\"/>\n     <use x=\"811.775391\" xlink:href=\"#DejaVuSans-95\"/>\n     <use x=\"861.775391\" xlink:href=\"#DejaVuSans-55\"/>\n    </g>\n   </g>\n   <g id=\"text_3\">\n    <!-- save_and_exit_if_8 -->\n    <g transform=\"translate(266.207264 208.391552)scale(0.1 -0.1)\">\n     <defs>\n      <path d=\"M 44.28125 53.078125 \nL 44.28125 44.578125 \nQ 40.484375 46.53125 36.375 47.5 \nQ 32.28125 48.484375 27.875 48.484375 \nQ 21.1875 48.484375 17.84375 46.4375 \nQ 14.5 44.390625 14.5 40.28125 \nQ 14.5 37.15625 16.890625 35.375 \nQ 19.28125 33.59375 26.515625 31.984375 \nL 29.59375 31.296875 \nQ 39.15625 29.25 43.1875 25.515625 \nQ 47.21875 21.78125 47.21875 15.09375 \nQ 47.21875 7.46875 41.1875 3.015625 \nQ 35.15625 -1.421875 24.609375 -1.421875 \nQ 20.21875 -1.421875 15.453125 -0.5625 \nQ 10.6875 0.296875 5.421875 2 \nL 5.421875 11.28125 \nQ 10.40625 8.6875 15.234375 7.390625 \nQ 20.0625 6.109375 24.8125 6.109375 \nQ 31.15625 6.109375 34.5625 8.28125 \nQ 37.984375 10.453125 37.984375 14.40625 \nQ 37.984375 18.0625 35.515625 20.015625 \nQ 33.0625 21.96875 24.703125 23.78125 \nL 21.578125 24.515625 \nQ 13.234375 26.265625 9.515625 29.90625 \nQ 5.8125 33.546875 5.8125 39.890625 \nQ 5.8125 47.609375 11.28125 51.796875 \nQ 16.75 56 26.8125 56 \nQ 31.78125 56 36.171875 55.265625 \nQ 40.578125 54.546875 44.28125 53.078125 \nz\n\" id=\"DejaVuSans-115\"/>\n      <path d=\"M 2.984375 54.6875 \nL 12.5 54.6875 \nL 29.59375 8.796875 \nL 46.6875 54.6875 \nL 56.203125 54.6875 \nL 35.6875 0 \nL 23.484375 0 \nz\n\" id=\"DejaVuSans-118\"/>\n      <path d=\"M 9.421875 54.6875 \nL 18.40625 54.6875 \nL 18.40625 0 \nL 9.421875 0 \nz\nM 9.421875 75.984375 \nL 18.40625 75.984375 \nL 18.40625 64.59375 \nL 9.421875 64.59375 \nz\n\" id=\"DejaVuSans-105\"/>\n      <path d=\"M 37.109375 75.984375 \nL 37.109375 68.5 \nL 28.515625 68.5 \nQ 23.6875 68.5 21.796875 66.546875 \nQ 19.921875 64.59375 19.921875 59.515625 \nL 19.921875 54.6875 \nL 34.71875 54.6875 \nL 34.71875 47.703125 \nL 19.921875 47.703125 \nL 19.921875 0 \nL 10.890625 0 \nL 10.890625 47.703125 \nL 2.296875 47.703125 \nL 2.296875 54.6875 \nL 10.890625 54.6875 \nL 10.890625 58.5 \nQ 10.890625 67.625 15.140625 71.796875 \nQ 19.390625 75.984375 28.609375 75.984375 \nz\n\" id=\"DejaVuSans-102\"/>\n      <path d=\"M 31.78125 34.625 \nQ 24.75 34.625 20.71875 30.859375 \nQ 16.703125 27.09375 16.703125 20.515625 \nQ 16.703125 13.921875 20.71875 10.15625 \nQ 24.75 6.390625 31.78125 6.390625 \nQ 38.8125 6.390625 42.859375 10.171875 \nQ 46.921875 13.96875 46.921875 20.515625 \nQ 46.921875 27.09375 42.890625 30.859375 \nQ 38.875 34.625 31.78125 34.625 \nz\nM 21.921875 38.8125 \nQ 15.578125 40.375 12.03125 44.71875 \nQ 8.5 49.078125 8.5 55.328125 \nQ 8.5 64.0625 14.71875 69.140625 \nQ 20.953125 74.21875 31.78125 74.21875 \nQ 42.671875 74.21875 48.875 69.140625 \nQ 55.078125 64.0625 55.078125 55.328125 \nQ 55.078125 49.078125 51.53125 44.71875 \nQ 48 40.375 41.703125 38.8125 \nQ 48.828125 37.15625 52.796875 32.3125 \nQ 56.78125 27.484375 56.78125 20.515625 \nQ 56.78125 9.90625 50.3125 4.234375 \nQ 43.84375 -1.421875 31.78125 -1.421875 \nQ 19.734375 -1.421875 13.25 4.234375 \nQ 6.78125 9.90625 6.78125 20.515625 \nQ 6.78125 27.484375 10.78125 32.3125 \nQ 14.796875 37.15625 21.921875 38.8125 \nz\nM 18.3125 54.390625 \nQ 18.3125 48.734375 21.84375 45.5625 \nQ 25.390625 42.390625 31.78125 42.390625 \nQ 38.140625 42.390625 41.71875 45.5625 \nQ 45.3125 48.734375 45.3125 54.390625 \nQ 45.3125 60.0625 41.71875 63.234375 \nQ 38.140625 66.40625 31.78125 66.40625 \nQ 25.390625 66.40625 21.84375 63.234375 \nQ 18.3125 60.0625 18.3125 54.390625 \nz\n\" id=\"DejaVuSans-56\"/>\n     </defs>\n     <use xlink:href=\"#DejaVuSans-115\"/>\n     <use x=\"52.099609\" xlink:href=\"#DejaVuSans-97\"/>\n     <use x=\"113.378906\" xlink:href=\"#DejaVuSans-118\"/>\n     <use x=\"172.558594\" xlink:href=\"#DejaVuSans-101\"/>\n     <use x=\"234.082031\" xlink:href=\"#DejaVuSans-95\"/>\n     <use x=\"284.082031\" xlink:href=\"#DejaVuSans-97\"/>\n     <use x=\"345.361328\" xlink:href=\"#DejaVuSans-110\"/>\n     <use x=\"408.740234\" xlink:href=\"#DejaVuSans-100\"/>\n     <use x=\"472.216797\" xlink:href=\"#DejaVuSans-95\"/>\n     <use x=\"522.216797\" xlink:href=\"#DejaVuSans-101\"/>\n     <use x=\"581.990234\" xlink:href=\"#DejaVuSans-120\"/>\n     <use x=\"641.169922\" xlink:href=\"#DejaVuSans-105\"/>\n     <use x=\"668.953125\" xlink:href=\"#DejaVuSans-116\"/>\n     <use x=\"708.162109\" xlink:href=\"#DejaVuSans-95\"/>\n     <use x=\"758.162109\" xlink:href=\"#DejaVuSans-105\"/>\n     <use x=\"785.945312\" xlink:href=\"#DejaVuSans-102\"/>\n     <use x=\"821.150391\" xlink:href=\"#DejaVuSans-95\"/>\n     <use x=\"871.150391\" xlink:href=\"#DejaVuSans-56\"/>\n    </g>\n   </g>\n  </g>\n </g>\n <defs>\n  <clipPath id=\"p482270acba\">\n   <rect height=\"217.44\" width=\"334.8\" x=\"7.2\" y=\"7.2\"/>\n  </clipPath>\n </defs>\n</svg>\n",
      "image/png": "[encoded data removed]"
     },
     "metadata": {}
    }
   ],
   "source": [
    "s = StateSaver(verbose=True, condition=lambda x: x >= 10)\n",
    "migen = ExampleCountOutFSM(name='ExampleCntFSM')\n",
    "\n",
    "with DeltaGraph() as graph:\n",
    "    migen_out = migen.call(in1=1)\n",
    "    s.save_and_exit_if(migen_out.out1)\n",
    "\n",
    "graph.draw(seed=1)"
   ]
  },
  {
   "source": [
    "And run:"
   ],
   "cell_type": "markdown",
   "metadata": {}
  },
  {
   "cell_type": "code",
   "execution_count": 11,
   "metadata": {},
   "outputs": [
    {
     "output_type": "stream",
     "name": "stdout",
     "text": [
      "saving 0\nsaving 0\nsaving 1\nsaving 2\nsaving 3\nsaving 4\nsaving 5\nsaving 6\nsaving 7\nsaving 8\nsaving 9\nsaving 10\nValue of cnt inside migen node 10\n"
     ]
    }
   ],
   "source": [
    "rt = DeltaPySimulator(graph)\n",
    "rt.run()\n",
    "\n",
    "print (f\"Value of cnt inside migen node {migen.output.out1}\")\n",
    "\n",
    "assert s.saved[-1] == 10"
   ]
  },
  {
   "cell_type": "markdown",
   "metadata": {},
   "source": [
    "If you now were to change the exit condition to `lambda x: x >= 11` instead of `lambda x: x >= 10`\n",
    "the simulatro will never complete as the migen node will not generate a value greater than 10.\n",
    "\n",
    "### Conclusion\n",
    "\n",
    "There is much more to be said about how to work with FPGA but this should hopefully show that\n",
    "simple logic around inputs and ouputs can be simply implemented.\n",
    "In general, FPGAs are used to minimize latency and to significantly reduced bandwidth\n",
    "requirements (by aggregating signals) of your systems.\n",
    "Plus it is generally easier to implement real-time controls on FPGAs than on CPUs."
   ]
  }
 ],
 "metadata": {
  "file_extension": ".py",
  "kernelspec": {
   "name": "python3",
   "display_name": "Python 3.8.5 64-bit",
   "metadata": {
    "interpreter": {
     "hash": "767d51c1340bd893661ea55ea3124f6de3c7a262a8b4abca0554b478b1e2ff90"
    }
   }
  },
  "language_info": {
   "codemirror_mode": {
    "name": "ipython",
    "version": 3
   },
   "file_extension": ".py",
   "mimetype": "text/x-python",
   "name": "python",
   "nbconvert_exporter": "python",
   "pygments_lexer": "ipython3",
   "version": "3.8.5-final"
  },
  "mimetype": "text/x-python",
  "name": "python",
  "npconvert_exporter": "python",
  "pycharm": {
   "stem_cell": {
    "cell_type": "raw",
    "source": [],
    "metadata": {
     "collapsed": false
    }
   }
  },
  "pygments_lexer": "ipython3",
  "version": 3
 },
 "nbformat": 4,
 "nbformat_minor": 2
}