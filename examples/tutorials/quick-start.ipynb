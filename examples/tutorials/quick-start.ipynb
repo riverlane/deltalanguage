{
 "cells": [
  {
   "cell_type": "markdown",
   "metadata": {},
   "source": [
    "# Getting started with Deltaflow"
   ]
  },
  {
   "cell_type": "markdown",
   "metadata": {},
   "source": [
    "This notebook will take you through the creation of a simple Deltaflow program and explain the core concepts along the way."
   ]
  },
  {
   "cell_type": "markdown",
   "metadata": {},
   "source": [
    "### Terminology"
   ]
  },
  {
   "cell_type": "markdown",
   "metadata": {},
   "source": [
    "Dataflow programming is the core concept behind Deltaflow. We split this paradigm into three parts:\n",
    "\n",
    "1. **Block definition**. A _block_ is a contiguous piece of code that can run indepndent of any other code. In theory, blocks can be written in any language. Currently we are using Python as a demonstration language.\n",
    "\n",
    "2. **Node connectivity**. Also called the \"wiring\". A node is an object that is responsible for running a single block by collecting input values from, and sending output values to, connected nodes. We call a collection of connected nodes a DeltaGraph. You can think of this as a directed graph where edges show the transition of data and vertices represent operations on said data.\n",
    "\n",
    "3. **Runtime**. This is where a DeltaGraph is executed. A _runtime_ is responsible for taking DeltaGraphs and running them on some target architecture/configuration. A DeltaGraph is largely platform agnostic, with dedicated runtimes being written for each target platform."
   ]
  },
  {
   "cell_type": "markdown",
   "metadata": {},
   "source": [
    "## Example code"
   ]
  },
  {
   "cell_type": "markdown",
   "metadata": {},
   "source": [
    "We start by importing a few objects and types."
   ]
  },
  {
   "cell_type": "code",
   "execution_count": 1,
   "metadata": {},
   "outputs": [],
   "source": [
    "from deltalanguage.data_types import NoMessage\n",
    "from deltalanguage.lib.primitives import StateSaver\n",
    "from deltalanguage.runtime import DeltaPySimulator, DeltaRuntimeExit\n",
    "from deltalanguage.wiring import DeltaBlock, DeltaGraph"
   ]
  },
  {
   "cell_type": "markdown",
   "metadata": {},
   "source": [
    "To define a block for use in the Deltaflow system we write a normal Python function and add the `@DeltaBlock` decorator. This function has several optional arguments. It is necessary for users to specify the type annotation of arguments and returns in the function signature; Python does not enforce function/variable type annotations in general, but in Deltaflow specifying them is mandatory."
   ]
  },
  {
   "cell_type": "markdown",
   "metadata": {},
   "source": [
    "To see more about the types you can use, see this notebook: [data_types](data_types.ipynb)."
   ]
  },
  {
   "cell_type": "markdown",
   "metadata": {},
   "source": [
    "**Tip**: name is an optional keyword argument for the `DeltaBlock` decorator that allows us to set the name of nodes created using this block."
   ]
  },
  {
   "cell_type": "code",
   "execution_count": 2,
   "metadata": {},
   "outputs": [],
   "source": [
    "@DeltaBlock(name=\"add\")\n",
    "def add(a: int, b: int) -> int:\n",
    "    return a + b"
   ]
  },
  {
   "cell_type": "markdown",
   "metadata": {},
   "source": [
    "This decorated function can still be used as normal when we don't try to put it into a `DeltaGraph`. This is useful for integrating Deltaflow with existing systems or testing."
   ]
  },
  {
   "cell_type": "code",
   "execution_count": 3,
   "metadata": {},
   "outputs": [
    {
     "name": "stdout",
     "output_type": "stream",
     "text": [
      "7\n"
     ]
    }
   ],
   "source": [
    "x = add(4, 3)\n",
    "\n",
    "print(x)\n",
    "\n",
    "assert x == 7"
   ]
  },
  {
   "cell_type": "markdown",
   "metadata": {},
   "source": [
    "To create a node that will represent this block in a `DeltaGraph`, you can use the provided factories or our `with` syntax. This example will use the latter."
   ]
  },
  {
   "cell_type": "code",
   "execution_count": 4,
   "metadata": {},
   "outputs": [
    {
     "name": "stdout",
     "output_type": "stream",
     "text": [
      "add_2:\n",
      "    in : (a, DInt32, 0, False)\n",
      "    in : (b, DInt32, 0, False)\n",
      "\n"
     ]
    }
   ],
   "source": [
    "with DeltaGraph() as graph_1:\n",
    "    in_graph_block = add(a=4, b=3)\n",
    "\n",
    "print(in_graph_block)"
   ]
  },
  {
   "cell_type": "markdown",
   "metadata": {},
   "source": [
    "We can see that when we call the add function into our `DeltaGraph` context, it no longer executes normally. Instead, calling the decorated function has created and returned a node.\n",
    "\n",
    "This node has also been added to our graph for us, as can be seen by printing the graph."
   ]
  },
  {
   "cell_type": "code",
   "execution_count": 5,
   "metadata": {},
   "outputs": [
    {
     "name": "stdout",
     "output_type": "stream",
     "text": [
      "DeltaGraph[main] {\n",
      "    node_0:\n",
      "        out: (add_2.a, DInt32)\n",
      "    node_1:\n",
      "        out: (add_2.b, DInt32)\n",
      "    add_2:\n",
      "        in : (a, DInt32, 0, False)\n",
      "        in : (b, DInt32, 0, False)\n",
      "}\n",
      "\n"
     ]
    }
   ],
   "source": [
    "print(graph_1)"
   ]
  },
  {
   "cell_type": "markdown",
   "metadata": {},
   "source": [
    "Somewhat surprisingly, we see 3 nodes in our graph. This is because the arguments we gave our `add` function also need to become nodes on the `DeltaGraph`. These two created nodes have very simple, automatically constructed, blocks. The blocks just return the value we want to supply to add.\n",
    "\n",
    "Knowing to send data from one node to another requires an edge to be created in our `DeltaGraph`. On the printed format of the graph we can see two edges have been added going into our add node, one from each of it's created argument nodes.\n",
    "\n",
    "There is no output for `graph_1`, so let's define another block so we can make a graph where our `add` node can send its result to be printed."
   ]
  },
  {
   "cell_type": "code",
   "execution_count": 6,
   "metadata": {},
   "outputs": [
    {
     "name": "stdout",
     "output_type": "stream",
     "text": [
      "DeltaGraph[main] {\n",
      "    node_3:\n",
      "        out: (add_5.a, DInt32)\n",
      "    node_4:\n",
      "        out: (add_5.b, DInt32)\n",
      "    add_5:\n",
      "        in : (a, DInt32, 0, False)\n",
      "        in : (b, DInt32, 0, False)\n",
      "        out: (save_and_exit_6.val, DInt32)\n",
      "    save_and_exit_6:\n",
      "        in : (val, T, 0, False)\n",
      "}\n",
      "\n"
     ]
    }
   ],
   "source": [
    "s = StateSaver(verbose=True)\n",
    "\n",
    "with DeltaGraph() as graph_2:\n",
    "    added = add(a=4, b=3)\n",
    "    s.save_and_exit(added)\n",
    "\n",
    "print(graph_2)"
   ]
  },
  {
   "cell_type": "markdown",
   "metadata": {},
   "source": [
    "This graph now has an additional edge from our `add` node to the `save_and_exit` node.\n",
    "\n",
    "We can also create visual representations of our graph using the draw method. This method uses the [NetworkX](https://networkx.org/) library to draw a graph."
   ]
  },
  {
   "cell_type": "code",
   "execution_count": 7,
   "metadata": {},
   "outputs": [
    {
     "data": {
      "image/png": "[encoded data removed]",
      "text/plain": [
       "<Figure size 432x288 with 1 Axes>"
      ]
     },
     "metadata": {},
     "output_type": "display_data"
    }
   ],
   "source": [
    "graph_2.draw(seed=1)"
   ]
  },
  {
   "cell_type": "markdown",
   "metadata": {},
   "source": [
    "See [draw_networkx](https://networkx.github.io/documentation/stable/reference/generated/networkx.drawing.nx_pylab.draw_networkx.html#networkx.drawing.nx_pylab.draw_networkx) for details on what parameters can be passed to draw.\n",
    "\n",
    "Note: NetworkX has limited drawing functionality and might not be suitable for visualising more complicated Deltaflow graphs. To visualise more complex graphs, it is recommended to use `graph.write_gml(path)`, which saves a GraphML file in the location specified by path. This file can then be imported to more powerful graph visualisation tools such as [Cytoscape](https://cytoscape.org/). See the [NetworkX](https://networkx.github.io/documentation/stable/reference/drawing.html) documentation for further details.\n",
    "\n",
    "To run a graph we need a runtime, which takes a graph in its constructor. We can then call run on this runtime to execute our graph."
   ]
  },
  {
   "cell_type": "code",
   "execution_count": 9,
   "metadata": {},
   "outputs": [
    {
     "name": "stdout",
     "output_type": "stream",
     "text": [
      "saving 7\n"
     ]
    }
   ],
   "source": [
    "s.reset()\n",
    "\n",
    "rt = DeltaPySimulator(graph_2)\n",
    "rt.run()\n",
    "\n",
    "assert s.saved == [7]"
   ]
  },
  {
   "cell_type": "markdown",
   "metadata": {},
   "source": [
    "During the execution of `graph_2`, once both of the argument nodes have output their data, the `add` node will call our `add` block using the received data for its arguments. The `add` node then gets the return value from the `add` block and will pass it on to the `save_and_exit` node. This node will save its input within `s.saved` and then raise a `DeltaRuntimeExit` exception, which will cause the runtime to terminate.\n",
    "\n",
    "Note: Raising a `DeltaRuntimeExit` exception is currently the correct way to terminate the execution of a graph. Execution termination is managed by the runtime, raising this exception is just a way to signal to the runtime that execution should stop."
   ]
  }
 ],
 "metadata": {
  "kernelspec": {
   "display_name": "Python 3",
   "language": "python",
   "name": "python3"
  },
  "language_info": {
   "codemirror_mode": {
    "name": "ipython",
    "version": 3
   },
   "file_extension": ".py",
   "mimetype": "text/x-python",
   "name": "python",
   "nbconvert_exporter": "python",
   "pygments_lexer": "ipython3",
   "version": "3.8.5"
  }
 },
 "nbformat": 4,
 "nbformat_minor": 4
}
