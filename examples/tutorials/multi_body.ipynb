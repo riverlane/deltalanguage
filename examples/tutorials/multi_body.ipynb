{
 "cells": [
  {
   "source": [
    "# How-to: multybody nodes\n",
    "\n",
    "Up until now we were creating nodes with a single body,\n",
    "i.e. the internal logic of the node had only one implementation.\n",
    "\n",
    "In this tutorial we shall learn how to add mutiple bodies to nodes and select them before execution.\n",
    "\n",
    "## Why is this useful?\n",
    "\n",
    "- User can define graph only once, and add and select\n",
    "bodies later.\n",
    "\n",
    "- Not all runtime and runtime simulators support HDL\n",
    "languages such as Verilog. Instead an analogous\n",
    "implementation can be used, e.g. Migen.\n",
    "\n",
    "- HDL synthesis is a costly process takes a long time.\n",
    "During development or debugging nodes' bodies with\n",
    "HDL can be replaced by Python/C++.\n",
    "\n",
    "## Simple example\n",
    "\n",
    "Let's take a look at an example of a node that finds a sum of 2 integers."
   ],
   "cell_type": "markdown",
   "metadata": {}
  },
  {
   "cell_type": "code",
   "execution_count": 1,
   "metadata": {},
   "outputs": [],
   "source": [
    "import deltalanguage as dl\n",
    "\n",
    "\n",
    "@dl.DeltaBlock(allow_const=False)\n",
    "def add(a: int, b: int) -> dl.Void:\n",
    "    print('Simple addition:')\n",
    "    print(f'{a} + {b} = {a + b}')\n",
    "    raise dl.DeltaRuntimeExit\n",
    "\n",
    "with dl.DeltaGraph() as graph_1:\n",
    "    add(1, 2)"
   ]
  },
  {
   "source": [
    "This graph has 2 auto-generated nodes for constants and the main node:"
   ],
   "cell_type": "markdown",
   "metadata": {}
  },
  {
   "cell_type": "code",
   "execution_count": 2,
   "metadata": {},
   "outputs": [
    {
     "output_type": "stream",
     "name": "stdout",
     "text": [
      "DeltaGraph[main] {\n    node[node_0]:\n        ports:\n            out:\n                output, DInt32 -> add_2.a\n        bodies:\n            *PyConstBody\n                tags: <lambda>\n\n    node[node_1]:\n        ports:\n            out:\n                output, DInt32 -> add_2.b\n        bodies:\n            *PyConstBody\n                tags: <lambda>\n\n    node[add_2]:\n        ports:\n            in:\n                a, DInt32\n                b, DInt32\n        bodies:\n            *PyFuncBody\n                tags: add\n\n}\n\n"
     ]
    }
   ],
   "source": [
    "print(graph_1)"
   ]
  },
  {
   "source": [
    "Note that each node has only one body and its name is marked with `*`,\n",
    "which means that it is selected.\n",
    "\n",
    "By running it in our simulator we obtain the expected result:"
   ],
   "cell_type": "markdown",
   "metadata": {}
  },
  {
   "cell_type": "code",
   "execution_count": 3,
   "metadata": {},
   "outputs": [
    {
     "output_type": "stream",
     "name": "stdout",
     "text": [
      "Simple addition:\n1 + 2 = 3\n"
     ]
    }
   ],
   "source": [
    "dl.DeltaPySimulator(graph_1).run()"
   ]
  },
  {
   "source": [
    "Let's define and add a new body to the main node:"
   ],
   "cell_type": "markdown",
   "metadata": {}
  },
  {
   "cell_type": "code",
   "execution_count": 4,
   "metadata": {},
   "outputs": [],
   "source": [
    "@dl.DeltaBlock(allow_const=False)\n",
    "def new_add(a: int, b: int) -> dl.Void:\n",
    "    print('Another addition:')\n",
    "    print(f'{a} + {b} = {a + b}')\n",
    "    raise dl.DeltaRuntimeExit\n",
    "\n",
    "node = graph_1.find_node_by_name('add')\n",
    "node.add_body(new_add)"
   ]
  },
  {
   "source": [
    "We can see that a new body appears in the graph,\n",
    "note that the original body is still selected as `*` has not moved:"
   ],
   "cell_type": "markdown",
   "metadata": {}
  },
  {
   "cell_type": "code",
   "execution_count": 5,
   "metadata": {},
   "outputs": [
    {
     "output_type": "stream",
     "name": "stdout",
     "text": [
      "DeltaGraph[main] {\n    node[node_0]:\n        ports:\n            out:\n                output, DInt32 -> add_2.a\n        bodies:\n            *PyConstBody\n                tags: <lambda>\n\n    node[node_1]:\n        ports:\n            out:\n                output, DInt32 -> add_2.b\n        bodies:\n            *PyConstBody\n                tags: <lambda>\n\n    node[add_2]:\n        ports:\n            in:\n                a, DInt32\n                b, DInt32\n        bodies:\n            *PyFuncBody\n                tags: add\n            PyFuncBody\n                tags: new_add\n\n}\n\n"
     ]
    }
   ],
   "source": [
    "print(graph_1)"
   ]
  },
  {
   "source": [
    "A body can be selected by using the following syntax:"
   ],
   "cell_type": "markdown",
   "metadata": {}
  },
  {
   "source": [
    "node.select_body(preferred=['new_add'])\n",
    "\n",
    "print(graph_1)"
   ],
   "cell_type": "code",
   "metadata": {},
   "execution_count": 6,
   "outputs": [
    {
     "output_type": "stream",
     "name": "stdout",
     "text": [
      "DeltaGraph[main] {\n    node[node_0]:\n        ports:\n            out:\n                output, DInt32 -> add_2.a\n        bodies:\n            *PyConstBody\n                tags: <lambda>\n\n    node[node_1]:\n        ports:\n            out:\n                output, DInt32 -> add_2.b\n        bodies:\n            *PyConstBody\n                tags: <lambda>\n\n    node[add_2]:\n        ports:\n            in:\n                a, DInt32\n                b, DInt32\n        bodies:\n            PyFuncBody\n                tags: add\n            *PyFuncBody\n                tags: new_add\n\n}\n\n"
     ]
    }
   ]
  },
  {
   "source": [
    "Note, the new body is selected.\n",
    "If the graph is executed again we shall see the new result:"
   ],
   "cell_type": "markdown",
   "metadata": {}
  },
  {
   "cell_type": "code",
   "execution_count": 7,
   "metadata": {},
   "outputs": [
    {
     "output_type": "stream",
     "name": "stdout",
     "text": [
      "Another addition:\n1 + 2 = 3\n"
     ]
    }
   ],
   "source": [
    "dl.DeltaPySimulator(graph_1).run()"
   ]
  },
  {
   "source": [
    "## Example with templates\n",
    "\n",
    "Now we see that a node can have multiple bodies and\n",
    "all of them must refer to the same I/O ports.\n",
    "\n",
    "This might be an error-prone step, as we can accidentally\n",
    "mis-name a port of simply forget to include one.\n",
    "\n",
    "To minimise errors we propose to add bodies via templates, which ensure that\n",
    "each body has exactly the same I/O ports.\n",
    "\n",
    "We shall start by defining a template for a node that will do multiplication\n",
    "2 integers:"
   ],
   "cell_type": "markdown",
   "metadata": {}
  },
  {
   "cell_type": "code",
   "execution_count": 8,
   "metadata": {},
   "outputs": [],
   "source": [
    "from collections import OrderedDict\n",
    "\n",
    "mult_template = dl.NodeTemplate(name=\"Multiplication\",\n",
    "                                in_params=OrderedDict([('a', int), ('b', int)]),\n",
    "                                out_type=dl.Void)"
   ]
  },
  {
   "source": [
    "Note that we define I/O ports of a template in the same way\n",
    "as we would do using decorators `DeltaBlock`, `DeltaMethodBlock`,\n",
    "or `Interactive`.\n",
    "The only difference is the absence of a body.\n",
    "\n",
    "In the next step multiple bodies are associated with this template:"
   ],
   "cell_type": "markdown",
   "metadata": {}
  },
  {
   "cell_type": "code",
   "execution_count": 9,
   "metadata": {},
   "outputs": [],
   "source": [
    "@dl.DeltaBlock(mult_template, allow_const=False)\n",
    "def mult(a: int, b: int) -> dl.Void:\n",
    "    print('Simple multiplication:')\n",
    "    print(f'{a} * {b} = {a * b}')\n",
    "    raise dl.DeltaRuntimeExit\n",
    "\n",
    "@dl.Interactive(template=mult_template,\n",
    "                in_params=OrderedDict([('a', int), ('b', int)]),\n",
    "                out_type=dl.Void)\n",
    "def new_mult(node: dl.RealNode):\n",
    "    a = node.receive('a')\n",
    "    b = node.receive('b')\n",
    "    print('Another multiplication:')\n",
    "    print(f'{a} * {b} = {a * b}')\n",
    "    raise dl.DeltaRuntimeExit"
   ]
  },
  {
   "source": [
    "Let's create a graph where we use a node defined via the template\n",
    "above:"
   ],
   "cell_type": "markdown",
   "metadata": {}
  },
  {
   "cell_type": "code",
   "execution_count": 10,
   "metadata": {},
   "outputs": [],
   "source": [
    "with dl.DeltaGraph() as graph_2:\n",
    "    node = mult(4, 3)"
   ]
  },
  {
   "source": [
    "Note that the main node has the body that we used at construction\n",
    "(marked with `*`), and also the other body associated with the template:"
   ],
   "cell_type": "markdown",
   "metadata": {}
  },
  {
   "cell_type": "code",
   "execution_count": 11,
   "metadata": {},
   "outputs": [
    {
     "output_type": "stream",
     "name": "stdout",
     "text": [
      "DeltaGraph[main] {\n    node[node_3]:\n        ports:\n            out:\n                output, DInt32 -> mult_5.a\n        bodies:\n            *PyConstBody\n                tags: <lambda>\n\n    node[node_4]:\n        ports:\n            out:\n                output, DInt32 -> mult_5.b\n        bodies:\n            *PyConstBody\n                tags: <lambda>\n\n    node[mult_5]:\n        ports:\n            in:\n                a, DInt32\n                b, DInt32\n        bodies:\n            *PyFuncBody\n                tags: mult\n            PyInteractiveBody\n                tags: new_mult\n\n}\n\n"
     ]
    }
   ],
   "source": [
    "print(graph_2)"
   ]
  },
  {
   "source": [
    "Each body can have multiple tags to help with selection.\n",
    "The dafault tags are the name and the type of the node,\n",
    "also more tags can be added at definition of the node.\n",
    "\n",
    "Let's see which tags the selected body has:"
   ],
   "cell_type": "markdown",
   "metadata": {}
  },
  {
   "cell_type": "code",
   "execution_count": 12,
   "metadata": {},
   "outputs": [
    {
     "output_type": "execute_result",
     "data": {
      "text/plain": [
       "['mult',\n",
       " deltalanguage.wiring._node_classes.node_bodies.PyFuncBody,\n",
       " deltalanguage.wiring._node_classes.node_bodies.PythonBody,\n",
       " deltalanguage.wiring._node_classes.node_bodies.Body,\n",
       " abc.ABC,\n",
       " object]"
      ]
     },
     "metadata": {},
     "execution_count": 12
    }
   ],
   "source": [
    "node.body.access_tags"
   ]
  },
  {
   "source": [
    "Now let's select the other body and check that the tags are different:"
   ],
   "cell_type": "markdown",
   "metadata": {}
  },
  {
   "source": [
    "node.select_body(preferred=['new_mult'])\n",
    "\n",
    "node.body.access_tags"
   ],
   "cell_type": "code",
   "metadata": {},
   "execution_count": 13,
   "outputs": [
    {
     "output_type": "execute_result",
     "data": {
      "text/plain": [
       "['new_mult',\n",
       " deltalanguage.wiring._node_classes.node_bodies.PyInteractiveBody,\n",
       " deltalanguage.wiring._node_classes.node_bodies.PyFuncBody,\n",
       " deltalanguage.wiring._node_classes.node_bodies.PythonBody,\n",
       " deltalanguage.wiring._node_classes.node_bodies.Body,\n",
       " abc.ABC,\n",
       " object]"
      ]
     },
     "metadata": {},
     "execution_count": 13
    }
   ]
  },
  {
   "source": [
    "On exectution the selected body is used indeed:"
   ],
   "cell_type": "markdown",
   "metadata": {}
  },
  {
   "cell_type": "code",
   "execution_count": 14,
   "metadata": {},
   "outputs": [
    {
     "output_type": "stream",
     "name": "stdout",
     "text": [
      "Another multiplication:\n4 * 3 = 12\n"
     ]
    }
   ],
   "source": [
    "dl.DeltaPySimulator(graph_2).run()"
   ]
  },
  {
   "source": [
    "## Bodyless node\n",
    "\n",
    "Another reason why templates are important is the fact that the node's\n",
    "body might be not available at the point when the graph is defined.\n",
    "For instance the logic controlling an experimental set up\n",
    "is under development and should be uploaded only right before runtime.\n",
    "\n",
    "In order to do that the template itself can be used at the graph\n",
    "construction:"
   ],
   "cell_type": "markdown",
   "metadata": {}
  },
  {
   "cell_type": "code",
   "execution_count": 15,
   "metadata": {},
   "outputs": [],
   "source": [
    "sub_template = dl.NodeTemplate(name=\"Subtraction\",\n",
    "                               in_params=OrderedDict([('a', int), ('b', int)]),\n",
    "                               out_type=dl.Void)\n",
    "\n",
    "\n",
    "with dl.DeltaGraph() as graph_3:\n",
    "    sub_template.call(10, 5)"
   ]
  },
  {
   "source": [
    "The node will show that there aren't any bodies available, as expected:"
   ],
   "cell_type": "markdown",
   "metadata": {}
  },
  {
   "cell_type": "code",
   "execution_count": 16,
   "metadata": {},
   "outputs": [
    {
     "output_type": "stream",
     "name": "stdout",
     "text": [
      "DeltaGraph[main] {\n    node[node_6]:\n        ports:\n            out:\n                output, DInt32 -> template_Subtraction_8.a\n        bodies:\n            *PyConstBody\n                tags: <lambda>\n\n    node[node_7]:\n        ports:\n            out:\n                output, DInt32 -> template_Subtraction_8.b\n        bodies:\n            *PyConstBody\n                tags: <lambda>\n\n    node[template_Subtraction_8]:\n        ports:\n            in:\n                a, DInt32\n                b, DInt32\n        bodies:\n            None\n\n}\n\n"
     ]
    }
   ],
   "source": [
    "print(graph_3)"
   ]
  }
 ],
 "metadata": {
  "kernelspec": {
   "name": "python3",
   "display_name": "Python 3.8.5 64-bit",
   "metadata": {
    "interpreter": {
     "hash": "767d51c1340bd893661ea55ea3124f6de3c7a262a8b4abca0554b478b1e2ff90"
    }
   }
  },
  "language_info": {
   "codemirror_mode": {
    "name": "ipython",
    "version": 3
   },
   "file_extension": ".py",
   "mimetype": "text/x-python",
   "name": "python",
   "nbconvert_exporter": "python",
   "pygments_lexer": "ipython3",
   "version": "3.8.5-final"
  }
 },
 "nbformat": 4,
 "nbformat_minor": 4
}
