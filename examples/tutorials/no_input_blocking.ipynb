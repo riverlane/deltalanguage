{
 "metadata": {
  "language_info": {
   "codemirror_mode": {
    "name": "ipython",
    "version": 3
   },
   "file_extension": ".py",
   "mimetype": "text/x-python",
   "name": "python",
   "nbconvert_exporter": "python",
   "pygments_lexer": "ipython3",
   "version": "3.8.2-final"
  },
  "orig_nbformat": 2,
  "kernelspec": {
   "name": "python_defaultSpec_1600787226343",
   "display_name": "Python 3.8.2 64-bit"
  }
 },
 "nbformat": 4,
 "nbformat_minor": 2,
 "cells": [
  {
   "source": [
    "# No input blocking\n",
    "\n",
    "This notebook is going to detail a slightly technical issue that is easy to encounter when first learning Deltaflow. We shall give an example of this issue in action, explain the cause behind it and then show how to fix it.\n",
    "\n",
    "The imports needed are given below."
   ],
   "cell_type": "markdown",
   "metadata": {}
  },
  {
   "cell_type": "code",
   "execution_count": 1,
   "metadata": {
    "tags": []
   },
   "outputs": [],
   "source": [
    "import logging\n",
    "import time\n",
    "\n",
    "from deltalanguage.data_types import NoMessage\n",
    "from deltalanguage.runtime import DeltaPySimulator, DeltaRuntimeExit\n",
    "from deltalanguage.wiring import (DeltaBlock,\n",
    "                                  DeltaGraph,\n",
    "                                  DeltaMethodBlock,\n",
    "                                  Interactive)"
   ]
  },
  {
   "source": [
    "## A simple counter\n",
    "\n",
    "Let's say that you want to have a counter node in your Deltaflow. This node will simply increment a number each time it is called.\n",
    "\n",
    "We can implement this using a `DeltaMethodBlock` such as the one below."
   ],
   "cell_type": "markdown",
   "metadata": {}
  },
  {
   "cell_type": "code",
   "execution_count": 2,
   "metadata": {},
   "outputs": [],
   "source": [
    "class Counter:\n",
    "\n",
    "    def __init__(self, lim):\n",
    "        self.x = 0\n",
    "        self.lim = lim\n",
    "\n",
    "    @DeltaMethodBlock()\n",
    "    def count(self) -> int:\n",
    "        self.x += 1\n",
    "        if self.x > self.lim:\n",
    "            raise DeltaRuntimeExit\n",
    "        return self.x"
   ]
  },
  {
   "source": [
    "Note that there is a limit in this counter which, when reached, will raise a `DeltaRuntimeExit`. We shall see why this is needed in a minute. But for now, what is important is that we have a `DeltaMethodBlock` which, each time it is called, will increment an internal counter and send the current value of said counter on.\n",
    "\n",
    "We are also going to implement a `DeltaBlock` which, upon receiving said message, prints it. This block will also have a limit which, when reached, will raise a `DeltaRuntimeExit`."
   ],
   "cell_type": "markdown",
   "metadata": {}
  },
  {
   "cell_type": "code",
   "execution_count": 3,
   "metadata": {},
   "outputs": [],
   "source": [
    "@DeltaBlock()\n",
    "def print_to_lim(n: int, lim: int) -> NoMessage:\n",
    "    print(n)\n",
    "    if n >= lim:\n",
    "        raise DeltaRuntimeExit"
   ]
  },
  {
   "source": [
    "Now, we wire up our graph and run it:"
   ],
   "cell_type": "markdown",
   "metadata": {}
  },
  {
   "cell_type": "code",
   "execution_count": 4,
   "metadata": {
    "tags": []
   },
   "outputs": [
    {
     "output_type": "stream",
     "name": "stdout",
     "text": "1\n2\n3\n4\n5\n6\n"
    }
   ],
   "source": [
    "cnt = Counter(lim=100)\n",
    "\n",
    "with DeltaGraph() as graph:\n",
    "    print_to_lim(cnt.count(), lim=100)\n",
    "\n",
    "rt = DeltaPySimulator(graph)\n",
    "rt.run()"
   ]
  },
  {
   "source": [
    "There is a very good chance that you did not see the print node print 100 to the display. However, if we look at the Counter object itself we will see that it did reach its limit:"
   ],
   "cell_type": "markdown",
   "metadata": {}
  },
  {
   "cell_type": "code",
   "execution_count": 5,
   "metadata": {
    "tags": []
   },
   "outputs": [
    {
     "output_type": "stream",
     "name": "stdout",
     "text": "Final count 101\n"
    }
   ],
   "source": [
    "print(\"Final count\", cnt.x)"
   ]
  },
  {
   "source": [
    "So why is there a difference here? Why did one node raise an exit signal so significantly before the other?\n",
    "\n",
    "To answer this, we need to understand a little bit about how the Deltaflow Python runtime is implemented, and how multithreading in Python works.\n",
    "\n",
    "## The need for blocking\n",
    "\n",
    "Each node in a Deltaflow graph is implemented as a thread in Python. Threads are a form of concurrent programming: each thread is a program, and these programs all run concurrently on a single CPU or processor. To avoid multiple threads trying to use the same resource at the same time, threads must acquire locks, which specify that only the given thread can use a resource until they release it. For a broader introduction to multithreading in general, see the [Wikipedia article](https://en.wikipedia.org/wiki/Multithreading_(computer_architecture)).\n",
    "\n",
    "In Python, and particularly CPython, there is an extra caveat to multithreading, which is that only one thread is ever run at a given time. This is because of the Global Interpreter Lock (GIL), which is a lock implemented over all objects, to prevent multiple threads from trying to modify the same object at the same time. For more information on the GIL, see [this article on the Python Wiki](https://wiki.python.org/moin/GlobalInterpreterLock), or [this blog post](https://hackernoon.com/concurrent-programming-in-python-is-not-what-you-think-it-is-b6439c3f3e6a).\n",
    "\n",
    "To know when is a good time for a thread to release the GIL, Python runs a thread until that thread is blocked, meaning that there is some time delay before it can run its next step. At this point, the GIL is released, another thread acquires it and that thread is run until it is blocked. In DeltaFlow, by default the times when a node is blocked is when the node is waiting for some input.\n",
    "\n",
    "And this is where our problem lies. In the above example, `Counter.count` has no input, so it is (almost) never blocked and Python therefore allows it to run indefinitely. This means that the vast majority of computation time is spent on that node rather than the `print_to_lim` node. This is why we need the counter node to raise a `DeltaRuntimeExit` itself: if it didn't, then there is a good probability that the program would have taken significantly longer, or possibly even never terminated, as so much of the computation time is spent on the counter node.\n",
    "\n",
    "## Time for sleep\n",
    "\n",
    "To resolve cases like this, we need to implement the node in a way such that it is blocked more often. Thankfully, there is an easy way to do this which is already implemented in the Python standard library: `time.sleep`. This is a function which blocks a thread for a given amount of time, specified in seconds. While this thread is blocked by `time.sleep` the GIL is released and another thread can acquire it to run.\n",
    "\n",
    "Below we implement a new counter `DeltaMethodBlock`. This time, we use `time.sleep` to block the node for 1ms with each evaluation. Note that this time we are not going to worry about including a limit on the counter node, as the printer node will be able to terminate in a reasonable time."
   ],
   "cell_type": "markdown",
   "metadata": {}
  },
  {
   "cell_type": "code",
   "execution_count": 6,
   "metadata": {},
   "outputs": [],
   "source": [
    "class CounterSleep:\n",
    "\n",
    "    def __init__(self):\n",
    "        self.x = 0\n",
    "\n",
    "    @DeltaMethodBlock()\n",
    "    def count(self) -> int:\n",
    "        self.x += 1\n",
    "        time.sleep(0.1)\n",
    "        return self.x"
   ]
  },
  {
   "source": [
    "We are now going to wire up and run a graph with this new node the same way as before."
   ],
   "cell_type": "markdown",
   "metadata": {}
  },
  {
   "cell_type": "code",
   "execution_count": 7,
   "metadata": {
    "tags": []
   },
   "outputs": [
    {
     "output_type": "stream",
     "name": "stdout",
     "text": "1\n2\n3\n4\n5\n6\n7\n8\n9\n10\n11\n12\n13\n14\n15\n16\n17\n18\n19\n20\n21\n22\n23\n24\n25\n26\n27\n28\n29\n30\n31\n32\n33\n34\n35\n36\n37\n38\n39\n40\n41\n42\n43\n44\n45\n46\n47\n48\n49\n50\n51\n52\n53\n54\n55\n56\n57\n58\n59\n60\n61\n62\n63\n64\n65\n66\n67\n68\n69\n70\n71\n72\n73\n74\n75\n76\n77\n78\n79\n80\n81\n82\n83\n84\n85\n86\n87\n88\n89\n90\n91\n92\n93\n94\n95\n96\n97\n98\n99\n100\n"
    }
   ],
   "source": [
    "cnt = CounterSleep()\n",
    "\n",
    "with DeltaGraph() as graph:\n",
    "    print_to_lim(cnt.count(), lim=100)\n",
    "\n",
    "rt = DeltaPySimulator(graph)\n",
    "rt.run()"
   ]
  },
  {
   "source": [
    "And thus we are able to run successfully.\n",
    "\n",
    "It is worth noting that this can happen for other nodes as well. Take the interactive node below, which receives an input `lim` at the start of its computation but then goes into a `while True` loop in which no blocking input is received."
   ],
   "cell_type": "markdown",
   "metadata": {}
  },
  {
   "cell_type": "code",
   "execution_count": 8,
   "metadata": {},
   "outputs": [],
   "source": [
    "@Interactive(in_params={\"lim\": int}, out_type=int)\n",
    "def counter_interactive(node):\n",
    "    x = 0\n",
    "    lim = node.receive(\"lim\")\n",
    "    while True:\n",
    "        x += 1\n",
    "        if x > lim:\n",
    "            raise DeltaRuntimeExit\n",
    "        node.send(x)"
   ]
  },
  {
   "source": [
    "If we wire this node up as we did with the previous examples, we will have the same issues as we had in our first example."
   ],
   "cell_type": "markdown",
   "metadata": {}
  },
  {
   "cell_type": "code",
   "execution_count": 9,
   "metadata": {
    "tags": []
   },
   "outputs": [
    {
     "output_type": "stream",
     "name": "stdout",
     "text": "1\n2\n3\n4\n5\n6\n7\n8\n9\n10\n11\n12\n13\n14\n"
    }
   ],
   "source": [
    "with DeltaGraph() as graph:\n",
    "    print_to_lim(counter_interactive.call(lim=100), lim=100)\n",
    "\n",
    "rt = DeltaPySimulator(graph)\n",
    "rt.run()"
   ]
  },
  {
   "source": [
    "To resolve this, we need to use `time.sleep` again to allow the interactive node to block."
   ],
   "cell_type": "markdown",
   "metadata": {}
  },
  {
   "cell_type": "code",
   "execution_count": 10,
   "metadata": {
    "tags": []
   },
   "outputs": [
    {
     "output_type": "stream",
     "name": "stdout",
     "text": "1\n2\n3\n4\n5\n6\n7\n8\n9\n10\n11\n12\n13\n14\n15\n16\n17\n18\n19\n20\n21\n22\n23\n24\n25\n26\n27\n28\n29\n30\n31\n32\n33\n34\n35\n36\n37\n38\n39\n40\n41\n42\n43\n44\n45\n46\n47\n48\n49\n50\n51\n52\n53\n54\n55\n56\n57\n58\n59\n60\n61\n62\n63\n64\n65\n66\n67\n68\n69\n70\n71\n72\n73\n74\n75\n76\n77\n78\n79\n80\n81\n82\n83\n84\n85\n86\n87\n88\n89\n90\n91\n92\n93\n94\n95\n96\n97\n98\n99\n100\n"
    }
   ],
   "source": [
    "@Interactive(in_params={}, out_type=int)\n",
    "def counter_interactive_sleep(node):\n",
    "    x = 0\n",
    "    while True:\n",
    "        x += 1\n",
    "        node.send(x)\n",
    "        time.sleep(0.1)\n",
    "\n",
    "with DeltaGraph() as graph:\n",
    "    print_to_lim(counter_interactive_sleep.call(), lim=100)\n",
    "\n",
    "rt = DeltaPySimulator(graph)\n",
    "rt.run()"
   ]
  },
  {
   "source": [
    "Finally, it is worth noting that even if a node receives inputs on _every_ evaluation, we might still need to use `time.sleep` to block a node if none of its inputs are blocking. For example, if every input to a node is constant, or every input is optional, then none of these inputs will be blocking and therefore we need to block the node ourselves."
   ],
   "cell_type": "markdown",
   "metadata": {}
  }
 ]
}