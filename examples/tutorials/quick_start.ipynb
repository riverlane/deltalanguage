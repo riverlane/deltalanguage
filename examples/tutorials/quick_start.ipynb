{
 "cells": [
  {
   "cell_type": "markdown",
   "metadata": {},
   "source": [
    "# Getting started with Deltaflow\n",
    "\n",
    "This notebook will take you through the creation of a simple Deltaflow program and explain the core concepts along the way."
   ]
  },
  {
   "cell_type": "markdown",
   "metadata": {},
   "source": [
    "### Terminology\n",
    "\n",
    "Dataflow programming is the core concept behind Deltaflow.\n",
    "We split this paradigm into three parts:\n",
    "\n",
    "1. **Block definition**.\n",
    "A _block_ is a contiguous piece of code that can run independent of any other code.\n",
    "In theory, blocks can be written in any language.\n",
    "Currently we are using Python as a demonstration language.\n",
    "\n",
    "2. **Node connectivity**.\n",
    "Also called the \"wiring\".\n",
    "A node is an object that is responsible for running a single block by collecting input\n",
    "values from, and sending output values to, connected nodes.\n",
    "We define a collection of connected nodes as an instance of `DeltaGraph`.\n",
    "You can think of this as a directed graph where edges show the transition of data and\n",
    "vertices represent operations on said data.\n",
    "\n",
    "3. **Runtime**.\n",
    "This is where `DeltaGraph` is executed.\n",
    "A _runtime_ is responsible for taking `DeltaGraph` and running it on some target\n",
    "architecture/configuration.\n",
    "`DeltaGraph` is largely platform agnostic, with dedicated runtimes being written\n",
    "for each target platform.\n",
    "\n",
    "4. **Simulator**.\n",
    "The main distinction from a runtime is that it intrinsically aims to only run `DeltaGraph`\n",
    "on a _simulated_ hardware, i.e. the entire simulation can run on a single CPU."
   ]
  },
  {
   "cell_type": "markdown",
   "metadata": {},
   "source": [
    "## Example code\n",
    "\n",
    "We start by importing the library."
   ]
  },
  {
   "cell_type": "code",
   "execution_count": 1,
   "metadata": {},
   "outputs": [],
   "source": [
    "import deltalanguage as dl"
   ]
  },
  {
   "cell_type": "markdown",
   "metadata": {},
   "source": [
    "To define a block for use in the Deltaflow system we write a normal Python function and add the `@DeltaBlock` decorator.\n",
    "This function has several optional arguments.\n",
    "It is necessary for users to specify the type annotation of arguments and returns in the function signature;\n",
    "Python does not enforce function/variable type annotations in general, but in Deltaflow specifying them is mandatory.\n",
    "\n",
    "To learn more about the data types you can see our tutorial on this topic in the main directory.\n",
    "\n",
    "**Tip**: name is an optional keyword argument for the `DeltaBlock`\n",
    "decorator that allows us to set the name of nodes created using this block."
   ]
  },
  {
   "cell_type": "code",
   "execution_count": 2,
   "metadata": {},
   "outputs": [],
   "source": [
    "@dl.DeltaBlock(name=\"add\")\n",
    "def add(a: int, b: int) -> int:\n",
    "    return a + b"
   ]
  },
  {
   "cell_type": "markdown",
   "metadata": {},
   "source": [
    "This decorated function can still be used as normal when we don't try to put it into a `DeltaGraph`.\n",
    "This is useful for integrating Deltaflow with existing systems or testing."
   ]
  },
  {
   "cell_type": "code",
   "execution_count": 3,
   "metadata": {},
   "outputs": [
    {
     "output_type": "stream",
     "name": "stdout",
     "text": [
      "7\n"
     ]
    }
   ],
   "source": [
    "x = add(4, 3)\n",
    "\n",
    "print(x)\n",
    "\n",
    "assert x == 7"
   ]
  },
  {
   "cell_type": "markdown",
   "metadata": {},
   "source": [
    "To create a node that will represent this block in a `DeltaGraph`,\n",
    "you can use the provided factories or our `with` syntax.\n",
    "This example will use the latter."
   ]
  },
  {
   "cell_type": "code",
   "execution_count": 4,
   "metadata": {},
   "outputs": [
    {
     "output_type": "stream",
     "name": "stdout",
     "text": [
      "node[add_2]:\n    ports:\n        in:\n            a, DInt32\n            b, DInt32\n    bodies:\n        *PyConstBody\n            tags: add\n\n\n"
     ]
    }
   ],
   "source": [
    "with dl.DeltaGraph() as graph:\n",
    "    in_graph_block = add(a=4, b=3)\n",
    "\n",
    "print(in_graph_block)"
   ]
  },
  {
   "cell_type": "markdown",
   "metadata": {},
   "source": [
    "We can see that when we call the add function into our `DeltaGraph` context,\n",
    "it no longer executes normally.\n",
    "Instead, calling the decorated function has created and returned a node.\n",
    "\n",
    "This node has also been added to our graph for us, as can be seen by printing the graph."
   ]
  },
  {
   "cell_type": "code",
   "execution_count": 5,
   "metadata": {},
   "outputs": [
    {
     "output_type": "stream",
     "name": "stdout",
     "text": [
      "DeltaGraph[main] {\n    node[node_0]:\n        ports:\n            out:\n                output, DInt32 -> add_2.a\n        bodies:\n            *PyConstBody\n                tags: <lambda>\n\n    node[node_1]:\n        ports:\n            out:\n                output, DInt32 -> add_2.b\n        bodies:\n            *PyConstBody\n                tags: <lambda>\n\n    node[add_2]:\n        ports:\n            in:\n                a, DInt32\n                b, DInt32\n        bodies:\n            *PyConstBody\n                tags: add\n\n}\n\n"
     ]
    }
   ],
   "source": [
    "print(graph)"
   ]
  },
  {
   "cell_type": "markdown",
   "metadata": {},
   "source": [
    "Somewhat surprisingly, we see 3 nodes in our graph. This is because the arguments we gave our `add` function also need to become nodes on the `DeltaGraph`. These two created nodes have very simple, automatically constructed, blocks.\n",
    "The blocks just return the value we want to supply to add.\n",
    "\n",
    "Knowing to send data from one node to another requires an edge to be created in our `DeltaGraph`.\n",
    "On the printed format of the graph we can see two edges have been added going into our add node,\n",
    "one from each of it's created argument nodes.\n",
    "\n",
    "There is no output for this graph, so let's define another block so we can make a graph where our `add` node can send its result to be printed."
   ]
  },
  {
   "cell_type": "code",
   "execution_count": 6,
   "metadata": {},
   "outputs": [
    {
     "output_type": "stream",
     "name": "stdout",
     "text": [
      "DeltaGraph[main] {\n    node[node_3]:\n        ports:\n            out:\n                output, DInt32 -> add_5.a\n        bodies:\n            *PyConstBody\n                tags: <lambda>\n\n    node[node_4]:\n        ports:\n            out:\n                output, DInt32 -> add_5.b\n        bodies:\n            *PyConstBody\n                tags: <lambda>\n\n    node[add_5]:\n        ports:\n            in:\n                a, DInt32\n                b, DInt32\n            out:\n                output, DInt32 -> save_and_exit_6.val\n        bodies:\n            *PyConstBody\n                tags: add\n\n    node[save_and_exit_6]:\n        ports:\n            in:\n                val, DInt32\n        bodies:\n            *PyFuncBody\n                tags: save_and_exit\n\n}\n\n"
     ]
    }
   ],
   "source": [
    "# This is a helper function that will be used to create a node that\n",
    "# will simply save everything arriving to it.\n",
    "s = dl.lib.StateSaver(int, verbose=True)\n",
    "\n",
    "with dl.DeltaGraph() as graph:\n",
    "    added = add(a=4, b=3)\n",
    "    s.save_and_exit(added)\n",
    "\n",
    "print(graph)"
   ]
  },
  {
   "cell_type": "markdown",
   "metadata": {},
   "source": [
    "This graph now has an additional edge from our `add` node to the `save_and_exit` node.\n",
    "This is a primitive node from the standard library that receives an input and tell the\n",
    "runtime or simulator to stop.\n",
    "\n",
    "We can also create visual representations of our graph using the draw method.\n",
    "This method uses the [NetworkX](https://networkx.org/) library to draw a graph."
   ]
  },
  {
   "cell_type": "code",
   "execution_count": 7,
   "metadata": {},
   "outputs": [
    {
     "output_type": "display_data",
     "data": {
      "text/plain": "<Figure size 432x288 with 1 Axes>",
      "image/svg+xml": "<?xml version=\"1.0\" encoding=\"utf-8\" standalone=\"no\"?>\n<!DOCTYPE svg PUBLIC \"-//W3C//DTD SVG 1.1//EN\"\n  \"http://www.w3.org/Graphics/SVG/1.1/DTD/svg11.dtd\">\n<!-- Created with matplotlib (https://matplotlib.org/) -->\n<svg height=\"231.84pt\" version=\"1.1\" viewBox=\"0 0 361.237732 231.84\" width=\"361.237732pt\" xmlns=\"http://www.w3.org/2000/svg\" xmlns:xlink=\"http://www.w3.org/1999/xlink\">\n <metadata>\n  <rdf:RDF xmlns:cc=\"http://creativecommons.org/ns#\" xmlns:dc=\"http://purl.org/dc/elements/1.1/\" xmlns:rdf=\"http://www.w3.org/1999/02/22-rdf-syntax-ns#\">\n   <cc:Work>\n    <dc:type rdf:resource=\"http://purl.org/dc/dcmitype/StillImage\"/>\n    <dc:date>2021-03-15T09:25:18.763629</dc:date>\n    <dc:format>image/svg+xml</dc:format>\n    <dc:creator>\n     <cc:Agent>\n      <dc:title>Matplotlib v3.3.4, https://matplotlib.org/</dc:title>\n     </cc:Agent>\n    </dc:creator>\n   </cc:Work>\n  </rdf:RDF>\n </metadata>\n <defs>\n  <style type=\"text/css\">*{stroke-linecap:butt;stroke-linejoin:round;}</style>\n </defs>\n <g id=\"figure_1\">\n  <g id=\"patch_1\">\n   <path d=\"M 0 231.84 \nL 361.237732 231.84 \nL 361.237732 0 \nL 0 0 \nz\n\" style=\"fill:none;\"/>\n  </g>\n  <g id=\"axes_1\">\n   <g id=\"patch_2\">\n    <path clip-path=\"url(#padba65665c)\" d=\"M 80.468318 33.972291 \nQ 102.997136 82.570958 139.703275 120.034354 \n\" style=\"fill:none;stroke:#000000;stroke-linecap:round;\"/>\n    <path clip-path=\"url(#padba65665c)\" d=\"M 138.33245 115.777496 \nL 139.703275 120.034354 \nL 135.475294 118.5769 \nL 138.33245 115.777496 \nz\n\" style=\"stroke:#000000;stroke-linecap:round;\"/>\n   </g>\n   <g id=\"patch_3\">\n    <path clip-path=\"url(#padba65665c)\" d=\"M 155.049607 128.960497 \nQ 229.05988 145.981097 303.259585 136.334552 \n\" style=\"fill:none;stroke:#000000;stroke-linecap:round;\"/>\n    <path clip-path=\"url(#padba65665c)\" d=\"M 299.035121 134.866934 \nL 303.259585 136.334552 \nL 299.550812 138.833553 \nL 299.035121 134.866934 \nz\n\" style=\"stroke:#000000;stroke-linecap:round;\"/>\n   </g>\n   <g id=\"patch_4\">\n    <path clip-path=\"url(#padba65665c)\" d=\"M 44.109325 202.121154 \nQ 98.396205 176.092618 139.84252 133.981109 \n\" style=\"fill:none;stroke:#000000;stroke-linecap:round;\"/>\n    <path clip-path=\"url(#padba65665c)\" d=\"M 135.611271 135.429052 \nL 139.84252 133.981109 \nL 138.462125 138.234874 \nL 135.611271 135.429052 \nz\n\" style=\"stroke:#000000;stroke-linecap:round;\"/>\n   </g>\n   <g id=\"PathCollection_1\">\n    <defs>\n     <path d=\"M 0 8.660254 \nC 2.296726 8.660254 4.499694 7.747755 6.123724 6.123724 \nC 7.747755 4.499694 8.660254 2.296726 8.660254 0 \nC 8.660254 -2.296726 7.747755 -4.499694 6.123724 -6.123724 \nC 4.499694 -7.747755 2.296726 -8.660254 0 -8.660254 \nC -2.296726 -8.660254 -4.499694 -7.747755 -6.123724 -6.123724 \nC -7.747755 -4.499694 -8.660254 -2.296726 -8.660254 0 \nC -8.660254 2.296726 -7.747755 4.499694 -6.123724 6.123724 \nC -4.499694 7.747755 -2.296726 8.660254 0 8.660254 \nz\n\" id=\"m6da305f2b8\" style=\"stroke:#1f78b4;\"/>\n    </defs>\n    <g clip-path=\"url(#padba65665c)\">\n     <use style=\"fill:#1f78b4;stroke:#1f78b4;\" x=\"76.932875\" xlink:href=\"#m6da305f2b8\" y=\"26.06876\"/>\n     <use style=\"fill:#1f78b4;stroke:#1f78b4;\" x=\"146.628544\" xlink:href=\"#m6da305f2b8\" y=\"126.936022\"/>\n     <use style=\"fill:#1f78b4;stroke:#1f78b4;\" x=\"36.252893\" xlink:href=\"#m6da305f2b8\" y=\"205.77124\"/>\n     <use style=\"fill:#1f78b4;stroke:#1f78b4;\" x=\"312.947107\" xlink:href=\"#m6da305f2b8\" y=\"134.988749\"/>\n    </g>\n   </g>\n   <g id=\"text_1\">\n    <!-- node_3 -->\n    <g transform=\"translate(58.772719 28.689073)scale(0.1 -0.1)\">\n     <defs>\n      <path d=\"M 54.890625 33.015625 \nL 54.890625 0 \nL 45.90625 0 \nL 45.90625 32.71875 \nQ 45.90625 40.484375 42.875 44.328125 \nQ 39.84375 48.1875 33.796875 48.1875 \nQ 26.515625 48.1875 22.3125 43.546875 \nQ 18.109375 38.921875 18.109375 30.90625 \nL 18.109375 0 \nL 9.078125 0 \nL 9.078125 54.6875 \nL 18.109375 54.6875 \nL 18.109375 46.1875 \nQ 21.34375 51.125 25.703125 53.5625 \nQ 30.078125 56 35.796875 56 \nQ 45.21875 56 50.046875 50.171875 \nQ 54.890625 44.34375 54.890625 33.015625 \nz\n\" id=\"DejaVuSans-110\"/>\n      <path d=\"M 30.609375 48.390625 \nQ 23.390625 48.390625 19.1875 42.75 \nQ 14.984375 37.109375 14.984375 27.296875 \nQ 14.984375 17.484375 19.15625 11.84375 \nQ 23.34375 6.203125 30.609375 6.203125 \nQ 37.796875 6.203125 41.984375 11.859375 \nQ 46.1875 17.53125 46.1875 27.296875 \nQ 46.1875 37.015625 41.984375 42.703125 \nQ 37.796875 48.390625 30.609375 48.390625 \nz\nM 30.609375 56 \nQ 42.328125 56 49.015625 48.375 \nQ 55.71875 40.765625 55.71875 27.296875 \nQ 55.71875 13.875 49.015625 6.21875 \nQ 42.328125 -1.421875 30.609375 -1.421875 \nQ 18.84375 -1.421875 12.171875 6.21875 \nQ 5.515625 13.875 5.515625 27.296875 \nQ 5.515625 40.765625 12.171875 48.375 \nQ 18.84375 56 30.609375 56 \nz\n\" id=\"DejaVuSans-111\"/>\n      <path d=\"M 45.40625 46.390625 \nL 45.40625 75.984375 \nL 54.390625 75.984375 \nL 54.390625 0 \nL 45.40625 0 \nL 45.40625 8.203125 \nQ 42.578125 3.328125 38.25 0.953125 \nQ 33.9375 -1.421875 27.875 -1.421875 \nQ 17.96875 -1.421875 11.734375 6.484375 \nQ 5.515625 14.40625 5.515625 27.296875 \nQ 5.515625 40.1875 11.734375 48.09375 \nQ 17.96875 56 27.875 56 \nQ 33.9375 56 38.25 53.625 \nQ 42.578125 51.265625 45.40625 46.390625 \nz\nM 14.796875 27.296875 \nQ 14.796875 17.390625 18.875 11.75 \nQ 22.953125 6.109375 30.078125 6.109375 \nQ 37.203125 6.109375 41.296875 11.75 \nQ 45.40625 17.390625 45.40625 27.296875 \nQ 45.40625 37.203125 41.296875 42.84375 \nQ 37.203125 48.484375 30.078125 48.484375 \nQ 22.953125 48.484375 18.875 42.84375 \nQ 14.796875 37.203125 14.796875 27.296875 \nz\n\" id=\"DejaVuSans-100\"/>\n      <path d=\"M 56.203125 29.59375 \nL 56.203125 25.203125 \nL 14.890625 25.203125 \nQ 15.484375 15.921875 20.484375 11.0625 \nQ 25.484375 6.203125 34.421875 6.203125 \nQ 39.59375 6.203125 44.453125 7.46875 \nQ 49.3125 8.734375 54.109375 11.28125 \nL 54.109375 2.78125 \nQ 49.265625 0.734375 44.1875 -0.34375 \nQ 39.109375 -1.421875 33.890625 -1.421875 \nQ 20.796875 -1.421875 13.15625 6.1875 \nQ 5.515625 13.8125 5.515625 26.8125 \nQ 5.515625 40.234375 12.765625 48.109375 \nQ 20.015625 56 32.328125 56 \nQ 43.359375 56 49.78125 48.890625 \nQ 56.203125 41.796875 56.203125 29.59375 \nz\nM 47.21875 32.234375 \nQ 47.125 39.59375 43.09375 43.984375 \nQ 39.0625 48.390625 32.421875 48.390625 \nQ 24.90625 48.390625 20.390625 44.140625 \nQ 15.875 39.890625 15.1875 32.171875 \nz\n\" id=\"DejaVuSans-101\"/>\n      <path d=\"M 50.984375 -16.609375 \nL 50.984375 -23.578125 \nL -0.984375 -23.578125 \nL -0.984375 -16.609375 \nz\n\" id=\"DejaVuSans-95\"/>\n      <path d=\"M 40.578125 39.3125 \nQ 47.65625 37.796875 51.625 33 \nQ 55.609375 28.21875 55.609375 21.1875 \nQ 55.609375 10.40625 48.1875 4.484375 \nQ 40.765625 -1.421875 27.09375 -1.421875 \nQ 22.515625 -1.421875 17.65625 -0.515625 \nQ 12.796875 0.390625 7.625 2.203125 \nL 7.625 11.71875 \nQ 11.71875 9.328125 16.59375 8.109375 \nQ 21.484375 6.890625 26.8125 6.890625 \nQ 36.078125 6.890625 40.9375 10.546875 \nQ 45.796875 14.203125 45.796875 21.1875 \nQ 45.796875 27.640625 41.28125 31.265625 \nQ 36.765625 34.90625 28.71875 34.90625 \nL 20.21875 34.90625 \nL 20.21875 43.015625 \nL 29.109375 43.015625 \nQ 36.375 43.015625 40.234375 45.921875 \nQ 44.09375 48.828125 44.09375 54.296875 \nQ 44.09375 59.90625 40.109375 62.90625 \nQ 36.140625 65.921875 28.71875 65.921875 \nQ 24.65625 65.921875 20.015625 65.03125 \nQ 15.375 64.15625 9.8125 62.3125 \nL 9.8125 71.09375 \nQ 15.4375 72.65625 20.34375 73.4375 \nQ 25.25 74.21875 29.59375 74.21875 \nQ 40.828125 74.21875 47.359375 69.109375 \nQ 53.90625 64.015625 53.90625 55.328125 \nQ 53.90625 49.265625 50.4375 45.09375 \nQ 46.96875 40.921875 40.578125 39.3125 \nz\n\" id=\"DejaVuSans-51\"/>\n     </defs>\n     <use xlink:href=\"#DejaVuSans-110\"/>\n     <use x=\"63.378906\" xlink:href=\"#DejaVuSans-111\"/>\n     <use x=\"124.560547\" xlink:href=\"#DejaVuSans-100\"/>\n     <use x=\"188.037109\" xlink:href=\"#DejaVuSans-101\"/>\n     <use x=\"249.560547\" xlink:href=\"#DejaVuSans-95\"/>\n     <use x=\"299.560547\" xlink:href=\"#DejaVuSans-51\"/>\n    </g>\n   </g>\n   <g id=\"text_2\">\n    <!-- add_5 -->\n    <g transform=\"translate(131.534794 129.556334)scale(0.1 -0.1)\">\n     <defs>\n      <path d=\"M 34.28125 27.484375 \nQ 23.390625 27.484375 19.1875 25 \nQ 14.984375 22.515625 14.984375 16.5 \nQ 14.984375 11.71875 18.140625 8.90625 \nQ 21.296875 6.109375 26.703125 6.109375 \nQ 34.1875 6.109375 38.703125 11.40625 \nQ 43.21875 16.703125 43.21875 25.484375 \nL 43.21875 27.484375 \nz\nM 52.203125 31.203125 \nL 52.203125 0 \nL 43.21875 0 \nL 43.21875 8.296875 \nQ 40.140625 3.328125 35.546875 0.953125 \nQ 30.953125 -1.421875 24.3125 -1.421875 \nQ 15.921875 -1.421875 10.953125 3.296875 \nQ 6 8.015625 6 15.921875 \nQ 6 25.140625 12.171875 29.828125 \nQ 18.359375 34.515625 30.609375 34.515625 \nL 43.21875 34.515625 \nL 43.21875 35.40625 \nQ 43.21875 41.609375 39.140625 45 \nQ 35.0625 48.390625 27.6875 48.390625 \nQ 23 48.390625 18.546875 47.265625 \nQ 14.109375 46.140625 10.015625 43.890625 \nL 10.015625 52.203125 \nQ 14.9375 54.109375 19.578125 55.046875 \nQ 24.21875 56 28.609375 56 \nQ 40.484375 56 46.34375 49.84375 \nQ 52.203125 43.703125 52.203125 31.203125 \nz\n\" id=\"DejaVuSans-97\"/>\n      <path d=\"M 10.796875 72.90625 \nL 49.515625 72.90625 \nL 49.515625 64.59375 \nL 19.828125 64.59375 \nL 19.828125 46.734375 \nQ 21.96875 47.46875 24.109375 47.828125 \nQ 26.265625 48.1875 28.421875 48.1875 \nQ 40.625 48.1875 47.75 41.5 \nQ 54.890625 34.8125 54.890625 23.390625 \nQ 54.890625 11.625 47.5625 5.09375 \nQ 40.234375 -1.421875 26.90625 -1.421875 \nQ 22.3125 -1.421875 17.546875 -0.640625 \nQ 12.796875 0.140625 7.71875 1.703125 \nL 7.71875 11.625 \nQ 12.109375 9.234375 16.796875 8.0625 \nQ 21.484375 6.890625 26.703125 6.890625 \nQ 35.15625 6.890625 40.078125 11.328125 \nQ 45.015625 15.765625 45.015625 23.390625 \nQ 45.015625 31 40.078125 35.4375 \nQ 35.15625 39.890625 26.703125 39.890625 \nQ 22.75 39.890625 18.8125 39.015625 \nQ 14.890625 38.140625 10.796875 36.28125 \nz\n\" id=\"DejaVuSans-53\"/>\n     </defs>\n     <use xlink:href=\"#DejaVuSans-97\"/>\n     <use x=\"61.279297\" xlink:href=\"#DejaVuSans-100\"/>\n     <use x=\"124.755859\" xlink:href=\"#DejaVuSans-100\"/>\n     <use x=\"188.232422\" xlink:href=\"#DejaVuSans-95\"/>\n     <use x=\"238.232422\" xlink:href=\"#DejaVuSans-53\"/>\n    </g>\n   </g>\n   <g id=\"text_3\">\n    <!-- node_4 -->\n    <g transform=\"translate(18.092736 208.391552)scale(0.1 -0.1)\">\n     <defs>\n      <path d=\"M 37.796875 64.3125 \nL 12.890625 25.390625 \nL 37.796875 25.390625 \nz\nM 35.203125 72.90625 \nL 47.609375 72.90625 \nL 47.609375 25.390625 \nL 58.015625 25.390625 \nL 58.015625 17.1875 \nL 47.609375 17.1875 \nL 47.609375 0 \nL 37.796875 0 \nL 37.796875 17.1875 \nL 4.890625 17.1875 \nL 4.890625 26.703125 \nz\n\" id=\"DejaVuSans-52\"/>\n     </defs>\n     <use xlink:href=\"#DejaVuSans-110\"/>\n     <use x=\"63.378906\" xlink:href=\"#DejaVuSans-111\"/>\n     <use x=\"124.560547\" xlink:href=\"#DejaVuSans-100\"/>\n     <use x=\"188.037109\" xlink:href=\"#DejaVuSans-101\"/>\n     <use x=\"249.560547\" xlink:href=\"#DejaVuSans-95\"/>\n     <use x=\"299.560547\" xlink:href=\"#DejaVuSans-52\"/>\n    </g>\n   </g>\n   <g id=\"text_4\">\n    <!-- save_and_exit_6 -->\n    <g transform=\"translate(271.856482 137.609061)scale(0.1 -0.1)\">\n     <defs>\n      <path d=\"M 44.28125 53.078125 \nL 44.28125 44.578125 \nQ 40.484375 46.53125 36.375 47.5 \nQ 32.28125 48.484375 27.875 48.484375 \nQ 21.1875 48.484375 17.84375 46.4375 \nQ 14.5 44.390625 14.5 40.28125 \nQ 14.5 37.15625 16.890625 35.375 \nQ 19.28125 33.59375 26.515625 31.984375 \nL 29.59375 31.296875 \nQ 39.15625 29.25 43.1875 25.515625 \nQ 47.21875 21.78125 47.21875 15.09375 \nQ 47.21875 7.46875 41.1875 3.015625 \nQ 35.15625 -1.421875 24.609375 -1.421875 \nQ 20.21875 -1.421875 15.453125 -0.5625 \nQ 10.6875 0.296875 5.421875 2 \nL 5.421875 11.28125 \nQ 10.40625 8.6875 15.234375 7.390625 \nQ 20.0625 6.109375 24.8125 6.109375 \nQ 31.15625 6.109375 34.5625 8.28125 \nQ 37.984375 10.453125 37.984375 14.40625 \nQ 37.984375 18.0625 35.515625 20.015625 \nQ 33.0625 21.96875 24.703125 23.78125 \nL 21.578125 24.515625 \nQ 13.234375 26.265625 9.515625 29.90625 \nQ 5.8125 33.546875 5.8125 39.890625 \nQ 5.8125 47.609375 11.28125 51.796875 \nQ 16.75 56 26.8125 56 \nQ 31.78125 56 36.171875 55.265625 \nQ 40.578125 54.546875 44.28125 53.078125 \nz\n\" id=\"DejaVuSans-115\"/>\n      <path d=\"M 2.984375 54.6875 \nL 12.5 54.6875 \nL 29.59375 8.796875 \nL 46.6875 54.6875 \nL 56.203125 54.6875 \nL 35.6875 0 \nL 23.484375 0 \nz\n\" id=\"DejaVuSans-118\"/>\n      <path d=\"M 54.890625 54.6875 \nL 35.109375 28.078125 \nL 55.90625 0 \nL 45.3125 0 \nL 29.390625 21.484375 \nL 13.484375 0 \nL 2.875 0 \nL 24.125 28.609375 \nL 4.6875 54.6875 \nL 15.28125 54.6875 \nL 29.78125 35.203125 \nL 44.28125 54.6875 \nz\n\" id=\"DejaVuSans-120\"/>\n      <path d=\"M 9.421875 54.6875 \nL 18.40625 54.6875 \nL 18.40625 0 \nL 9.421875 0 \nz\nM 9.421875 75.984375 \nL 18.40625 75.984375 \nL 18.40625 64.59375 \nL 9.421875 64.59375 \nz\n\" id=\"DejaVuSans-105\"/>\n      <path d=\"M 18.3125 70.21875 \nL 18.3125 54.6875 \nL 36.8125 54.6875 \nL 36.8125 47.703125 \nL 18.3125 47.703125 \nL 18.3125 18.015625 \nQ 18.3125 11.328125 20.140625 9.421875 \nQ 21.96875 7.515625 27.59375 7.515625 \nL 36.8125 7.515625 \nL 36.8125 0 \nL 27.59375 0 \nQ 17.1875 0 13.234375 3.875 \nQ 9.28125 7.765625 9.28125 18.015625 \nL 9.28125 47.703125 \nL 2.6875 47.703125 \nL 2.6875 54.6875 \nL 9.28125 54.6875 \nL 9.28125 70.21875 \nz\n\" id=\"DejaVuSans-116\"/>\n      <path d=\"M 33.015625 40.375 \nQ 26.375 40.375 22.484375 35.828125 \nQ 18.609375 31.296875 18.609375 23.390625 \nQ 18.609375 15.53125 22.484375 10.953125 \nQ 26.375 6.390625 33.015625 6.390625 \nQ 39.65625 6.390625 43.53125 10.953125 \nQ 47.40625 15.53125 47.40625 23.390625 \nQ 47.40625 31.296875 43.53125 35.828125 \nQ 39.65625 40.375 33.015625 40.375 \nz\nM 52.59375 71.296875 \nL 52.59375 62.3125 \nQ 48.875 64.0625 45.09375 64.984375 \nQ 41.3125 65.921875 37.59375 65.921875 \nQ 27.828125 65.921875 22.671875 59.328125 \nQ 17.53125 52.734375 16.796875 39.40625 \nQ 19.671875 43.65625 24.015625 45.921875 \nQ 28.375 48.1875 33.59375 48.1875 \nQ 44.578125 48.1875 50.953125 41.515625 \nQ 57.328125 34.859375 57.328125 23.390625 \nQ 57.328125 12.15625 50.6875 5.359375 \nQ 44.046875 -1.421875 33.015625 -1.421875 \nQ 20.359375 -1.421875 13.671875 8.265625 \nQ 6.984375 17.96875 6.984375 36.375 \nQ 6.984375 53.65625 15.1875 63.9375 \nQ 23.390625 74.21875 37.203125 74.21875 \nQ 40.921875 74.21875 44.703125 73.484375 \nQ 48.484375 72.75 52.59375 71.296875 \nz\n\" id=\"DejaVuSans-54\"/>\n     </defs>\n     <use xlink:href=\"#DejaVuSans-115\"/>\n     <use x=\"52.099609\" xlink:href=\"#DejaVuSans-97\"/>\n     <use x=\"113.378906\" xlink:href=\"#DejaVuSans-118\"/>\n     <use x=\"172.558594\" xlink:href=\"#DejaVuSans-101\"/>\n     <use x=\"234.082031\" xlink:href=\"#DejaVuSans-95\"/>\n     <use x=\"284.082031\" xlink:href=\"#DejaVuSans-97\"/>\n     <use x=\"345.361328\" xlink:href=\"#DejaVuSans-110\"/>\n     <use x=\"408.740234\" xlink:href=\"#DejaVuSans-100\"/>\n     <use x=\"472.216797\" xlink:href=\"#DejaVuSans-95\"/>\n     <use x=\"522.216797\" xlink:href=\"#DejaVuSans-101\"/>\n     <use x=\"581.990234\" xlink:href=\"#DejaVuSans-120\"/>\n     <use x=\"641.169922\" xlink:href=\"#DejaVuSans-105\"/>\n     <use x=\"668.953125\" xlink:href=\"#DejaVuSans-116\"/>\n     <use x=\"708.162109\" xlink:href=\"#DejaVuSans-95\"/>\n     <use x=\"758.162109\" xlink:href=\"#DejaVuSans-54\"/>\n    </g>\n   </g>\n  </g>\n </g>\n <defs>\n  <clipPath id=\"padba65665c\">\n   <rect height=\"217.44\" width=\"334.8\" x=\"7.2\" y=\"7.2\"/>\n  </clipPath>\n </defs>\n</svg>\n",
      "image/png": "[encoded data removed]"
     },
     "metadata": {}
    }
   ],
   "source": [
    "graph.draw(seed=1)"
   ]
  },
  {
   "cell_type": "markdown",
   "metadata": {},
   "source": [
    "See [draw_networkx](https://networkx.github.io/documentation/stable/reference/generated/networkx.drawing.nx_pylab.draw_networkx.html#networkx.drawing.nx_pylab.draw_networkx) for details on what parameters can be passed to draw.\n",
    "\n",
    "Note: NetworkX has limited drawing functionality and might not be suitable for visualising more complicated Deltaflow graphs.\n",
    "To visualise more complex graphs, it is recommended to use `graph.write_gml(path)`, which saves a GraphML file in the location specified by path.\n",
    "This file can then be imported to more powerful graph visualisation tools such as [Cytoscape](https://cytoscape.org/).\n",
    "See the [NetworkX](https://networkx.github.io/documentation/stable/reference/drawing.html) documentation for further details.\n",
    "\n",
    "To run a graph we need a runtime or a simulator, which takes a graph in its constructor.\n",
    "Here we use the python-based simulator provided with the language that can run graphs using\n",
    "Python (for CPU) and Migen (for FPGA) nodes.\n",
    "You will learn about Migen later."
   ]
  },
  {
   "cell_type": "code",
   "execution_count": 8,
   "metadata": {},
   "outputs": [
    {
     "output_type": "stream",
     "name": "stdout",
     "text": [
      "saving 7\n"
     ]
    }
   ],
   "source": [
    "# simply empty the memory before each re-run\n",
    "s.reset()\n",
    "\n",
    "rt = dl.DeltaPySimulator(graph)\n",
    "rt.run()\n",
    "\n",
    "assert s.saved == [7]"
   ]
  },
  {
   "cell_type": "markdown",
   "metadata": {},
   "source": [
    "During the execution of our graph, once both of the argument nodes have output their data,\n",
    "the `add` node will call our `add` block using the received data for its arguments.\n",
    "The `add` node then gets the return value from the `add` block and will pass it on to the `save_and_exit` node.\n",
    "This node will save its input within `s.saved` and then raise a `DeltaRuntimeExit` exception,\n",
    "which will cause the runtime to terminate.\n",
    "\n",
    "Note: Raising a `DeltaRuntimeExit` exception is currently the correct way to terminate\n",
    "the execution of a graph, which happens inside of `StateSaver`.\n",
    "Execution termination is managed by the runtime, raising this exception is just a way\n",
    "to signal to the runtime that execution should stop."
   ]
  }
 ],
 "metadata": {
  "kernelspec": {
   "name": "python3",
   "display_name": "Python 3.8.5 64-bit",
   "metadata": {
    "interpreter": {
     "hash": "767d51c1340bd893661ea55ea3124f6de3c7a262a8b4abca0554b478b1e2ff90"
    }
   }
  },
  "language_info": {
   "codemirror_mode": {
    "name": "ipython",
    "version": 3
   },
   "file_extension": ".py",
   "mimetype": "text/x-python",
   "name": "python",
   "nbconvert_exporter": "python",
   "pygments_lexer": "ipython3",
   "version": "3.8.5-final"
  }
 },
 "nbformat": 4,
 "nbformat_minor": 4
}