{
 "cells": [
  {
   "cell_type": "markdown",
   "metadata": {
    "pycharm": {
     "name": "#%% md\n"
    }
   },
   "source": [
    "## Use of global constant environment\n",
    "\n",
    "Global constants can be used by nodes.\n",
    "This is the main mechanism of providing environment\n",
    "parameters to the graph at the runtime stage.\n",
    "\n",
    "More generaly user can also use global constant environment, for instance\n",
    "``import`` statements.\n",
    "\n",
    "**The crucial point here is that it should be treated as constant, i.e. nodes must not modify or write to the environment. Unfortunately python is a flexible language and does not forbit this behaiviour thus it is in users' responsibilities.**\n",
    "\n",
    "### Proper use\n",
    "\n",
    "Let us take a look at the syntax in this simple example.\n",
    "It's always a good practice to capitalize globals to separate from local variables."
   ]
  },
  {
   "cell_type": "code",
   "execution_count": 1,
   "metadata": {},
   "outputs": [
    {
     "output_type": "stream",
     "name": "stdout",
     "text": [
      "saving 5\n"
     ]
    }
   ],
   "source": [
    "from deltalanguage.lib import make_state_saver\n",
    "from deltalanguage.runtime import DeltaPySimulator\n",
    "from deltalanguage.wiring import DeltaGraph, Interactive\n",
    "\n",
    "\n",
    "s = make_state_saver(int, verbose=True)\n",
    "\n",
    "\n",
    "# Graph stage: connect nodes in a graph\n",
    "# Example node that uses GLOBAL_PAR, which is not defined locally\n",
    "@Interactive({}, int)\n",
    "def foo(node):\n",
    "    node.send(GLOBAL_PAR)\n",
    "\n",
    "with DeltaGraph() as graph:\n",
    "    s.save_and_exit(foo.call())\n",
    "\n",
    "\n",
    "# Running stage: only now GLOBAL_PAR is defined\n",
    "GLOBAL_PAR = 5\n",
    "rt = DeltaPySimulator(graph)\n",
    "rt.run()\n",
    "\n",
    "\n",
    "# Just a check\n",
    "assert s.saved[-1] == 5"
   ]
  },
  {
   "source": [
    "### Dangerous use, do not repeat this at home\n",
    "\n",
    "Python provides a mechanism to turn global constants to global variables by using ``global``.\n",
    "\n",
    "Look at this example:"
   ],
   "cell_type": "markdown",
   "metadata": {}
  },
  {
   "cell_type": "code",
   "execution_count": 2,
   "metadata": {},
   "outputs": [
    {
     "output_type": "stream",
     "name": "stdout",
     "text": [
      "saving 10\n"
     ]
    }
   ],
   "source": [
    "# Graph stage:\n",
    "@Interactive({}, int)\n",
    "def bar(node):\n",
    "    global GLOBAL_PAR\n",
    "    GLOBAL_PAR += 5\n",
    "    node.send(GLOBAL_PAR)\n",
    "\n",
    "\n",
    "with DeltaGraph() as graph_bad:\n",
    "    s.save_and_exit(bar.call())\n",
    "\n",
    "\n",
    "# Running stage: only now GLOBAL_PAR is defined\n",
    "GLOBAL_PAR = 5\n",
    "rt = DeltaPySimulator(graph_bad)\n",
    "rt.run()\n",
    "\n",
    "\n",
    "# Just a check\n",
    "assert s.saved[-1] == 10"
   ]
  },
  {
   "source": [
    "While it might be handy in procedural programming to change global variables,\n",
    "it opens a dangerous door to side effects.\n",
    "This is especially dangerous in the Deltaflow programming paradigm,\n",
    "which operates with asyncrounous processes by default.\n",
    "Thus if multiple nodes modify the same global environment\n",
    "the result becomes non-deterministic!\n",
    "\n",
    "In the example above, imagine the same graph is ran again in the same environment. Run the next cell multiple times:"
   ],
   "cell_type": "markdown",
   "metadata": {}
  },
  {
   "cell_type": "code",
   "execution_count": 3,
   "metadata": {},
   "outputs": [
    {
     "output_type": "stream",
     "name": "stdout",
     "text": [
      "saving 15\n"
     ]
    }
   ],
   "source": [
    "rt = DeltaPySimulator(graph_bad)\n",
    "rt.run()\n",
    "\n",
    "assert s.saved[-1] != 10"
   ]
  },
  {
   "source": [
    "You see, the result changes due to environment even though the funtionality of nodes is the same.\n",
    "\n",
    "**We discourage users from modifing global variables (i.e. they should be constants),\n",
    "and more generaly changing the environment, from inside of a node.**"
   ],
   "cell_type": "markdown",
   "metadata": {}
  },
  {
   "source": [
    "### Use case\n",
    "\n",
    "Okay, now let's look at a more practical example with environment,\n",
    "still simplistic though.\n",
    "\n",
    "Say, some real experimental setup needs to be tested first,\n",
    "and the number of iterations is a suitable candidate for a global constant."
   ],
   "cell_type": "markdown",
   "metadata": {}
  },
  {
   "cell_type": "code",
   "execution_count": 4,
   "metadata": {},
   "outputs": [
    {
     "output_type": "stream",
     "name": "stdout",
     "text": [
      "FOO:  0\nFOO:  1\nFOO:  2\nsaving 3\n"
     ]
    }
   ],
   "source": [
    "# Graph stage: \n",
    "@Interactive({}, int)\n",
    "def baz(node):\n",
    "    for i in range(ITER_NUM):\n",
    "        # do some hefty stuff\n",
    "        print('FOO: ', i)\n",
    "    node.send(ITER_NUM)\n",
    "\n",
    "\n",
    "with DeltaGraph() as graph:\n",
    "    s.save_and_exit(baz.call())\n",
    "\n",
    "\n",
    "# Running stage: quick run for debugging\n",
    "ITER_NUM = 3\n",
    "rt_debug = DeltaPySimulator(graph)\n",
    "rt_debug.run()\n",
    "\n",
    "\n",
    "# Just a sanity check\n",
    "assert s.saved[-1] == 3"
   ]
  },
  {
   "source": [
    "Good, we've run a quick test and the program runs as expected on the simple debugging\n",
    "runtime system.\n",
    "\n",
    "The next step is to use it on real hardware where a lot of things can go wrong,\n",
    "but hopefully the most severe bugs have been picked up already.\n",
    "\n",
    "With global constants there is no need to redefine the graph,\n",
    "just plug it in the experiment runtime:"
   ],
   "cell_type": "markdown",
   "metadata": {}
  },
  {
   "cell_type": "code",
   "execution_count": 5,
   "metadata": {},
   "outputs": [
    {
     "output_type": "stream",
     "name": "stdout",
     "text": [
      "FOO:  0\nFOO:  1\nFOO:  2\nFOO:  3\nFOO:  4\nFOO:  5\nFOO:  6\nFOO:  7\nFOO:  8\nFOO:  9\nsaving 10\n"
     ]
    }
   ],
   "source": [
    "# Running stage: a much larger number of iterations\n",
    "ITER_NUM = 10\n",
    "rt_exp = DeltaPySimulator(graph)\n",
    "rt_exp.run()\n",
    "\n",
    "\n",
    "# Just a sanity check\n",
    "assert s.saved[-1] == 10"
   ]
  },
  {
   "source": [
    "This second run can be done on completely different hardware,\n",
    "ans since ``DeltaGraph`` is hardware agnostic the Graph stage need not to be redone,\n",
    "thus it should reduce the number of possible bugs."
   ],
   "cell_type": "markdown",
   "metadata": {}
  }
 ],
 "metadata": {
  "kernelspec": {
   "name": "python3",
   "display_name": "Python 3.8.5 64-bit",
   "metadata": {
    "interpreter": {
     "hash": "767d51c1340bd893661ea55ea3124f6de3c7a262a8b4abca0554b478b1e2ff90"
    }
   }
  },
  "language_info": {
   "codemirror_mode": {
    "name": "ipython",
    "version": 3
   },
   "file_extension": ".py",
   "mimetype": "text/x-python",
   "name": "python",
   "nbconvert_exporter": "python",
   "pygments_lexer": "ipython3",
   "version": "3.8.5-final"
  },
  "pycharm": {
   "stem_cell": {
    "cell_type": "raw",
    "source": [],
    "metadata": {
     "collapsed": false
    }
   }
  }
 },
 "nbformat": 4,
 "nbformat_minor": 1
}