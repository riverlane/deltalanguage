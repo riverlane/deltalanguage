{
 "cells": [
  {
   "cell_type": "markdown",
   "metadata": {},
   "source": [
    "# Deltaflow Data Types\n",
    "\n",
    "Deltaflow allows to work with anyncronous processes written in different programming languages (currently only Python and C/C++). In order to facilitate interaction between them we define the Deltaflow Types, which the user can use for data excange.\n",
    "\n",
    "## Design\n",
    "\n",
    "Our type system was designed around three principles:\n",
    "\n",
    "1. __Hardware Friendly__: a lightweight static system.\n",
    "\n",
    "2. __Sizeable Connections__: all types are sizeable so that the size of a\n",
    "    connection can be calculated in bits.\n",
    "\n",
    "3. __Block Re-Use__: when possible, we want to allow users to\n",
    "    encapsulate unique behaviour once and not have to re-write this with\n",
    "    different types.\n",
    "\n",
    "The system is informed by _Type Systems_ by Luca Cardelli, 1996."
   ]
  },
  {
   "source": [
    "## Main Types\n",
    "\n",
    "Below we highlight the main data types and show how they are used in the context of Python nodes. For Python users some of the steps might look not obvious but we will try to address them below and give our reasoning which mostly comes from hardware development and other strictly typed languages, as C/C++.\n"
   ],
   "cell_type": "markdown",
   "metadata": {}
  },
  {
   "source": [
    "### Primitive\n",
    "\n",
    "These are the main building blocks:\n",
    "\n",
    "- `DInt`: default 32-bit, maps to python `int`\n",
    "\n",
    "- `DUInt`: default 32-bit, maps to python `int`\n",
    "\n",
    "- `DBool`: 1-bit implementation, maps to python `bool`\n",
    "\n",
    "- `DChar`: 8-bit implementations for ASCII characters, does not have python analogue\n",
    "\n",
    "- `DFloat`: default 32-bit, maps to python `float`\n",
    "\n",
    "- `DComplex`: default 64-bit, maps to python `complex`\n",
    "\n",
    "Note that 16, 64, 128 bit versions are under development.\n",
    "\n",
    "The python types can be converted into them:"
   ],
   "cell_type": "markdown",
   "metadata": {}
  },
  {
   "cell_type": "code",
   "execution_count": 1,
   "metadata": {
    "tags": []
   },
   "outputs": [
    {
     "output_type": "stream",
     "name": "stdout",
     "text": [
      "DInt32\nDBool\nDFloat32\nDComplex64\n"
     ]
    }
   ],
   "source": [
    "import deltalanguage as dl\n",
    "\n",
    "print(dl.as_delta_type(int))\n",
    "print(dl.as_delta_type(bool))\n",
    "print(dl.as_delta_type(float))\n",
    "print(dl.as_delta_type(complex))"
   ]
  },
  {
   "cell_type": "code",
   "execution_count": 2,
   "metadata": {
    "tags": []
   },
   "outputs": [
    {
     "output_type": "stream",
     "name": "stdout",
     "text": [
      "DInt32\nDBool\nDFloat32\nDComplex64\n"
     ]
    }
   ],
   "source": [
    "print(dl.delta_type(-5))\n",
    "print(dl.delta_type(True))\n",
    "print(dl.delta_type(4.3))\n",
    "print(dl.delta_type(3 + 5j))"
   ]
  },
  {
   "source": [
    "And in the opposite direction:"
   ],
   "cell_type": "markdown",
   "metadata": {}
  },
  {
   "cell_type": "code",
   "execution_count": 3,
   "metadata": {
    "tags": []
   },
   "outputs": [
    {
     "output_type": "stream",
     "name": "stdout",
     "text": [
      "<class 'int'>\n<class 'int'>\n<class 'bool'>\n<class 'float'>\n<class 'complex'>\n"
     ]
    }
   ],
   "source": [
    "print(dl.DInt().as_python_type())\n",
    "print(dl.DUInt().as_python_type())\n",
    "print(dl.DBool().as_python_type())\n",
    "print(dl.DFloat().as_python_type())\n",
    "print(dl.DComplex().as_python_type())"
   ]
  },
  {
   "source": [
    "### Compound (Non Primitive)\n",
    "\n",
    "These types allow users to exchange more complicated blobs of data:\n",
    "\n",
    "- `DTuple`: bundles a fixed number of fixed type elements together, maps to python `Tuple`\n",
    "\n",
    "- `DArray`: as `DTuple` but with the same type elements,\n",
    "    maps to python `List`\n",
    "\n",
    "- `DStr`: `DArray` of `DChar`, default length is 1024, maps to python `str`\n",
    "\n",
    "- `DRecord`: as `DTuple` but keyworded, maps to classes with attributes created\n",
    "    via [attrs](http://www.attrs.org/en/stable/index.html)\n",
    "\n",
    "- `DUnion`: used to define sereral types, the meta information about the type\n",
    "    is stored in the extra buffer; maps to python `Union`\n",
    "\n",
    "Let's see a few examples:"
   ],
   "cell_type": "markdown",
   "metadata": {}
  },
  {
   "cell_type": "code",
   "execution_count": 4,
   "metadata": {
    "tags": []
   },
   "outputs": [
    {
     "output_type": "stream",
     "name": "stdout",
     "text": [
      "(DInt32, DBool, DFloat32)\n[DFloat32 x 3]\nDStr88\n"
     ]
    }
   ],
   "source": [
    "print(dl.delta_type((-5, False, 2.5)))\n",
    "print(dl.delta_type([4.5, 3.2, -1.0]))\n",
    "print(dl.delta_type('Hello World'))"
   ]
  },
  {
   "source": [
    "`DRecord` example requires import of `attr` and creation of a special container:"
   ],
   "cell_type": "markdown",
   "metadata": {}
  },
  {
   "cell_type": "code",
   "execution_count": 5,
   "metadata": {
    "tags": []
   },
   "outputs": [
    {
     "output_type": "stream",
     "name": "stdout",
     "text": [
      "{x: DBool, y: DInt32}\n"
     ]
    }
   ],
   "source": [
    "import attr\n",
    "\n",
    "@attr.s(slots=True)\n",
    "class RecBI:\n",
    "\n",
    "    x: bool = attr.ib()\n",
    "    y: int = attr.ib()\n",
    "\n",
    "print(dl.delta_type(RecBI(x=True, y=41)))"
   ]
  },
  {
   "source": [
    "The data types of Deltaflow and Python, which have 1-2-1 mapping, can be used interchangably:"
   ],
   "cell_type": "markdown",
   "metadata": {}
  },
  {
   "cell_type": "code",
   "execution_count": 6,
   "metadata": {
    "tags": []
   },
   "outputs": [
    {
     "output_type": "stream",
     "name": "stdout",
     "text": [
      "(DInt32, DFloat32)\n"
     ]
    }
   ],
   "source": [
    "print(dl.DTuple([int, dl.DFloat()]))"
   ]
  },
  {
   "source": [
    "`DUnion` should be defined like this, and can contain as many types as you wish:"
   ],
   "cell_type": "markdown",
   "metadata": {}
  },
  {
   "cell_type": "code",
   "execution_count": 7,
   "metadata": {
    "tags": []
   },
   "outputs": [
    {
     "output_type": "stream",
     "name": "stdout",
     "text": [
      "<DFloat32 | DInt32>\n"
     ]
    }
   ],
   "source": [
    "print(dl.DUnion([int, float]))"
   ]
  },
  {
   "source": [
    "Note that `DUnion` does not simplify in case of one type (unlike `Union`) and since it have a specific packing format it cannot be accepted as that type."
   ],
   "cell_type": "markdown",
   "metadata": {}
  },
  {
   "cell_type": "code",
   "execution_count": 8,
   "metadata": {
    "tags": []
   },
   "outputs": [
    {
     "output_type": "stream",
     "name": "stdout",
     "text": [
      "<DInt32>\n"
     ]
    }
   ],
   "source": [
    "print(dl.DUnion([int]))\n",
    "assert dl.DUnion([int]) != dl.DInt()"
   ]
  },
  {
   "source": [
    "### Special\n",
    "\n",
    "These are all unique classes which require an individual approach. They all relate to the data types, which is why they are covered here. In short,\n",
    "\n",
    "- `DSize`: defines the type's size, can be a placeholder\n",
    "\n",
    "- `Void`: used in case without any output\n",
    "\n",
    "- `Top`: abstract type, maps to python `object`\n",
    "\n",
    "- `DRaw`: maps from a base type to an integer containing that type's binary representation\n",
    "\n",
    "Now in more detail.\n",
    "\n",
    "#### `DSize`\n",
    "\n",
    "You have noted (I hope) that in the current implementation the Deltaflow types are instances of classes, and not just the class. It's because almost all types can be defined with the precisions, which is defined via the number of bits this data type is stored in:"
   ],
   "cell_type": "markdown",
   "metadata": {}
  },
  {
   "cell_type": "code",
   "execution_count": 9,
   "metadata": {
    "tags": []
   },
   "outputs": [
    {
     "output_type": "stream",
     "name": "stdout",
     "text": [
      "b'00000000000000000000000000001111'\nb'0000000000000000000000000000000000000000000000000000000000001111'\n"
     ]
    }
   ],
   "source": [
    "# 32 bits\n",
    "print(dl.DInt(dl.DSize(32)).pack(15))\n",
    "# 64 bits\n",
    "print(dl.DInt(dl.DSize(64)).pack(15))\n",
    "\n",
    "# these types are different\n",
    "assert dl.DInt(dl.DSize(32)) != dl.DInt(dl.DSize(64))\n",
    "\n",
    "# can you read it? ;)"
   ]
  },
  {
   "source": [
    "Another use of this type is to define the length of `DArray` and `DStr`:"
   ],
   "cell_type": "markdown",
   "metadata": {}
  },
  {
   "cell_type": "code",
   "execution_count": 10,
   "metadata": {
    "tags": []
   },
   "outputs": [
    {
     "output_type": "stream",
     "name": "stdout",
     "text": [
      "b'0000000000000000000000000000111100000000000000000000000011111111'\nFalse\n"
     ]
    }
   ],
   "source": [
    "# 32 bits x 2 = 64 bits\n",
    "print(dl.DArray(dl.DInt(), dl.DSize(2)).pack([15, 255]))\n",
    "\n",
    "# these types are different\n",
    "print(dl.DArray(dl.DInt(), dl.DSize(2)) == dl.DArray(dl.DInt(), dl.DSize(3)))"
   ]
  },
  {
   "source": [
    "`DUnion` has a unique packing system:"
   ],
   "cell_type": "markdown",
   "metadata": {}
  },
  {
   "cell_type": "code",
   "execution_count": 11,
   "metadata": {
    "tags": []
   },
   "outputs": [
    {
     "output_type": "stream",
     "name": "stdout",
     "text": [
      "b'0000000000000000000000000000000100000001'\nb'1000000000000000000000000000000000000000'\n"
     ]
    }
   ],
   "source": [
    "# The last eight bits stores that information about the data type.\n",
    "# The rest of the buffer has the same size as the largest type\n",
    "# 32 bits in this case.\n",
    "# So in total it's 40 bits.\n",
    "print(dl.DUnion([dl.DInt(), dl.DBool()]).pack(1))\n",
    "print(dl.DUnion([dl.DInt(), dl.DBool()]).pack(True))"
   ]
  },
  {
   "source": [
    "Try to pack more complicated data types if you wish.\n",
    "\n",
    "#### `Void`\n",
    "\n",
    "In case if a node does not have any output channels use this class in the return statement. If the node may or may not send a message you need to create a channel by specifying the output type.\n",
    "\n",
    "#### `Top`\n",
    "\n",
    "This type is used for debugging mostly as any data type can be accepted as `Top`. However this rule is not applied to subtypes of compound types as it will break their packing mechanism, e.g. `DTuple([int, int])` cannot be received as `DTuple([int, Top()]`. Note that `Top` cannot be used within the SystemC runtime, which requires stricter typing.\n",
    "\n",
    "Both `Void` and `Top` can be illustrated in this example:"
   ],
   "cell_type": "markdown",
   "metadata": {}
  },
  {
   "cell_type": "code",
   "execution_count": 12,
   "metadata": {
    "tags": []
   },
   "outputs": [
    {
     "output_type": "stream",
     "name": "stdout",
     "text": [
      "Hello  5\n"
     ]
    }
   ],
   "source": [
    "@dl.DeltaBlock(allow_const=False)\n",
    "def return5() -> int:\n",
    "    return 5\n",
    "\n",
    "@dl.DeltaBlock(allow_const=False)\n",
    "def print_and_exit(a: dl.Top()) -> dl.Void:\n",
    "    print('Hello ', a)\n",
    "    raise dl.DeltaRuntimeExit\n",
    "\n",
    "with dl.DeltaGraph() as graph:\n",
    "    print_and_exit(return5())\n",
    "\n",
    "rt = dl.DeltaPySimulator(graph)\n",
    "rt.run()"
   ]
  },
  {
   "source": [
    "Try:\n",
    "- Use python's `object` instead of `Top()` with the same effect.\n",
    "- Use a wrong type, like `float`, and see that an error is raised.\n",
    "\n",
    "#### `DRaw`\n",
    "\n",
    "`DRaw` is a special type used to allow support of more types with languages for low-level programming such as Migen. Because these languages require inputs to be specified as a binary signal, `DRaw` provides methods `as_bits` and `from_bits` to convert data to a binary signal and back. This allows us to use other types such as floating point numbers within these nodes."
   ],
   "cell_type": "markdown",
   "metadata": {}
  },
  {
   "cell_type": "code",
   "execution_count": 13,
   "metadata": {},
   "outputs": [
    {
     "output_type": "stream",
     "name": "stdout",
     "text": [
      "Input in bits: b'00111111000000000000000000000000'\nInput as float: 0.5\n"
     ]
    }
   ],
   "source": [
    "raw_type = dl.DRaw(float)\n",
    "\n",
    "@dl.DeltaBlock(allow_const=False)\n",
    "def return_half() -> raw_type:\n",
    "    return raw_type.as_bits(0.5)\n",
    "\n",
    "@dl.DeltaBlock(allow_const=False)\n",
    "def print_raw_and_bits(a: raw_type) -> dl.Void:\n",
    "    print(\"Input in bits:\", raw_type.pack(a))\n",
    "    print(\"Input as float:\", raw_type.from_bits(a))\n",
    "    raise dl.DeltaRuntimeExit\n",
    "\n",
    "with dl.DeltaGraph() as graph:\n",
    "    print_raw_and_bits(a=return_half())\n",
    "\n",
    "rt = dl.DeltaPySimulator(graph)\n",
    "rt.run()"
   ]
  },
  {
   "source": [
    "## NumPy\n",
    "\n",
    "[NumPy](https://numpy.org/) is a popular library for numerical computation in Python. While Deltaflow does not provide full compatibility with NumPy, we support a number of use cases, including many primitive types and some structures of `numpy.ndarray`.\n",
    "\n",
    "For a Deltaflow data type, the method `as_numpy_object` will produce an equivalent NumPy object, and the method `from_numpy_object` will take a NumPy array and reconstruct the original object from it. Deltaflow types also have an `as_numpy_type` method, which produces a data type which can be used in a NumPy array.\n",
    "\n",
    "NumPy has its own implementations of primitive data types, which can be mapped to Deltaflow's own primitive types. See [here](https://numpy.org/devdocs/user/basics.types.html#array-types-and-conversions-between-types) for a full list of NumPy's primitive types. Nearly all fixed-size primitive types in NumPy are supported, with the only exceptions being `numpy.intp` and `numpy.uintp`, which do not have an equivalent type in Deltaflow. Some platform-defined types might be supported depending on implementation, but as a rule of thumb it is safer to use NumPy's fixed-size primitive types."
   ],
   "cell_type": "markdown",
   "metadata": {}
  },
  {
   "cell_type": "code",
   "execution_count": 14,
   "metadata": {},
   "outputs": [
    {
     "output_type": "stream",
     "name": "stdout",
     "text": [
      "DBool\nDChar8\nDInt32\nDUInt32\nDFloat32\nDComplex64\n<class 'numpy.bool_'>\n<class 'numpy.uint8'>\n<class 'numpy.int32'>\n<class 'numpy.uint32'>\n<class 'numpy.float32'>\n<class 'numpy.complex64'>\n"
     ]
    }
   ],
   "source": [
    "import numpy as np\n",
    "\n",
    "print(dl.as_delta_type(np.bool_))\n",
    "print(dl.as_delta_type(np.ubyte))\n",
    "print(dl.as_delta_type(np.int32))\n",
    "print(dl.as_delta_type(np.uint32))\n",
    "print(dl.as_delta_type(np.float32))\n",
    "print(dl.as_delta_type(np.complex64))\n",
    "\n",
    "print(dl.DBool().as_numpy_type())\n",
    "print(dl.DChar().as_numpy_type())\n",
    "print(dl.DInt().as_numpy_type())\n",
    "print(dl.DUInt().as_numpy_type())\n",
    "print(dl.DFloat().as_numpy_type())\n",
    "print(dl.DComplex().as_numpy_type())"
   ]
  },
  {
   "source": [
    "Compound types can also be mapped to NumPy data structures through the methods mentioned above.\n",
    "The simplest example is `DArray`, which maps to a 1-dimensional `numpy.ndarray`."
   ],
   "cell_type": "markdown",
   "metadata": {}
  },
  {
   "cell_type": "code",
   "execution_count": 15,
   "metadata": {},
   "outputs": [
    {
     "output_type": "stream",
     "name": "stdout",
     "text": [
      "[1 2 3 4 5]\n"
     ]
    }
   ],
   "source": [
    "np_array = dl.DArray(int, dl.DSize(5)).as_numpy_object([1, 2, 3, 4, 5])\n",
    "print(np_array)\n",
    "\n",
    "original_array = dl.DArray(int, dl.DSize(5)).from_numpy_object(np_array)\n",
    "assert original_array == [1, 2, 3, 4, 5]"
   ]
  },
  {
   "source": [
    "`DStr` is a special case of `DArray`, and maps to `numpy.string_` rather than `numpy.ndarray`, which is an ASCII-encoded string."
   ],
   "cell_type": "markdown",
   "metadata": {}
  },
  {
   "cell_type": "code",
   "execution_count": 16,
   "metadata": {},
   "outputs": [
    {
     "output_type": "stream",
     "name": "stdout",
     "text": [
      "b'Hello world!'\n"
     ]
    }
   ],
   "source": [
    "np_str = dl.DStr(dl.DSize(12)).as_numpy_object(\"Hello world!\")\n",
    "print(np_str)\n",
    "assert chr(np_str[4]) == 'o'\n",
    "\n",
    "original_str = dl.DStr(dl.DSize(12)).from_numpy_object(np_str)\n",
    "assert original_str == \"Hello world!\""
   ]
  },
  {
   "source": [
    "Note that multidimensional NumPy arrays are not currently supported, as `DArray` types are one-dimensional.\n",
    "\n",
    "`DTuple` and `DRecord` objects also have equivalent NumPy types, which are a single-row `numpy.ndarray` whose columns are different types. Elements from a `DTuple` can be accessed by integer indexing, whereas elements from a `DRecord` can be accessed as attributes."
   ],
   "cell_type": "markdown",
   "metadata": {}
  },
  {
   "cell_type": "code",
   "execution_count": 17,
   "metadata": {},
   "outputs": [
    {
     "output_type": "stream",
     "name": "stdout",
     "text": [
      "[( True, 99, 5)]\n[( True, 5)]\n"
     ]
    }
   ],
   "source": [
    "np_tuple = dl.DTuple([bool, dl.DChar(), int]).as_numpy_object((True, 'c', 5))\n",
    "# Recall DChar objects are stored in their ASCII format\n",
    "print(np_tuple)\n",
    "assert chr(np_tuple[0][1]) == 'c'\n",
    "original_tuple = dl.DTuple([bool, dl.DChar(), int]).from_numpy_object(np_tuple)\n",
    "assert original_tuple == (True, 'c', 5)\n",
    "\n",
    "np_record = dl.DRecord(RecBI).as_numpy_object(RecBI(True, 5))\n",
    "print(np_record)\n",
    "assert np_record[0].y == 5\n",
    "original_record = dl.DRecord(RecBI).from_numpy_object(np_record)\n",
    "assert original_record == RecBI(True, 5)"
   ]
  },
  {
   "source": [
    "Finally, `DUnion` also has a NumPy object, which is a single-row `numpy.ndarray` whose columns have the same byte offset.\n",
    "However, note that unlike the other types, there is no equivalent method for converting back to a `DUnion` object,\n",
    "because the current type is not stored. Instead, the user needs to know which type is the correct type."
   ],
   "cell_type": "markdown",
   "metadata": {}
  },
  {
   "cell_type": "code",
   "execution_count": 18,
   "metadata": {},
   "outputs": [
    {
     "output_type": "stream",
     "name": "stdout",
     "text": [
      "[( True, 0., 5)]\n[(False, 3.5, 1080033280)]\n"
     ]
    }
   ],
   "source": [
    "# Columns in NumPy unions are indexed by names\n",
    "np_union = dl.DUnion([bool, float, int]).as_numpy_object(5)\n",
    "print(np_union)\n",
    "original_union = np_union[0][\"DInt32\"]\n",
    "assert original_union == 5\n",
    "\n",
    "# Alternatively, they can be indexed in alphabetical order\n",
    "np_union = dl.DUnion([bool, float, int]).as_numpy_object(3.5)\n",
    "print(np_union)\n",
    "original_union = np_union[0][1]\n",
    "assert original_union == 3.5"
   ]
  },
  {
   "source": [
    "## Common Pitfalls\n",
    "\n",
    "These are the most common mistakes for python users:\n",
    "\n",
    "- Don't forget to use instances of the type class, `DBool()`, and not just class, `DBool`.\n",
    "\n",
    "- Deltaflow does not to have type conversion or casting.\n",
    "Thus the primitive types are not related to each other,\n",
    "for instance `DBool()` can not be cast to `DUInt()` as it can with python.\n",
    "The silent casting on python can cause an problem for Deltaflow.\n",
    "\n",
    "- Typed data channels (a.k.a. wires, streams) connect nodes' input and output ports.\n",
    "The types of the sender port should match the receiving port. `Top()` can be used\n",
    "at the receiving side for quick debugging but should be the matching type when used\n",
    "beyond the Python runtime.\n",
    "\n",
    "- `DUnion` with a single type is not equal to that type as they have different\n",
    "packing mechanisms; an attempt to create a channel between these two types\n",
    "will raise an error."
   ],
   "cell_type": "markdown",
   "metadata": {}
  }
 ],
 "metadata": {
  "file_extension": ".py",
  "kernelspec": {
   "name": "python3",
   "display_name": "Python 3.8.5 64-bit",
   "metadata": {
    "interpreter": {
     "hash": "767d51c1340bd893661ea55ea3124f6de3c7a262a8b4abca0554b478b1e2ff90"
    }
   }
  },
  "language_info": {
   "codemirror_mode": {
    "name": "ipython",
    "version": 3
   },
   "file_extension": ".py",
   "mimetype": "text/x-python",
   "name": "python",
   "nbconvert_exporter": "python",
   "pygments_lexer": "ipython3",
   "version": "3.8.5-final"
  },
  "mimetype": "text/x-python",
  "name": "python",
  "npconvert_exporter": "python",
  "pycharm": {
   "stem_cell": {
    "cell_type": "raw",
    "source": [],
    "metadata": {
     "collapsed": false
    }
   }
  },
  "pygments_lexer": "ipython3",
  "version": 3
 },
 "nbformat": 4,
 "nbformat_minor": 2
}